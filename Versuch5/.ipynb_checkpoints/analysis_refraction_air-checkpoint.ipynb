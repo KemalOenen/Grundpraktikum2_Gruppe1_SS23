{
 "cells": [
  {
   "cell_type": "markdown",
   "id": "7c7fdbc6",
   "metadata": {},
   "source": [
    "## Experiment 5: Michelson-Interferometer"
   ]
  },
  {
   "cell_type": "markdown",
   "id": "48e8a34a",
   "metadata": {},
   "source": [
    "(@everyone: please only write in the respective notebook that you are assigned to, to avoid merge conflicts) (I will then put everything in a collective notebook for the advisors)"
   ]
  },
  {
   "cell_type": "code",
   "execution_count": 1,
   "id": "401f6ad2",
   "metadata": {},
   "outputs": [],
   "source": [
    "# I would recommend to get yourself the uncertainties package, otherwise you can comment all of this out\n",
    "# https://pythonhosted.org/uncertainties/\n",
    "from uncertainties import ufloat\n",
    "from uncertainties.umath import *  # sin(), etc.\n",
    "import uncertainties.umath"
   ]
  },
  {
   "cell_type": "code",
   "execution_count": 2,
   "id": "6810e6dc",
   "metadata": {},
   "outputs": [],
   "source": [
    "import numpy as np\n",
    "import pandas as pd\n",
    "import matplotlib.pyplot as plt\n",
    "import seaborn as sns"
   ]
  },
  {
   "cell_type": "markdown",
   "id": "7ef93fc2",
   "metadata": {},
   "source": [
    "### Measurement of the refraction index of air"
   ]
  },
  {
   "cell_type": "markdown",
   "id": "a96ac9ab",
   "metadata": {},
   "source": [
    "procedure:\n",
    "1. read in raw data\n",
    "2. determine $\\delta n$ from the ring count\n",
    "3. determine $\\delta p$ from the raw data\n",
    "4. determine $\\delta n$/ $\\delta p$\n",
    "5. use a linear relationship with the boundary condition that n(0) = 1 $\\Longrightarrow$ n(p) = 1 + $\\delta p$/$\\delta p$ $\\cdot$ p to determine n for air"
   ]
  },
  {
   "cell_type": "code",
   "execution_count": 4,
   "id": "4b198008",
   "metadata": {},
   "outputs": [
    {
     "data": {
      "text/html": [
       "<div>\n",
       "<style scoped>\n",
       "    .dataframe tbody tr th:only-of-type {\n",
       "        vertical-align: middle;\n",
       "    }\n",
       "\n",
       "    .dataframe tbody tr th {\n",
       "        vertical-align: top;\n",
       "    }\n",
       "\n",
       "    .dataframe thead th {\n",
       "        text-align: right;\n",
       "    }\n",
       "</style>\n",
       "<table border=\"1\" class=\"dataframe\">\n",
       "  <thead>\n",
       "    <tr style=\"text-align: right;\">\n",
       "      <th></th>\n",
       "      <th>Measurement</th>\n",
       "      <th>Ringcount</th>\n",
       "      <th>pressure (mbar)</th>\n",
       "      <th>error pressure (mbar)</th>\n",
       "      <th>Ringcount error</th>\n",
       "    </tr>\n",
       "  </thead>\n",
       "  <tbody>\n",
       "    <tr>\n",
       "      <th>0</th>\n",
       "      <td>1</td>\n",
       "      <td>5</td>\n",
       "      <td>-160</td>\n",
       "      <td>20</td>\n",
       "      <td>1</td>\n",
       "    </tr>\n",
       "    <tr>\n",
       "      <th>1</th>\n",
       "      <td>2</td>\n",
       "      <td>4</td>\n",
       "      <td>-300</td>\n",
       "      <td>20</td>\n",
       "      <td>1</td>\n",
       "    </tr>\n",
       "    <tr>\n",
       "      <th>2</th>\n",
       "      <td>3</td>\n",
       "      <td>4</td>\n",
       "      <td>-420</td>\n",
       "      <td>20</td>\n",
       "      <td>1</td>\n",
       "    </tr>\n",
       "    <tr>\n",
       "      <th>3</th>\n",
       "      <td>4</td>\n",
       "      <td>2</td>\n",
       "      <td>-500</td>\n",
       "      <td>20</td>\n",
       "      <td>1</td>\n",
       "    </tr>\n",
       "    <tr>\n",
       "      <th>4</th>\n",
       "      <td>5</td>\n",
       "      <td>2</td>\n",
       "      <td>-570</td>\n",
       "      <td>20</td>\n",
       "      <td>1</td>\n",
       "    </tr>\n",
       "    <tr>\n",
       "      <th>5</th>\n",
       "      <td>6</td>\n",
       "      <td>2</td>\n",
       "      <td>-620</td>\n",
       "      <td>20</td>\n",
       "      <td>1</td>\n",
       "    </tr>\n",
       "    <tr>\n",
       "      <th>6</th>\n",
       "      <td>7</td>\n",
       "      <td>1</td>\n",
       "      <td>-660</td>\n",
       "      <td>20</td>\n",
       "      <td>1</td>\n",
       "    </tr>\n",
       "    <tr>\n",
       "      <th>7</th>\n",
       "      <td>8</td>\n",
       "      <td>2</td>\n",
       "      <td>-720</td>\n",
       "      <td>20</td>\n",
       "      <td>1</td>\n",
       "    </tr>\n",
       "    <tr>\n",
       "      <th>8</th>\n",
       "      <td>9</td>\n",
       "      <td>1</td>\n",
       "      <td>-750</td>\n",
       "      <td>20</td>\n",
       "      <td>1</td>\n",
       "    </tr>\n",
       "    <tr>\n",
       "      <th>9</th>\n",
       "      <td>10</td>\n",
       "      <td>1</td>\n",
       "      <td>-780</td>\n",
       "      <td>20</td>\n",
       "      <td>1</td>\n",
       "    </tr>\n",
       "  </tbody>\n",
       "</table>\n",
       "</div>"
      ],
      "text/plain": [
       "   Measurement   Ringcount   pressure (mbar)  error pressure (mbar)  \\\n",
       "0            1           5              -160                     20   \n",
       "1            2           4              -300                     20   \n",
       "2            3           4              -420                     20   \n",
       "3            4           2              -500                     20   \n",
       "4            5           2              -570                     20   \n",
       "5            6           2              -620                     20   \n",
       "6            7           1              -660                     20   \n",
       "7            8           2              -720                     20   \n",
       "8            9           1              -750                     20   \n",
       "9           10           1              -780                     20   \n",
       "\n",
       "   Ringcount error  \n",
       "0                1  \n",
       "1                1  \n",
       "2                1  \n",
       "3                1  \n",
       "4                1  \n",
       "5                1  \n",
       "6                1  \n",
       "7                1  \n",
       "8                1  \n",
       "9                1  "
      ]
     },
     "execution_count": 4,
     "metadata": {},
     "output_type": "execute_result"
    }
   ],
   "source": [
    "data = pd.read_csv(\"Refraction_air.csv\", sep=\",\")\n",
    "data[\"error pressure (mbar)\"] = 20\n",
    "data[\"Ringcount error\"] = 1\n",
    "data"
   ]
  },
  {
   "cell_type": "markdown",
   "id": "a7ebb9d1",
   "metadata": {},
   "source": [
    "$m = \\Delta S = \\dfrac{2\\cdot l}{\\lambda_0} \\delta n \\Longrightarrow \\delta n = \\dfrac{m \\cdot \\lambda_0}{2\\cdot l}$"
   ]
  },
  {
   "cell_type": "code",
   "execution_count": 90,
   "id": "39659f40",
   "metadata": {},
   "outputs": [
    {
     "data": {
      "text/plain": [
       "6.328e-07"
      ]
     },
     "execution_count": 90,
     "metadata": {},
     "output_type": "execute_result"
    }
   ],
   "source": [
    "lambda_0 = 632.8e-9 #m\n",
    "lambda_0"
   ]
  },
  {
   "cell_type": "code",
   "execution_count": 91,
   "id": "7a7770fa",
   "metadata": {},
   "outputs": [],
   "source": [
    "l=ufloat(37.50e-3,0.05e-3) #meter"
   ]
  },
  {
   "cell_type": "markdown",
   "id": "fdaaec4c",
   "metadata": {},
   "source": [
    "#### instead of looking at ringcounts and pressure differences between each measurements ==> additive approach ==> greater area"
   ]
  },
  {
   "cell_type": "code",
   "execution_count": 58,
   "id": "0f2882aa",
   "metadata": {},
   "outputs": [],
   "source": [
    "ringcounts = np.array([ufloat(0,0),ufloat(0,0),ufloat(0,0),ufloat(0,0),ufloat(0,0),\n",
    "                       ufloat(0,0),ufloat(0,0),ufloat(0,0),ufloat(0,0),ufloat(0,0)])\n",
    "for i in range(len(ringcounts)):\n",
    "    if i == 0:\n",
    "        ringcounts[i] = ufloat(5,1)\n",
    "    else:\n",
    "        ringcounts[i] = ringcounts[i-1] + ufloat(data[\" Ringcount\"][i], data[\"Ringcount error\"][i])"
   ]
  },
  {
   "cell_type": "code",
   "execution_count": 59,
   "id": "b91eab58",
   "metadata": {},
   "outputs": [
    {
     "data": {
      "text/plain": [
       "array([5.0+/-1.0, 9.0+/-1.4142135623730951, 13.0+/-1.7320508075688772,\n",
       "       15.0+/-2.0, 17.0+/-2.23606797749979, 19.0+/-2.449489742783178,\n",
       "       20.0+/-2.6457513110645907, 22.0+/-2.8284271247461903, 23.0+/-3.0,\n",
       "       24.0+/-3.1622776601683795], dtype=object)"
      ]
     },
     "execution_count": 59,
     "metadata": {},
     "output_type": "execute_result"
    }
   ],
   "source": [
    "ringcounts"
   ]
  },
  {
   "cell_type": "code",
   "execution_count": 60,
   "id": "1a17c77b",
   "metadata": {},
   "outputs": [
    {
     "data": {
      "text/plain": [
       "array([4.218666666666667e-05+/-8.437520827546383e-06,\n",
       "       7.5936e-05+/-1.1932620781415102e-05,\n",
       "       0.00010968533333333334+/-1.4614621772418255e-05,\n",
       "       0.00012656+/-1.6875510378907723e-05,\n",
       "       0.00014343466666666668+/-1.8867420173579724e-05,\n",
       "       0.00016030933333333335+/-2.066826673730007e-05,\n",
       "       0.00016874666666666667+/-2.2324219570781507e-05,\n",
       "       0.00018562133333333334+/-2.3865665799475322e-05,\n",
       "       0.00019405866666666669+/-2.531332243933076e-05,\n",
       "       0.000202496+/-2.6682556753388648e-05], dtype=object)"
      ]
     },
     "execution_count": 60,
     "metadata": {},
     "output_type": "execute_result"
    }
   ],
   "source": [
    "delta_n = ringcounts*lambda_0/(l*2)\n",
    "delta_n"
   ]
  },
  {
   "cell_type": "code",
   "execution_count": 61,
   "id": "e9052768",
   "metadata": {},
   "outputs": [],
   "source": [
    "delta_p = delta_n\n",
    "for i in range(len(data[\" pressure (mbar)\"])):\n",
    "    delta_p[i] = ufloat(abs(data[\" pressure (mbar)\"][i]), 20)"
   ]
  },
  {
   "cell_type": "code",
   "execution_count": 93,
   "id": "0767fe8e",
   "metadata": {},
   "outputs": [
    {
     "data": {
      "text/plain": [
       "array([0.42186666666666667+/-0.08437520827546385,\n",
       "       0.75936+/-0.11932620781415104,\n",
       "       1.0968533333333335+/-0.14614621772418254,\n",
       "       1.2656+/-0.16875510378907724,\n",
       "       1.4343466666666669+/-0.18867420173579727,\n",
       "       1.6030933333333335+/-0.20668266737300073,\n",
       "       1.6874666666666667+/-0.22324219570781512,\n",
       "       1.8562133333333333+/-0.23865665799475327,\n",
       "       1.940586666666667+/-0.2531332243933076,\n",
       "       2.02496+/-0.26682556753388653], dtype=object)"
      ]
     },
     "execution_count": 93,
     "metadata": {},
     "output_type": "execute_result"
    }
   ],
   "source": [
    "delta_n = ringcounts*lambda_0/(l*2)\n",
    "delta_n*1e4"
   ]
  },
  {
   "cell_type": "code",
   "execution_count": 63,
   "id": "278f5e55",
   "metadata": {},
   "outputs": [
    {
     "data": {
      "text/plain": [
       "array([160.0+/-20.0, 300.0+/-20.0, 420.0+/-20.0, 500.0+/-20.0,\n",
       "       570.0+/-20.0, 620.0+/-20.0, 660.0+/-20.0, 720.0+/-20.0,\n",
       "       750.0+/-20.0, 780.0+/-20.0], dtype=object)"
      ]
     },
     "execution_count": 63,
     "metadata": {},
     "output_type": "execute_result"
    }
   ],
   "source": [
    "delta_p"
   ]
  },
  {
   "cell_type": "markdown",
   "id": "111ff027",
   "metadata": {},
   "source": [
    "#### I am not sure if this is what we needed to do - but this would be one alternative"
   ]
  },
  {
   "cell_type": "code",
   "execution_count": 64,
   "id": "cee71c99",
   "metadata": {},
   "outputs": [
    {
     "data": {
      "text/plain": [
       "array([2.6366666666666666e-07+/-6.218665268258292e-08,\n",
       "       2.5312e-07+/-4.320690948770161e-08,\n",
       "       2.611555555555556e-07+/-3.695220140097011e-08,\n",
       "       2.5312000000000003e-07+/-3.523695470999855e-08,\n",
       "       2.5163976608187134e-07+/-3.425811232762356e-08,\n",
       "       2.585634408602151e-07+/-3.4363518179081335e-08,\n",
       "       2.556767676767677e-07+/-3.4700576207175714e-08,\n",
       "       2.578074074074074e-07+/-3.391153238785516e-08,\n",
       "       2.587448888888889e-07+/-3.444916022012664e-08,\n",
       "       2.596102564102564e-07+/-3.485005518129528e-08], dtype=object)"
      ]
     },
     "execution_count": 64,
     "metadata": {},
     "output_type": "execute_result"
    }
   ],
   "source": [
    "# first estimation\n",
    "slope = delta_n/delta_p\n",
    "slope"
   ]
  },
  {
   "cell_type": "markdown",
   "id": "6fa1ddf3",
   "metadata": {},
   "source": [
    "compute weighted average with error:"
   ]
  },
  {
   "cell_type": "code",
   "execution_count": 65,
   "id": "b14f1a81",
   "metadata": {},
   "outputs": [
    {
     "data": {
      "text/plain": [
       "7396953726245774.0"
      ]
     },
     "execution_count": 65,
     "metadata": {},
     "output_type": "execute_result"
    }
   ],
   "source": [
    "total_weight = 0\n",
    "for i in range(len(slope)):\n",
    "    total_weight += (1/slope[i].s)**2\n",
    "total_weight"
   ]
  },
  {
   "cell_type": "code",
   "execution_count": 66,
   "id": "89a3fcf1",
   "metadata": {},
   "outputs": [
    {
     "data": {
      "text/plain": [
       "1.1627157330473049e-08"
      ]
     },
     "execution_count": 66,
     "metadata": {},
     "output_type": "execute_result"
    }
   ],
   "source": [
    "weighted_error = np.sqrt(1/total_weight)\n",
    "weighted_error"
   ]
  },
  {
   "cell_type": "code",
   "execution_count": 67,
   "id": "74f0656c",
   "metadata": {},
   "outputs": [
    {
     "data": {
      "text/plain": [
       "1900560490.7813122"
      ]
     },
     "execution_count": 67,
     "metadata": {},
     "output_type": "execute_result"
    }
   ],
   "source": [
    "weighted_sum = 0\n",
    "for i in range(len(slope)):\n",
    "    weighted_sum += ((1/slope[i].s)**2) * slope[i].n\n",
    "weighted_sum"
   ]
  },
  {
   "cell_type": "code",
   "execution_count": 68,
   "id": "7102543d",
   "metadata": {},
   "outputs": [
    {
     "data": {
      "text/plain": [
       "2.569382696065501e-07"
      ]
     },
     "execution_count": 68,
     "metadata": {},
     "output_type": "execute_result"
    }
   ],
   "source": [
    "weighted_sum/total_weight"
   ]
  },
  {
   "cell_type": "code",
   "execution_count": 69,
   "id": "7e654859",
   "metadata": {},
   "outputs": [
    {
     "data": {
      "text/plain": [
       "2.5379518667201796e-07+/-2.8047123913707487e-09"
      ]
     },
     "execution_count": 69,
     "metadata": {},
     "output_type": "execute_result"
    }
   ],
   "source": [
    "weighted_average_slop = ufloat(2.5379518667201796e-07, 2.8047123913707487e-09) # unit: mbar^{-1}\n",
    "weighted_average_slop"
   ]
  },
  {
   "cell_type": "markdown",
   "id": "994873b4",
   "metadata": {},
   "source": [
    "$n(p) = 1 + \\dfrac{\\delta n}{\\delta p} \\cdot p$"
   ]
  },
  {
   "cell_type": "code",
   "execution_count": 70,
   "id": "7e372763",
   "metadata": {},
   "outputs": [],
   "source": [
    "def n(p, slope):\n",
    "    return 1 + slope*p"
   ]
  },
  {
   "cell_type": "code",
   "execution_count": 71,
   "id": "4b6ac9e1",
   "metadata": {},
   "outputs": [
    {
     "data": {
      "text/plain": [
       "1.0002571579728954+/-2.841874830556411e-06"
      ]
     },
     "execution_count": 71,
     "metadata": {},
     "output_type": "execute_result"
    }
   ],
   "source": [
    "n(1013.25, weighted_average_slop)"
   ]
  },
  {
   "cell_type": "code",
   "execution_count": 72,
   "id": "6d600366",
   "metadata": {},
   "outputs": [],
   "source": [
    "y = np.zeros(len(delta_p))\n",
    "yerr = np.zeros(len(delta_p))\n",
    "for i in range(len(delta_p)):\n",
    "    y[i] = (n(1013.25-delta_p[i].n, weighted_average_slop)).n\n",
    "    yerr[i] = (n(1013.25-delta_p[i].n, weighted_average_slop)).s"
   ]
  },
  {
   "cell_type": "code",
   "execution_count": 73,
   "id": "4860db65",
   "metadata": {},
   "outputs": [],
   "source": [
    "x = np.zeros(len(delta_p))\n",
    "xerr = np.zeros(len(delta_p))\n",
    "for i in range(len(delta_p)):\n",
    "    x[i] = -delta_p[i].n\n",
    "    xerr[i] = delta_p[i].s"
   ]
  },
  {
   "cell_type": "code",
   "execution_count": 74,
   "id": "752ff8a2",
   "metadata": {},
   "outputs": [
    {
     "data": {
      "text/plain": [
       "<matplotlib.legend.Legend at 0x280a5aaf0>"
      ]
     },
     "execution_count": 74,
     "metadata": {},
     "output_type": "execute_result"
    },
    {
     "data": {
      "image/png": "[encoded data removed]",
      "text/plain": [
       "<Figure size 640x480 with 1 Axes>"
      ]
     },
     "metadata": {},
     "output_type": "display_data"
    }
   ],
   "source": [
    "sns.set_theme(style=\"darkgrid\")\n",
    "sns.set_context(\"talk\")\n",
    "plt.xlabel(\"p$_{air}$ / mbar\")\n",
    "plt.ylabel(\"n - 1 / -\")\n",
    "plt.errorbar(x=x, xerr=xerr, y=y-1 , yerr=yerr, markersize=6, \n",
    "             fmt=\".\",color=\"navy\", ecolor=\"lightsteelblue\", elinewidth=2, capsize=3, label=\"n(p)\")\n",
    "plt.legend()\n",
    "#plt.savefig(\"n_vs_p_.png\", dpi=500, bbox_inches=\"tight\")"
   ]
  },
  {
   "cell_type": "markdown",
   "id": "91d26a6f",
   "metadata": {},
   "source": [
    "### I think this is actually what we needed to do:"
   ]
  },
  {
   "cell_type": "markdown",
   "id": "331400d5",
   "metadata": {},
   "source": [
    "$n(p) = 1 + \\dfrac{\\delta n}{\\delta p} \\cdot p$"
   ]
  },
  {
   "cell_type": "markdown",
   "id": "b6492761",
   "metadata": {},
   "source": [
    "starting from n(0) = 1, we add $\\delta p$ from above, which is the p in above equation as we start from the vacuum\n",
    "we know for these specific values how n is changing"
   ]
  },
  {
   "cell_type": "code",
   "execution_count": 75,
   "id": "9a963071",
   "metadata": {},
   "outputs": [],
   "source": [
    "import scipy.optimize\n",
    "def fit_function(p,x):\n",
    "    k = p\n",
    "    return k*x\n",
    "\n",
    "def fit_function_plot(x,k):\n",
    "    return k*x"
   ]
  },
  {
   "cell_type": "code",
   "execution_count": 76,
   "id": "d24e07ce",
   "metadata": {},
   "outputs": [],
   "source": [
    "x_data = -x\n",
    "x_data_er = xerr"
   ]
  },
  {
   "cell_type": "code",
   "execution_count": 77,
   "id": "b71836fa",
   "metadata": {},
   "outputs": [
    {
     "data": {
      "text/plain": [
       "array([160., 300., 420., 500., 570., 620., 660., 720., 750., 780.])"
      ]
     },
     "execution_count": 77,
     "metadata": {},
     "output_type": "execute_result"
    }
   ],
   "source": [
    "x_data"
   ]
  },
  {
   "cell_type": "code",
   "execution_count": 78,
   "id": "2cbf8207",
   "metadata": {},
   "outputs": [],
   "source": [
    "y_data = np.zeros(len(delta_n))\n",
    "y_data_er = np.zeros(len(delta_n))\n",
    "for i in range(len(delta_n)):\n",
    "    y_data[i] = delta_n[i].n\n",
    "    y_data_er[i] = delta_n[i].s"
   ]
  },
  {
   "cell_type": "code",
   "execution_count": 79,
   "id": "9fdbe120",
   "metadata": {},
   "outputs": [
    {
     "data": {
      "text/plain": [
       "array([4.21866667e-05, 7.59360000e-05, 1.09685333e-04, 1.26560000e-04,\n",
       "       1.43434667e-04, 1.60309333e-04, 1.68746667e-04, 1.85621333e-04,\n",
       "       1.94058667e-04, 2.02496000e-04])"
      ]
     },
     "execution_count": 79,
     "metadata": {},
     "output_type": "execute_result"
    }
   ],
   "source": [
    "y_data"
   ]
  },
  {
   "cell_type": "code",
   "execution_count": 80,
   "id": "0f996586",
   "metadata": {},
   "outputs": [],
   "source": [
    "# use ODR\n",
    "from scipy import odr\n",
    "\n",
    "data_odr = odr.RealData(x_data, y_data,\n",
    "                    sx=x_data_er, sy=y_data_er)\n",
    "odr = odr.ODR(data_odr, odr.Model(fit_function),beta0=[0.])\n",
    "out = odr.run()"
   ]
  },
  {
   "cell_type": "code",
   "execution_count": 81,
   "id": "706799fe",
   "metadata": {},
   "outputs": [
    {
     "name": "stdout",
     "output_type": "stream",
     "text": [
      "fit parameter and 1-sigma error\n",
      "———————————–\n",
      "2.5695253904878966e-07 +- 1.1038307997150042e-09\n",
      "———————————–\n",
      "reduced chi squared =  0.009015147158156862\n"
     ]
    }
   ],
   "source": [
    "p_opt = out.beta\n",
    "p_err = out.sd_beta\n",
    "red_chi_squared = out.res_var\n",
    "print(\"fit parameter and 1-sigma error\")\n",
    "print(\"———————————–\")\n",
    "for i in range(len(p_opt)):\n",
    "    print(str(p_opt[i]) + \" +- \" +str(p_err[i]))\n",
    "print(\"———————————–\")\n",
    "print(\"reduced chi squared = \", red_chi_squared)"
   ]
  },
  {
   "cell_type": "code",
   "execution_count": 82,
   "id": "e5b182f1",
   "metadata": {},
   "outputs": [],
   "source": [
    "#create x for plotting with the linear fit\n",
    "linear_fit_p = np.arange(150,800,0.001)"
   ]
  },
  {
   "cell_type": "code",
   "execution_count": 89,
   "id": "4aabe754",
   "metadata": {},
   "outputs": [
    {
     "data": {
      "text/plain": [
       "<matplotlib.legend.Legend at 0x29cbed970>"
      ]
     },
     "execution_count": 89,
     "metadata": {},
     "output_type": "execute_result"
    },
    {
     "data": {
      "image/png": "[encoded data removed]",
      "text/plain": [
       "<Figure size 640x480 with 1 Axes>"
      ]
     },
     "metadata": {},
     "output_type": "display_data"
    }
   ],
   "source": [
    "sns.set_theme(style=\"darkgrid\")\n",
    "sns.set_context(\"talk\")\n",
    "plt.xlabel(\"$p$ / mbar\")\n",
    "plt.ylabel(\"$n - 1$ / -\")\n",
    "plt.errorbar(x=x_data, xerr=x_data_er, y=y_data , yerr=y_data_er,\n",
    "             markersize=6, fmt=\".\",color=\"navy\", ecolor=\"lightsteelblue\", elinewidth=2, capsize=3, label=\"measured data\")\n",
    "plt.plot(linear_fit_p, fit_function_plot(linear_fit_p,p_opt[0]),\"--\", color=\"darkorange\", label=\"linear fit\")\n",
    "plt.legend()\n",
    "#plt.savefig(\"N_vs_P_talkformat.png\", dpi=500, bbox_inches=\"tight\")"
   ]
  },
  {
   "cell_type": "code",
   "execution_count": 84,
   "id": "3557eaed",
   "metadata": {},
   "outputs": [
    {
     "data": {
      "text/plain": [
       "2.5695253904878966e-07+/-1.1038307997150042e-09"
      ]
     },
     "execution_count": 84,
     "metadata": {},
     "output_type": "execute_result"
    }
   ],
   "source": [
    "slope_from_fit = ufloat(p_opt[0],p_err[0])\n",
    "slope_from_fit"
   ]
  },
  {
   "cell_type": "code",
   "execution_count": 94,
   "id": "d738e565",
   "metadata": {},
   "outputs": [
    {
     "data": {
      "text/plain": [
       "2.5695253904878967+/-0.011038307997150042"
      ]
     },
     "execution_count": 94,
     "metadata": {},
     "output_type": "execute_result"
    }
   ],
   "source": [
    "slope_from_fit*1e7"
   ]
  },
  {
   "cell_type": "code",
   "execution_count": 85,
   "id": "e4dec4d3",
   "metadata": {},
   "outputs": [
    {
     "data": {
      "text/plain": [
       "1.0002608068271346+/-1.2326265802235764e-06"
      ]
     },
     "execution_count": 85,
     "metadata": {},
     "output_type": "execute_result"
    }
   ],
   "source": [
    "n1 = slope_from_fit * ufloat(1015,2)\n",
    "n1 + 1"
   ]
  },
  {
   "cell_type": "code",
   "execution_count": 86,
   "id": "ce18ba50",
   "metadata": {},
   "outputs": [
    {
     "data": {
      "text/plain": [
       "1.0002603571601911+/-1.118456557811228e-06"
      ]
     },
     "execution_count": 86,
     "metadata": {},
     "output_type": "execute_result"
    }
   ],
   "source": [
    "n2 = slope_from_fit * 1013.25\n",
    "n2 + 1"
   ]
  },
  {
   "cell_type": "code",
   "execution_count": 95,
   "id": "bd723d23",
   "metadata": {},
   "outputs": [
    {
     "data": {
      "text/plain": [
       "1.0002569525390488+/-1.1038307997150042e-06"
      ]
     },
     "execution_count": 95,
     "metadata": {},
     "output_type": "execute_result"
    }
   ],
   "source": [
    "n3 = slope_from_fit * 1000\n",
    "n3 + 1"
   ]
  },
  {
   "cell_type": "markdown",
   "id": "2db63244",
   "metadata": {},
   "source": [
    "reference wikipedia: 1.000273"
   ]
  },
  {
   "cell_type": "code",
   "execution_count": null,
   "id": "d09347e3",
   "metadata": {},
   "outputs": [],
   "source": []
  }
 ],
 "metadata": {
  "kernelspec": {
   "display_name": "Python 3 (ipykernel)",
   "language": "python",
   "name": "python3"
  },
  "language_info": {
   "codemirror_mode": {
    "name": "ipython",
    "version": 3
   },
   "file_extension": ".py",
   "mimetype": "text/x-python",
   "name": "python",
   "nbconvert_exporter": "python",
   "pygments_lexer": "ipython3",
   "version": "3.8.9"
  }
 },
 "nbformat": 4,
 "nbformat_minor": 5
}
