{
 "cells": [
  {
   "cell_type": "markdown",
   "id": "7c7fdbc6",
   "metadata": {},
   "source": [
    "## Experiment 5: Michelson-Interferometer"
   ]
  },
  {
   "cell_type": "markdown",
   "id": "48e8a34a",
   "metadata": {},
   "source": [
    "(@everyone: please only write in the respective notebook that you are assigned to, to avoid merge conflicts) (I will then put everything in a collective notebook for the advisors)"
   ]
  },
  {
   "cell_type": "code",
   "execution_count": 2,
   "id": "401f6ad2",
   "metadata": {},
   "outputs": [],
   "source": [
    "# I would recommend to get yourself the uncertainties package, otherwise you can comment all of this out\n",
    "# https://pythonhosted.org/uncertainties/\n",
    "from uncertainties import ufloat\n",
    "from uncertainties.umath import *  # sin(), etc.\n",
    "import uncertainties.umath"
   ]
  },
  {
   "cell_type": "code",
   "execution_count": 3,
   "id": "6810e6dc",
   "metadata": {},
   "outputs": [],
   "source": [
    "import numpy as np\n",
    "import pandas as pd\n",
    "import matplotlib.pyplot as plt\n",
    "import seaborn as sns"
   ]
  },
  {
   "cell_type": "markdown",
   "id": "7ef93fc2",
   "metadata": {},
   "source": [
    "### Measurement of the refraction index of air"
   ]
  },
  {
   "cell_type": "markdown",
   "id": "a96ac9ab",
   "metadata": {},
   "source": [
    "procedure:\n",
    "1. read in raw data\n",
    "2. determine $\\delta n$ from the ring count\n",
    "3. determine $\\delta p$ from the raw data\n",
    "4. determine $\\delta n$/ $\\delta p$\n",
    "5. use a linear relationship with the boundary condition that n(0) = 1 $\\Longrightarrow$ n(p) = 1 + $\\delta p$/$\\delta p$ $\\cdot$ p to determine n for air"
   ]
  },
  {
   "cell_type": "code",
   "execution_count": 4,
   "id": "4b198008",
   "metadata": {},
   "outputs": [
    {
     "data": {
      "text/html": [
       "<div>\n",
       "<style scoped>\n",
       "    .dataframe tbody tr th:only-of-type {\n",
       "        vertical-align: middle;\n",
       "    }\n",
       "\n",
       "    .dataframe tbody tr th {\n",
       "        vertical-align: top;\n",
       "    }\n",
       "\n",
       "    .dataframe thead th {\n",
       "        text-align: right;\n",
       "    }\n",
       "</style>\n",
       "<table border=\"1\" class=\"dataframe\">\n",
       "  <thead>\n",
       "    <tr style=\"text-align: right;\">\n",
       "      <th></th>\n",
       "      <th>Measurement</th>\n",
       "      <th>Ringcount</th>\n",
       "      <th>pressure (mbar)</th>\n",
       "      <th>error pressure (mbar)</th>\n",
       "    </tr>\n",
       "  </thead>\n",
       "  <tbody>\n",
       "    <tr>\n",
       "      <th>0</th>\n",
       "      <td>1</td>\n",
       "      <td>5</td>\n",
       "      <td>-160</td>\n",
       "      <td>20</td>\n",
       "    </tr>\n",
       "    <tr>\n",
       "      <th>1</th>\n",
       "      <td>2</td>\n",
       "      <td>4</td>\n",
       "      <td>-300</td>\n",
       "      <td>20</td>\n",
       "    </tr>\n",
       "    <tr>\n",
       "      <th>2</th>\n",
       "      <td>3</td>\n",
       "      <td>4</td>\n",
       "      <td>-420</td>\n",
       "      <td>20</td>\n",
       "    </tr>\n",
       "    <tr>\n",
       "      <th>3</th>\n",
       "      <td>4</td>\n",
       "      <td>2</td>\n",
       "      <td>-500</td>\n",
       "      <td>20</td>\n",
       "    </tr>\n",
       "    <tr>\n",
       "      <th>4</th>\n",
       "      <td>5</td>\n",
       "      <td>2</td>\n",
       "      <td>-570</td>\n",
       "      <td>20</td>\n",
       "    </tr>\n",
       "    <tr>\n",
       "      <th>5</th>\n",
       "      <td>6</td>\n",
       "      <td>2</td>\n",
       "      <td>-620</td>\n",
       "      <td>20</td>\n",
       "    </tr>\n",
       "    <tr>\n",
       "      <th>6</th>\n",
       "      <td>7</td>\n",
       "      <td>1</td>\n",
       "      <td>-660</td>\n",
       "      <td>20</td>\n",
       "    </tr>\n",
       "    <tr>\n",
       "      <th>7</th>\n",
       "      <td>8</td>\n",
       "      <td>2</td>\n",
       "      <td>-720</td>\n",
       "      <td>20</td>\n",
       "    </tr>\n",
       "    <tr>\n",
       "      <th>8</th>\n",
       "      <td>9</td>\n",
       "      <td>1</td>\n",
       "      <td>-750</td>\n",
       "      <td>20</td>\n",
       "    </tr>\n",
       "    <tr>\n",
       "      <th>9</th>\n",
       "      <td>10</td>\n",
       "      <td>1</td>\n",
       "      <td>-780</td>\n",
       "      <td>20</td>\n",
       "    </tr>\n",
       "  </tbody>\n",
       "</table>\n",
       "</div>"
      ],
      "text/plain": [
       "   Measurement   Ringcount   pressure (mbar)  error pressure (mbar)\n",
       "0            1           5              -160                     20\n",
       "1            2           4              -300                     20\n",
       "2            3           4              -420                     20\n",
       "3            4           2              -500                     20\n",
       "4            5           2              -570                     20\n",
       "5            6           2              -620                     20\n",
       "6            7           1              -660                     20\n",
       "7            8           2              -720                     20\n",
       "8            9           1              -750                     20\n",
       "9           10           1              -780                     20"
      ]
     },
     "execution_count": 4,
     "metadata": {},
     "output_type": "execute_result"
    }
   ],
   "source": [
    "data = pd.read_csv(\"Refraction_air.csv\", sep=\",\")\n",
    "data[\"error pressure (mbar)\"] = 20\n",
    "data"
   ]
  },
  {
   "cell_type": "markdown",
   "id": "a7ebb9d1",
   "metadata": {},
   "source": [
    "$m = \\Delta S = \\dfrac{2\\cdot l}{\\lambda_0} \\delta n \\Longrightarrow \\delta n = \\dfrac{m \\cdot \\lambda_0}{2\\cdot l}$"
   ]
  },
  {
   "cell_type": "code",
   "execution_count": 5,
   "id": "39659f40",
   "metadata": {},
   "outputs": [
    {
     "data": {
      "text/plain": [
       "6.328e-07"
      ]
     },
     "execution_count": 5,
     "metadata": {},
     "output_type": "execute_result"
    }
   ],
   "source": [
    "lambda_0 = 632.8e-9 #m\n",
    "lambda_0"
   ]
  },
  {
   "cell_type": "code",
   "execution_count": 6,
   "id": "7a7770fa",
   "metadata": {},
   "outputs": [],
   "source": [
    "#WARNING: this is not our value but some random\n",
    "l=ufloat(38.0e-3,0.2e-3) #meter"
   ]
  },
  {
   "cell_type": "markdown",
   "id": "fdaaec4c",
   "metadata": {},
   "source": [
    "#### instead of looking at ringcounts and pressure differences between each measurements ==> additive approach ==> greater area"
   ]
  },
  {
   "cell_type": "code",
   "execution_count": 7,
   "id": "1a17c77b",
   "metadata": {},
   "outputs": [
    {
     "data": {
      "text/plain": [
       "array([4.163157894736842e-05+/-2.1911357340720222e-07,\n",
       "       7.493684210526315e-05+/-3.94404432132964e-07,\n",
       "       0.00010824210526315789+/-5.696952908587258e-07,\n",
       "       0.00012489473684210528+/-6.573407202216067e-07,\n",
       "       0.00014154736842105265+/-7.449861495844876e-07,\n",
       "       0.0001582+/-8.326315789473685e-07,\n",
       "       0.00016652631578947368+/-8.764542936288089e-07,\n",
       "       0.00018317894736842106+/-9.6409972299169e-07,\n",
       "       0.00019150526315789474+/-1.0079224376731302e-06,\n",
       "       0.0001998315789473684+/-1.0517451523545707e-06], dtype=object)"
      ]
     },
     "execution_count": 7,
     "metadata": {},
     "output_type": "execute_result"
    }
   ],
   "source": [
    "ringcounts = np.array([5,9,13,15,17,19,20,22,23,24])\n",
    "delta_n = ringcounts*lambda_0/(l*2)\n",
    "delta_n"
   ]
  },
  {
   "cell_type": "code",
   "execution_count": 8,
   "id": "e9052768",
   "metadata": {},
   "outputs": [],
   "source": [
    "delta_p = delta_n\n",
    "for i in range(len(data[\" pressure (mbar)\"])):\n",
    "    delta_p[i] = ufloat(abs(data[\" pressure (mbar)\"][i]), 20)"
   ]
  },
  {
   "cell_type": "code",
   "execution_count": 9,
   "id": "0767fe8e",
   "metadata": {},
   "outputs": [
    {
     "data": {
      "text/plain": [
       "array([4.163157894736842e-05+/-2.1911357340720222e-07,\n",
       "       7.493684210526315e-05+/-3.94404432132964e-07,\n",
       "       0.00010824210526315789+/-5.696952908587258e-07,\n",
       "       0.00012489473684210528+/-6.573407202216067e-07,\n",
       "       0.00014154736842105265+/-7.449861495844876e-07,\n",
       "       0.0001582+/-8.326315789473685e-07,\n",
       "       0.00016652631578947368+/-8.764542936288089e-07,\n",
       "       0.00018317894736842106+/-9.6409972299169e-07,\n",
       "       0.00019150526315789474+/-1.0079224376731302e-06,\n",
       "       0.0001998315789473684+/-1.0517451523545707e-06], dtype=object)"
      ]
     },
     "execution_count": 9,
     "metadata": {},
     "output_type": "execute_result"
    }
   ],
   "source": [
    "delta_n = ringcounts*lambda_0/(l*2)\n",
    "delta_n"
   ]
  },
  {
   "cell_type": "code",
   "execution_count": 10,
   "id": "278f5e55",
   "metadata": {},
   "outputs": [
    {
     "data": {
      "text/plain": [
       "array([160.0+/-20.0, 300.0+/-20.0, 420.0+/-20.0, 500.0+/-20.0,\n",
       "       570.0+/-20.0, 620.0+/-20.0, 660.0+/-20.0, 720.0+/-20.0,\n",
       "       750.0+/-20.0, 780.0+/-20.0], dtype=object)"
      ]
     },
     "execution_count": 10,
     "metadata": {},
     "output_type": "execute_result"
    }
   ],
   "source": [
    "delta_p"
   ]
  },
  {
   "cell_type": "markdown",
   "id": "111ff027",
   "metadata": {},
   "source": [
    "#### I am not sure if this is what we needed to do - but this would be one alternative"
   ]
  },
  {
   "cell_type": "code",
   "execution_count": 11,
   "id": "cee71c99",
   "metadata": {},
   "outputs": [
    {
     "data": {
      "text/plain": [
       "array([2.601973684210526e-07+/-3.2553489019124635e-08,\n",
       "       2.497894736842105e-07+/-1.670444628815936e-08,\n",
       "       2.5771929824561404e-07+/-1.2347079901115536e-08,\n",
       "       2.4978947368421057e-07+/-1.0077699993120537e-08,\n",
       "       2.483287165281625e-07+/-8.810767522057281e-09,\n",
       "       2.551612903225806e-07+/-8.33984658405118e-09,\n",
       "       2.5231259968102076e-07+/-7.760302449295501e-09,\n",
       "       2.544152046783626e-07+/-7.19282570062554e-09,\n",
       "       2.55340350877193e-07+/-6.940430413140436e-09,\n",
       "       2.5619433198380564e-07+/-6.706045208872832e-09], dtype=object)"
      ]
     },
     "execution_count": 11,
     "metadata": {},
     "output_type": "execute_result"
    }
   ],
   "source": [
    "# first estimation\n",
    "slope = delta_n/delta_p\n",
    "slope"
   ]
  },
  {
   "cell_type": "markdown",
   "id": "6fa1ddf3",
   "metadata": {},
   "source": [
    "compute weighted average with error:"
   ]
  },
  {
   "cell_type": "code",
   "execution_count": 12,
   "id": "b14f1a81",
   "metadata": {},
   "outputs": [
    {
     "data": {
      "text/plain": [
       "1.2712276588921592e+17"
      ]
     },
     "execution_count": 12,
     "metadata": {},
     "output_type": "execute_result"
    }
   ],
   "source": [
    "total_weight = 0\n",
    "for i in range(len(slope)):\n",
    "    total_weight += (1/slope[i].s)**2\n",
    "total_weight"
   ]
  },
  {
   "cell_type": "code",
   "execution_count": 13,
   "id": "89a3fcf1",
   "metadata": {},
   "outputs": [
    {
     "data": {
      "text/plain": [
       "2.8047123913707487e-09"
      ]
     },
     "execution_count": 13,
     "metadata": {},
     "output_type": "execute_result"
    }
   ],
   "source": [
    "weighted_error = np.sqrt(1/total_weight)\n",
    "weighted_error"
   ]
  },
  {
   "cell_type": "code",
   "execution_count": 14,
   "id": "74f0656c",
   "metadata": {},
   "outputs": [
    {
     "data": {
      "text/plain": [
       "32263146099.116795"
      ]
     },
     "execution_count": 14,
     "metadata": {},
     "output_type": "execute_result"
    }
   ],
   "source": [
    "weighted_sum = 0\n",
    "for i in range(len(slope)):\n",
    "    weighted_sum += ((1/slope[i].s)**2) * slope[i].n\n",
    "weighted_sum"
   ]
  },
  {
   "cell_type": "code",
   "execution_count": 15,
   "id": "7102543d",
   "metadata": {},
   "outputs": [
    {
     "data": {
      "text/plain": [
       "2.5379518667201796e-07"
      ]
     },
     "execution_count": 15,
     "metadata": {},
     "output_type": "execute_result"
    }
   ],
   "source": [
    "weighted_sum/total_weight"
   ]
  },
  {
   "cell_type": "code",
   "execution_count": 16,
   "id": "7e654859",
   "metadata": {},
   "outputs": [],
   "source": [
    "weighted_average_slop = ufloat(2.5379518667201796e-07, 2.8047123913707487e-09) # unit: mbar^{-1}"
   ]
  },
  {
   "cell_type": "markdown",
   "id": "994873b4",
   "metadata": {},
   "source": [
    "$n(p) = 1 + \\dfrac{\\delta n}{\\delta p} \\cdot p$"
   ]
  },
  {
   "cell_type": "code",
   "execution_count": 17,
   "id": "7e372763",
   "metadata": {},
   "outputs": [],
   "source": [
    "def n(p, slope):\n",
    "    return 1 + slope*p"
   ]
  },
  {
   "cell_type": "code",
   "execution_count": 18,
   "id": "4b6ac9e1",
   "metadata": {},
   "outputs": [
    {
     "data": {
      "text/plain": [
       "1.0002571579728954+/-2.841874830556411e-06"
      ]
     },
     "execution_count": 18,
     "metadata": {},
     "output_type": "execute_result"
    }
   ],
   "source": [
    "n(1013.25, weighted_average_slop)"
   ]
  },
  {
   "cell_type": "code",
   "execution_count": 19,
   "id": "6d600366",
   "metadata": {},
   "outputs": [],
   "source": [
    "y = np.zeros(len(delta_p))\n",
    "yerr = np.zeros(len(delta_p))\n",
    "for i in range(len(delta_p)):\n",
    "    y[i] = (n(1013.25-delta_p[i].n, weighted_average_slop)).n\n",
    "    yerr[i] = (n(1013.25-delta_p[i].n, weighted_average_slop)).s"
   ]
  },
  {
   "cell_type": "code",
   "execution_count": 20,
   "id": "4860db65",
   "metadata": {},
   "outputs": [],
   "source": [
    "x = np.zeros(len(delta_p))\n",
    "xerr = np.zeros(len(delta_p))\n",
    "for i in range(len(delta_p)):\n",
    "    x[i] = -delta_p[i].n\n",
    "    xerr[i] = delta_p[i].s"
   ]
  },
  {
   "cell_type": "code",
   "execution_count": 21,
   "id": "752ff8a2",
   "metadata": {},
   "outputs": [
    {
     "data": {
      "text/plain": [
       "<matplotlib.legend.Legend at 0x13bb22ca0>"
      ]
     },
     "execution_count": 21,
     "metadata": {},
     "output_type": "execute_result"
    },
    {
     "data": {
      "image/png": "[encoded data removed]",
      "text/plain": [
       "<Figure size 640x480 with 1 Axes>"
      ]
     },
     "metadata": {},
     "output_type": "display_data"
    }
   ],
   "source": [
    "sns.set_theme(style=\"darkgrid\")\n",
    "sns.set_context(\"talk\")\n",
    "plt.xlabel(\"p$_{air}$ / mbar\")\n",
    "plt.ylabel(\"n - 1 / -\")\n",
    "plt.errorbar(x=x, xerr=xerr, y=y-1 , yerr=yerr, markersize=6, \n",
    "             fmt=\".\",color=\"navy\", ecolor=\"lightsteelblue\", elinewidth=2, capsize=3, label=\"n(p)\")\n",
    "plt.legend()\n",
    "#plt.savefig(\"n_vs_p_.png\", dpi=500, bbox_inches=\"tight\")"
   ]
  },
  {
   "cell_type": "markdown",
   "id": "91d26a6f",
   "metadata": {},
   "source": [
    "### I think this is actually what we needed to do:"
   ]
  },
  {
   "cell_type": "markdown",
   "id": "331400d5",
   "metadata": {},
   "source": [
    "$n(p) = 1 + \\dfrac{\\delta n}{\\delta p} \\cdot p$"
   ]
  },
  {
   "cell_type": "markdown",
   "id": "b6492761",
   "metadata": {},
   "source": [
    "starting from n(0) = 1, we add $\\delta p$ from above, which is the p in above equation as we start from the vacuum\n",
    "we know for these specific values how n is changing"
   ]
  },
  {
   "cell_type": "code",
   "execution_count": 22,
   "id": "9a963071",
   "metadata": {},
   "outputs": [],
   "source": [
    "import scipy.optimize\n",
    "def fit_function(p,x):\n",
    "    k = p\n",
    "    return k*x\n",
    "\n",
    "def fit_function_plot(x,k):\n",
    "    return k*x"
   ]
  },
  {
   "cell_type": "code",
   "execution_count": 23,
   "id": "d24e07ce",
   "metadata": {},
   "outputs": [],
   "source": [
    "x_data = -x\n",
    "x_data_er = xerr"
   ]
  },
  {
   "cell_type": "code",
   "execution_count": 24,
   "id": "b71836fa",
   "metadata": {},
   "outputs": [
    {
     "data": {
      "text/plain": [
       "array([160., 300., 420., 500., 570., 620., 660., 720., 750., 780.])"
      ]
     },
     "execution_count": 24,
     "metadata": {},
     "output_type": "execute_result"
    }
   ],
   "source": [
    "x_data"
   ]
  },
  {
   "cell_type": "code",
   "execution_count": 25,
   "id": "2cbf8207",
   "metadata": {},
   "outputs": [],
   "source": [
    "y_data = np.zeros(len(delta_n))\n",
    "y_data_er = np.zeros(len(delta_n))\n",
    "for i in range(len(delta_n)):\n",
    "    y_data[i] = delta_n[i].n\n",
    "    y_data_er[i] = delta_n[i].s"
   ]
  },
  {
   "cell_type": "code",
   "execution_count": 31,
   "id": "9fdbe120",
   "metadata": {},
   "outputs": [
    {
     "data": {
      "text/plain": [
       "array([4.16315789e-05, 7.49368421e-05, 1.08242105e-04, 1.24894737e-04,\n",
       "       1.41547368e-04, 1.58200000e-04, 1.66526316e-04, 1.83178947e-04,\n",
       "       1.91505263e-04, 1.99831579e-04])"
      ]
     },
     "execution_count": 31,
     "metadata": {},
     "output_type": "execute_result"
    }
   ],
   "source": [
    "y_data"
   ]
  },
  {
   "cell_type": "code",
   "execution_count": 26,
   "id": "0f996586",
   "metadata": {},
   "outputs": [],
   "source": [
    "# use ODR\n",
    "from scipy import odr\n",
    "\n",
    "data_odr = odr.RealData(x_data, y_data,\n",
    "                    sx=x_data_er, sy=y_data_er)\n",
    "odr = odr.ODR(data_odr, odr.Model(fit_function),beta0=[0.])\n",
    "out = odr.run()"
   ]
  },
  {
   "cell_type": "code",
   "execution_count": 32,
   "id": "706799fe",
   "metadata": {},
   "outputs": [
    {
     "name": "stdout",
     "output_type": "stream",
     "text": [
      "fit parameter and 1-sigma error\n",
      "———————————–\n",
      "2.5388440354339755e-07 +- 9.224193222385449e-10\n",
      "———————————–\n",
      "reduced chi squared =  0.10806740710418129\n"
     ]
    }
   ],
   "source": [
    "p_opt = out.beta\n",
    "p_err = out.sd_beta\n",
    "red_chi_squared = out.res_var\n",
    "print(\"fit parameter and 1-sigma error\")\n",
    "print(\"———————————–\")\n",
    "for i in range(len(p_opt)):\n",
    "    print(str(p_opt[i]) + \" +- \" +str(p_err[i]))\n",
    "print(\"———————————–\")\n",
    "print(\"reduced chi squared = \", red_chi_squared)"
   ]
  },
  {
   "cell_type": "code",
   "execution_count": 36,
   "id": "e5b182f1",
   "metadata": {},
   "outputs": [],
   "source": [
    "#create x for plotting with the linear fit\n",
    "linear_fit_p = np.arange(150,800,0.001)"
   ]
  },
  {
   "cell_type": "code",
   "execution_count": 53,
   "id": "4aabe754",
   "metadata": {},
   "outputs": [
    {
     "data": {
      "image/png": "[encoded data removed]",
      "text/plain": [
       "<Figure size 640x480 with 1 Axes>"
      ]
     },
     "metadata": {},
     "output_type": "display_data"
    }
   ],
   "source": [
    "sns.set_theme(style=\"darkgrid\")\n",
    "sns.set_context(\"talk\")\n",
    "plt.xlabel(\"$p$ / mbar\")\n",
    "plt.ylabel(\"$n - 1$ / -\")\n",
    "plt.errorbar(x=x_data, xerr=x_data_er, y=y_data , yerr=y_data_er,\n",
    "             markersize=6, fmt=\".\",color=\"navy\", ecolor=\"lightsteelblue\", elinewidth=2, capsize=3, label=\"measured data\")\n",
    "plt.plot(linear_fit_p, fit_function_plot(linear_fit_p,p_opt[0]),\"--\", color=\"darkorange\", label=\"linear fit\")\n",
    "plt.legend()\n",
    "#plt.savefig(\"N_vs_P_talkformat.png\", dpi=500, bbox_inches=\"tight\")"
   ]
  },
  {
   "cell_type": "code",
   "execution_count": 38,
   "id": "3557eaed",
   "metadata": {},
   "outputs": [
    {
     "data": {
      "text/plain": [
       "2.5388440354339755e-07+/-9.224193222385449e-10"
      ]
     },
     "execution_count": 38,
     "metadata": {},
     "output_type": "execute_result"
    }
   ],
   "source": [
    "slope_from_fit = ufloat(p_opt[0],p_err[0])\n",
    "slope_from_fit"
   ]
  },
  {
   "cell_type": "code",
   "execution_count": 48,
   "id": "e4dec4d3",
   "metadata": {},
   "outputs": [
    {
     "data": {
      "text/plain": [
       "1.0002576926695965+/-1.0650839087071463e-06"
      ]
     },
     "execution_count": 48,
     "metadata": {},
     "output_type": "execute_result"
    }
   ],
   "source": [
    "n1 = slope_from_fit * ufloat(1015,2)\n",
    "n1 + 1"
   ]
  },
  {
   "cell_type": "code",
   "execution_count": 49,
   "id": "ce18ba50",
   "metadata": {},
   "outputs": [
    {
     "data": {
      "text/plain": [
       "1.0002572483718903+/-9.346413782582056e-07"
      ]
     },
     "execution_count": 49,
     "metadata": {},
     "output_type": "execute_result"
    }
   ],
   "source": [
    "n2 = slope_from_fit * 1013.25\n",
    "n2 + 1"
   ]
  },
  {
   "cell_type": "markdown",
   "id": "2db63244",
   "metadata": {},
   "source": [
    "reference wikipedia: 1.000273"
   ]
  },
  {
   "cell_type": "code",
   "execution_count": null,
   "id": "d09347e3",
   "metadata": {},
   "outputs": [],
   "source": []
  }
 ],
 "metadata": {
  "kernelspec": {
   "display_name": "Python 3 (ipykernel)",
   "language": "python",
   "name": "python3"
  },
  "language_info": {
   "codemirror_mode": {
    "name": "ipython",
    "version": 3
   },
   "file_extension": ".py",
   "mimetype": "text/x-python",
   "name": "python",
   "nbconvert_exporter": "python",
   "pygments_lexer": "ipython3",
   "version": "3.8.9"
  }
 },
 "nbformat": 4,
 "nbformat_minor": 5
}
