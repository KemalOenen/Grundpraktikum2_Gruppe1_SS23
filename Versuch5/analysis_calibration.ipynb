{
 "cells": [
  {
   "cell_type": "code",
   "execution_count": 24,
   "metadata": {},
   "outputs": [],
   "source": [
    "import pandas as pd\n",
    "import numpy as np\n",
    "import matplotlib.pyplot as plt\n",
    "#import sklearn\n",
    "from scipy import stats\n",
    "from scipy.optimize import curve_fit\n",
    "import uncertainties\n",
    "import scipy.constants as constants"
   ]
  },
  {
   "cell_type": "code",
   "execution_count": 52,
   "metadata": {},
   "outputs": [
    {
     "data": {
      "text/html": [
       "<div>\n",
       "<style scoped>\n",
       "    .dataframe tbody tr th:only-of-type {\n",
       "        vertical-align: middle;\n",
       "    }\n",
       "\n",
       "    .dataframe tbody tr th {\n",
       "        vertical-align: top;\n",
       "    }\n",
       "\n",
       "    .dataframe thead th {\n",
       "        text-align: right;\n",
       "    }\n",
       "</style>\n",
       "<table border=\"1\" class=\"dataframe\">\n",
       "  <thead>\n",
       "    <tr style=\"text-align: right;\">\n",
       "      <th></th>\n",
       "      <th>Measurement</th>\n",
       "      <th>Ringcount</th>\n",
       "      <th>Distance</th>\n",
       "      <th>Uncert Ringcount</th>\n",
       "      <th>Uncert Distance</th>\n",
       "    </tr>\n",
       "  </thead>\n",
       "  <tbody>\n",
       "    <tr>\n",
       "      <th>0</th>\n",
       "      <td>1</td>\n",
       "      <td>20</td>\n",
       "      <td>0.176022</td>\n",
       "      <td>1.0</td>\n",
       "      <td>0.01</td>\n",
       "    </tr>\n",
       "    <tr>\n",
       "      <th>1</th>\n",
       "      <td>2</td>\n",
       "      <td>21</td>\n",
       "      <td>0.174244</td>\n",
       "      <td>1.0</td>\n",
       "      <td>0.01</td>\n",
       "    </tr>\n",
       "    <tr>\n",
       "      <th>2</th>\n",
       "      <td>3</td>\n",
       "      <td>22</td>\n",
       "      <td>0.172466</td>\n",
       "      <td>1.0</td>\n",
       "      <td>0.01</td>\n",
       "    </tr>\n",
       "    <tr>\n",
       "      <th>3</th>\n",
       "      <td>4</td>\n",
       "      <td>23</td>\n",
       "      <td>0.170688</td>\n",
       "      <td>1.0</td>\n",
       "      <td>0.01</td>\n",
       "    </tr>\n",
       "    <tr>\n",
       "      <th>4</th>\n",
       "      <td>5</td>\n",
       "      <td>24</td>\n",
       "      <td>0.168910</td>\n",
       "      <td>1.0</td>\n",
       "      <td>0.01</td>\n",
       "    </tr>\n",
       "    <tr>\n",
       "      <th>5</th>\n",
       "      <td>6</td>\n",
       "      <td>25</td>\n",
       "      <td>0.166878</td>\n",
       "      <td>1.0</td>\n",
       "      <td>0.01</td>\n",
       "    </tr>\n",
       "    <tr>\n",
       "      <th>6</th>\n",
       "      <td>7</td>\n",
       "      <td>26</td>\n",
       "      <td>0.164846</td>\n",
       "      <td>1.0</td>\n",
       "      <td>0.01</td>\n",
       "    </tr>\n",
       "    <tr>\n",
       "      <th>7</th>\n",
       "      <td>8</td>\n",
       "      <td>27</td>\n",
       "      <td>0.162560</td>\n",
       "      <td>1.0</td>\n",
       "      <td>0.01</td>\n",
       "    </tr>\n",
       "    <tr>\n",
       "      <th>8</th>\n",
       "      <td>9</td>\n",
       "      <td>28</td>\n",
       "      <td>0.160528</td>\n",
       "      <td>1.0</td>\n",
       "      <td>0.01</td>\n",
       "    </tr>\n",
       "    <tr>\n",
       "      <th>9</th>\n",
       "      <td>10</td>\n",
       "      <td>29</td>\n",
       "      <td>0.158242</td>\n",
       "      <td>1.0</td>\n",
       "      <td>0.01</td>\n",
       "    </tr>\n",
       "  </tbody>\n",
       "</table>\n",
       "</div>"
      ],
      "text/plain": [
       "   Measurement   Ringcount   Distance  Uncert Ringcount  Uncert Distance\n",
       "0            1          20   0.176022               1.0             0.01\n",
       "1            2          21   0.174244               1.0             0.01\n",
       "2            3          22   0.172466               1.0             0.01\n",
       "3            4          23   0.170688               1.0             0.01\n",
       "4            5          24   0.168910               1.0             0.01\n",
       "5            6          25   0.166878               1.0             0.01\n",
       "6            7          26   0.164846               1.0             0.01\n",
       "7            8          27   0.162560               1.0             0.01\n",
       "8            9          28   0.160528               1.0             0.01\n",
       "9           10          29   0.158242               1.0             0.01"
      ]
     },
     "execution_count": 52,
     "metadata": {},
     "output_type": "execute_result"
    }
   ],
   "source": [
    "df=pd.read_csv(\"Screw_calibration.csv\")\n",
    "df[\"Uncert Ringcount\"]=1*np.ones(10) #uncertainty of the Ringcounts\n",
    "df[\"Uncert Distance\"]=0.01*np.ones(10) #smallest readable distance\n",
    "df[\" Distance\"]=df[\" Distance\"]*constants.inch #converting to meters\n",
    "df"
   ]
  },
  {
   "cell_type": "code",
   "execution_count": 54,
   "metadata": {},
   "outputs": [
    {
     "data": {
      "text/plain": [
       "array([0.001778, 0.001778, 0.001778, 0.001778, 0.001778, 0.002032,\n",
       "       0.002032, 0.002286, 0.002032, 0.002286])"
      ]
     },
     "execution_count": 54,
     "metadata": {},
     "output_type": "execute_result"
    }
   ],
   "source": [
    "distance_start=7*constants.inch\n",
    "distance_screw=[]\n",
    "for i in range(len(df[\" Distance\"])):\n",
    "    if i==0:\n",
    "        distance_screw.append(distance_start-df[\" Distance\"][i])\n",
    "    else:\n",
    "        distance_screw.append(abs(df[\" Distance\"][i]-df[\" Distance\"][i-1]))\n",
    "distance_screw=np.array(distance_screw)\n",
    "\n",
    "\n",
    "#Uncertainties\n",
    "dist_screw_uncert=np.sqrt(2*0.01**2)*np.ones(10) #inch\n",
    "dist_screw_uncert=dist_screw_uncert*constants.inch\n",
    "\n",
    "distance_screw #distance in meters"
   ]
  },
  {
   "attachments": {},
   "cell_type": "markdown",
   "metadata": {},
   "source": [
    "$d_m = m \\frac{\\lambda_0}{2}$\n",
    "But here we have a number of Ringes that we went through, which means a number of whole $\\lambda$-s, hence we get the same pattern as before after the movement\n"
   ]
  },
  {
   "cell_type": "code",
   "execution_count": 55,
   "metadata": {},
   "outputs": [],
   "source": [
    "lambda_0=632.8E-9 #m\n",
    "distance_wavelength=df[\" Ringcount\"]*lambda_0\n",
    "distance_wavelength=np.array(distance_wavelength)\n",
    "distance_wavelength #m\n",
    "dist_wave_uncert=lambda_0*np.ones(10)"
   ]
  },
  {
   "cell_type": "code",
   "execution_count": 71,
   "metadata": {},
   "outputs": [
    {
     "data": {
      "image/png": "[encoded data removed]",
      "text/plain": [
       "<Figure size 640x480 with 1 Axes>"
      ]
     },
     "metadata": {},
     "output_type": "display_data"
    }
   ],
   "source": [
    "y=distance_wavelength/distance_screw\n",
    "\n",
    "plt.scatter(distance_screw, y)\n",
    "\n",
    "\n",
    "plt.show()"
   ]
  },
  {
   "cell_type": "code",
   "execution_count": null,
   "metadata": {},
   "outputs": [],
   "source": []
  }
 ],
 "metadata": {
  "kernelspec": {
   "display_name": "Python 3",
   "language": "python",
   "name": "python3"
  },
  "language_info": {
   "codemirror_mode": {
    "name": "ipython",
    "version": 3
   },
   "file_extension": ".py",
   "mimetype": "text/x-python",
   "name": "python",
   "nbconvert_exporter": "python",
   "pygments_lexer": "ipython3",
   "version": "3.9.13"
  },
  "orig_nbformat": 4
 },
 "nbformat": 4,
 "nbformat_minor": 2
}
