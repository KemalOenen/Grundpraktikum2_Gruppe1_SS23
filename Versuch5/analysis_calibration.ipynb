{
 "cells": [
  {
   "cell_type": "code",
   "execution_count": 74,
   "metadata": {},
   "outputs": [],
   "source": [
    "import pandas as pd\n",
    "import numpy as np\n",
    "import matplotlib.pyplot as plt\n",
    "#import sklearn\n",
    "from scipy import stats\n",
    "from scipy.optimize import curve_fit\n",
    "import uncertainties\n",
    "import scipy.constants as constants\n",
    "import seaborn as sns"
   ]
  },
  {
   "cell_type": "code",
   "execution_count": 90,
   "metadata": {},
   "outputs": [
    {
     "data": {
      "text/html": [
       "<div>\n",
       "<style scoped>\n",
       "    .dataframe tbody tr th:only-of-type {\n",
       "        vertical-align: middle;\n",
       "    }\n",
       "\n",
       "    .dataframe tbody tr th {\n",
       "        vertical-align: top;\n",
       "    }\n",
       "\n",
       "    .dataframe thead th {\n",
       "        text-align: right;\n",
       "    }\n",
       "</style>\n",
       "<table border=\"1\" class=\"dataframe\">\n",
       "  <thead>\n",
       "    <tr style=\"text-align: right;\">\n",
       "      <th></th>\n",
       "      <th>Measurement</th>\n",
       "      <th>Ringcount</th>\n",
       "      <th>Distance</th>\n",
       "      <th>Uncert Ringcount</th>\n",
       "      <th>Uncert Distance</th>\n",
       "    </tr>\n",
       "  </thead>\n",
       "  <tbody>\n",
       "    <tr>\n",
       "      <th>0</th>\n",
       "      <td>1</td>\n",
       "      <td>20</td>\n",
       "      <td>6.93</td>\n",
       "      <td>1.0</td>\n",
       "      <td>0.01</td>\n",
       "    </tr>\n",
       "    <tr>\n",
       "      <th>1</th>\n",
       "      <td>2</td>\n",
       "      <td>21</td>\n",
       "      <td>6.86</td>\n",
       "      <td>1.0</td>\n",
       "      <td>0.01</td>\n",
       "    </tr>\n",
       "    <tr>\n",
       "      <th>2</th>\n",
       "      <td>3</td>\n",
       "      <td>22</td>\n",
       "      <td>6.79</td>\n",
       "      <td>1.0</td>\n",
       "      <td>0.01</td>\n",
       "    </tr>\n",
       "    <tr>\n",
       "      <th>3</th>\n",
       "      <td>4</td>\n",
       "      <td>23</td>\n",
       "      <td>6.72</td>\n",
       "      <td>1.0</td>\n",
       "      <td>0.01</td>\n",
       "    </tr>\n",
       "    <tr>\n",
       "      <th>4</th>\n",
       "      <td>5</td>\n",
       "      <td>24</td>\n",
       "      <td>6.65</td>\n",
       "      <td>1.0</td>\n",
       "      <td>0.01</td>\n",
       "    </tr>\n",
       "    <tr>\n",
       "      <th>5</th>\n",
       "      <td>6</td>\n",
       "      <td>25</td>\n",
       "      <td>6.57</td>\n",
       "      <td>1.0</td>\n",
       "      <td>0.01</td>\n",
       "    </tr>\n",
       "    <tr>\n",
       "      <th>6</th>\n",
       "      <td>7</td>\n",
       "      <td>26</td>\n",
       "      <td>6.49</td>\n",
       "      <td>1.0</td>\n",
       "      <td>0.01</td>\n",
       "    </tr>\n",
       "    <tr>\n",
       "      <th>7</th>\n",
       "      <td>8</td>\n",
       "      <td>27</td>\n",
       "      <td>6.40</td>\n",
       "      <td>1.0</td>\n",
       "      <td>0.01</td>\n",
       "    </tr>\n",
       "    <tr>\n",
       "      <th>8</th>\n",
       "      <td>9</td>\n",
       "      <td>28</td>\n",
       "      <td>6.32</td>\n",
       "      <td>1.0</td>\n",
       "      <td>0.01</td>\n",
       "    </tr>\n",
       "    <tr>\n",
       "      <th>9</th>\n",
       "      <td>10</td>\n",
       "      <td>29</td>\n",
       "      <td>6.23</td>\n",
       "      <td>1.0</td>\n",
       "      <td>0.01</td>\n",
       "    </tr>\n",
       "  </tbody>\n",
       "</table>\n",
       "</div>"
      ],
      "text/plain": [
       "   Measurement   Ringcount   Distance  Uncert Ringcount  Uncert Distance\n",
       "0            1          20       6.93               1.0             0.01\n",
       "1            2          21       6.86               1.0             0.01\n",
       "2            3          22       6.79               1.0             0.01\n",
       "3            4          23       6.72               1.0             0.01\n",
       "4            5          24       6.65               1.0             0.01\n",
       "5            6          25       6.57               1.0             0.01\n",
       "6            7          26       6.49               1.0             0.01\n",
       "7            8          27       6.40               1.0             0.01\n",
       "8            9          28       6.32               1.0             0.01\n",
       "9           10          29       6.23               1.0             0.01"
      ]
     },
     "execution_count": 90,
     "metadata": {},
     "output_type": "execute_result"
    }
   ],
   "source": [
    "df=pd.read_csv(\"Screw_calibration.csv\")\n",
    "df[\"Uncert Ringcount\"]=1*np.ones(10) #uncertainty of the Ringcounts\n",
    "df[\"Uncert Distance\"]=0.01*np.ones(10) #smallest readable distance\n",
    "df"
   ]
  },
  {
   "cell_type": "code",
   "execution_count": 91,
   "metadata": {},
   "outputs": [
    {
     "data": {
      "text/plain": [
       "array([7., 7., 7., 7., 7., 8., 8., 9., 8., 9.])"
      ]
     },
     "execution_count": 91,
     "metadata": {},
     "output_type": "execute_result"
    }
   ],
   "source": [
    "distance_start=7\n",
    "distance_screw=[]\n",
    "for i in range(len(df[\" Distance\"])):\n",
    "    if i==0:\n",
    "        distance_screw.append(distance_start-df[\" Distance\"][i])\n",
    "    else:\n",
    "        distance_screw.append(abs(df[\" Distance\"][i]-df[\" Distance\"][i-1]))\n",
    "distance_screw=np.array(distance_screw)\n",
    "\n",
    "\n",
    "#Uncertainties\n",
    "dist_screw_uncert=np.sqrt(2*0.01**2)*np.ones(10)*100/2 #inch\n",
    "dist_screw_uncert\n",
    "\n",
    "distance_screw=distance_screw*100\n",
    "distance_screw #distance in meters\n"
   ]
  },
  {
   "attachments": {},
   "cell_type": "markdown",
   "metadata": {},
   "source": [
    "$d_m = m \\frac{\\lambda_0}{2}$\n",
    "But here we have a number of Ringes that we went through, which means a number of whole $\\lambda$-s, hence we get the same pattern as before after the movement\n"
   ]
  },
  {
   "cell_type": "code",
   "execution_count": 92,
   "metadata": {},
   "outputs": [
    {
     "data": {
      "text/plain": [
       "array([6.3280e-06, 6.6444e-06, 6.9608e-06, 7.2772e-06, 7.5936e-06,\n",
       "       7.9100e-06, 8.2264e-06, 8.5428e-06, 8.8592e-06, 9.1756e-06])"
      ]
     },
     "execution_count": 92,
     "metadata": {},
     "output_type": "execute_result"
    }
   ],
   "source": [
    "lambda_0=632.8E-9 #m\n",
    "distance_wavelength=df[\" Ringcount\"]*lambda_0/2\n",
    "distance_wavelength=np.array(distance_wavelength)\n",
    "distance_wavelength #m\n",
    "dist_wave_uncert=lambda_0*np.ones(10)/2\n",
    "distance_wavelength"
   ]
  },
  {
   "cell_type": "code",
   "execution_count": 93,
   "metadata": {},
   "outputs": [
    {
     "data": {
      "text/plain": [
       "array([3.164e-07, 3.164e-07, 3.164e-07, 3.164e-07, 3.164e-07, 3.164e-07,\n",
       "       3.164e-07, 3.164e-07, 3.164e-07, 3.164e-07])"
      ]
     },
     "execution_count": 93,
     "metadata": {},
     "output_type": "execute_result"
    }
   ],
   "source": [
    "dist_wave_uncert"
   ]
  },
  {
   "cell_type": "code",
   "execution_count": 94,
   "metadata": {},
   "outputs": [
    {
     "data": {
      "image/png": "[encoded data removed]",
      "text/plain": [
       "<Figure size 640x480 with 1 Axes>"
      ]
     },
     "metadata": {},
     "output_type": "display_data"
    },
    {
     "name": "stdout",
     "output_type": "stream",
     "text": [
      "1.0065161111111118e-06\n",
      "5.965411881560852e-08\n"
     ]
    }
   ],
   "source": [
    "y=distance_wavelength/distance_screw\n",
    "y_err=np.sqrt((dist_wave_uncert/distance_screw)**2 + (distance_wavelength*dist_screw_uncert/distance_screw**2)**2)\n",
    "x=distance_screw\n",
    "\n",
    "\n",
    "ymean=y.mean()\n",
    "yuncert=np.std(y)\n",
    "\n",
    "\n",
    "sns.set_theme(style=\"darkgrid\")\n",
    "sns.set_context(\"paper\")\n",
    "plt.plot(np.arange(6, 10, 0.1), ymean*np.ones(40), label=\"Fit or mean value\", color=\"red\")\n",
    "plt.plot(np.arange(6, 10, 0.1), (ymean+yuncert)*np.ones(40),\"--\", label=\"Std of mean\", color=\"red\", alpha=0.4)\n",
    "plt.plot(np.arange(6, 10, 0.1), (ymean-yuncert)*np.ones(40),\"--\", color=\"red\", alpha=0.4)\n",
    "plt.errorbar(x, y, yerr=y_err, xerr=dist_screw_uncert, fmt='None', capsize=3, label=\"Data\")\n",
    "plt.scatter(x, y, label=\"Data\")\n",
    "plt.xlabel(r'Steps s on the Screwdriver', size=15)\n",
    "plt.ylabel(r\"Translation relationship $d_m/s$ in m\", size=15)\n",
    "#plt.suptitle(\"Translation $d_m$ dependent of adjustement path s\", size=20)\n",
    "plt.legend(loc='upper right')\n",
    "plt.savefig(\"translation.png\", dpi=500, bbox_inches=\"tight\")\n",
    "plt.show()\n",
    "\n",
    "print(ymean)\n",
    "print(yuncert)"
   ]
  },
  {
   "cell_type": "code",
   "execution_count": 21,
   "metadata": {},
   "outputs": [
    {
     "data": {
      "image/png": "[encoded data removed]",
      "text/plain": [
       "<Figure size 640x480 with 1 Axes>"
      ]
     },
     "metadata": {},
     "output_type": "display_data"
    }
   ],
   "source": [
    "y=distance_wavelength/df[\" Distance\"]\n",
    "y_err=np.sqrt((dist_wave_uncert/df[\"Uncert Distance\"])**2 + (distance_wavelength*df[\"Uncert Distance\"]/df[\" Distance\"]**2)**2)\n",
    "\n",
    "x=df[\" Distance\"]\n",
    "plt.errorbar(x, y, yerr=y_err, xerr=df[\"Uncert Distance\"], fmt='None')\n",
    "plt.show()"
   ]
  },
  {
   "cell_type": "code",
   "execution_count": null,
   "metadata": {},
   "outputs": [],
   "source": []
  }
 ],
 "metadata": {
  "kernelspec": {
   "display_name": "Python 3",
   "language": "python",
   "name": "python3"
  },
  "language_info": {
   "codemirror_mode": {
    "name": "ipython",
    "version": 3
   },
   "file_extension": ".py",
   "mimetype": "text/x-python",
   "name": "python",
   "nbconvert_exporter": "python",
   "pygments_lexer": "ipython3",
   "version": "3.9.13"
  },
  "orig_nbformat": 4
 },
 "nbformat": 4,
 "nbformat_minor": 2
}
