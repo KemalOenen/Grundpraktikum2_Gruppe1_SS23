{
 "cells": [
  {
   "cell_type": "code",
   "execution_count": 10,
   "id": "d4d7db8c",
   "metadata": {},
   "outputs": [
    {
     "name": "stdout",
     "output_type": "stream",
     "text": [
      "['Volt' '-1.04e-01' '-1.04e-01' ... '9.60e-02' '9.60e-02' '9.60e-02']\n",
      "['8.00e+00' '8.00e+00' '8.40e+00' ... '7.60e+00' '7.60e+00' '7.60e+00']\n",
      "['0' '1' '2' ... '1197' '1198' '1199']\n"
     ]
    }
   ],
   "source": [
    "#In this part of the program are the most important functions that we are going to need.\n",
    "#Please run this cell before any other, in order to achieve the availability of the functions.\n",
    "\n",
    "import numpy as np\n",
    "import pandas\n",
    "\n",
    "def read_data(filename):\n",
    "    df=pandas.read_csv(\"./rawData/\"+str(filename)) #loading the file\n",
    "    t_start = np.array(df[\"Start\"])[0] #time of starting the experiment\n",
    "    t_step = np.array(df[\"Increment\"])[0] #timesteps (to be multiplied with the first column)\n",
    "    element=np.array(df[\"X\"])[1:] #simply an element of a measure sequence\n",
    "    ch1=np.array(df[\"CH1\"])[1:] #data of ch1 in V\n",
    "    ch2=np.array(df[\"CH2\"])[1:] #data of ch2 in V\n",
    "\n",
    "    return ch1, ch2, t_start, t_step, element\n"
   ]
  },
  {
   "attachments": {},
   "cell_type": "markdown",
   "id": "a4d16584",
   "metadata": {},
   "source": [
    "Data analysis of EX 1 FET:\n",
    "plot X/Y of CH1/CH2 for 3V, 6V, 10V"
   ]
  },
  {
   "cell_type": "code",
   "execution_count": null,
   "id": "ef402208",
   "metadata": {},
   "outputs": [],
   "source": []
  }
 ],
 "metadata": {
  "kernelspec": {
   "display_name": "Python 3.8.9 64-bit",
   "language": "python",
   "name": "python3"
  },
  "language_info": {
   "codemirror_mode": {
    "name": "ipython",
    "version": 3
   },
   "file_extension": ".py",
   "mimetype": "text/x-python",
   "name": "python",
   "nbconvert_exporter": "python",
   "pygments_lexer": "ipython3",
   "version": "3.9.13"
  },
  "vscode": {
   "interpreter": {
    "hash": "31f2aee4e71d21fbe5cf8b01ff0e069b9275f58929596ceb00d14d90e3e16cd6"
   }
  }
 },
 "nbformat": 4,
 "nbformat_minor": 5
}
