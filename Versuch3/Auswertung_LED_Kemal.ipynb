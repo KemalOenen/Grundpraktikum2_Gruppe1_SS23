{
 "cells": [
  {
   "cell_type": "markdown",
   "id": "cf5cc645",
   "metadata": {},
   "source": [
    "# Versuch 3: Leucht- und Laserdioden\n",
    "\n",
    "(@everyone: please only write in the respective notebook that you are assigned to, to avoid merge conflicts)\n",
    "(I will then put everything in a collective notebook for the advisors)"
   ]
  },
  {
   "cell_type": "code",
   "execution_count": 381,
   "id": "3adeb1dd",
   "metadata": {},
   "outputs": [],
   "source": [
    "# I would recommend to get yourself the uncertainties package, otherwise you can comment all of this out\n",
    "# https://pythonhosted.org/uncertainties/\n",
    "from uncertainties import ufloat\n",
    "from uncertainties.umath import *  # sin(), etc.\n",
    "import uncertainties.umath"
   ]
  },
  {
   "cell_type": "code",
   "execution_count": 382,
   "id": "4e9ad514",
   "metadata": {},
   "outputs": [],
   "source": [
    "import numpy as np\n",
    "import pandas as pd\n",
    "import matplotlib.pyplot as plt\n",
    "import seaborn as sns"
   ]
  },
  {
   "cell_type": "markdown",
   "id": "602c284a",
   "metadata": {},
   "source": [
    "### Strom-Spannungskennlinie der Leuchtdiode"
   ]
  },
  {
   "cell_type": "markdown",
   "id": "86f5b39b",
   "metadata": {},
   "source": [
    "    Ablauf:\n",
    "    1.) Lese Daten ein\n",
    "    2.) inkludiere Fehler\n",
    "    3.) Plot der Kennlinie\n",
    "    4.) Fit mit scipy.optimize\n",
    "    5.) Berechnung der Frequenz"
   ]
  },
  {
   "cell_type": "markdown",
   "id": "c22a5b89",
   "metadata": {},
   "source": [
    "#### Teil 1: Blaue LED"
   ]
  },
  {
   "cell_type": "code",
   "execution_count": 383,
   "id": "691023ad",
   "metadata": {},
   "outputs": [],
   "source": [
    "data = pd.read_csv(\"LED_blau_V_A.csv\")"
   ]
  },
  {
   "cell_type": "code",
   "execution_count": 384,
   "id": "d8c330f5",
   "metadata": {},
   "outputs": [],
   "source": [
    "data.drop(data.columns[len(data.columns)-1], axis=1, inplace=True)"
   ]
  },
  {
   "cell_type": "code",
   "execution_count": 385,
   "id": "75de7794",
   "metadata": {},
   "outputs": [],
   "source": [
    "data[\"Error U Verbraucher / V\"] = 0.1\n",
    "data[\"Error U Diode / V\"] = 0.001\n",
    "data[\"Error I Diode / mA\"] = 0.01"
   ]
  },
  {
   "cell_type": "code",
   "execution_count": 386,
   "id": "cb26a3a5",
   "metadata": {
    "scrolled": false
   },
   "outputs": [
    {
     "data": {
      "text/html": [
       "<div>\n",
       "<style scoped>\n",
       "    .dataframe tbody tr th:only-of-type {\n",
       "        vertical-align: middle;\n",
       "    }\n",
       "\n",
       "    .dataframe tbody tr th {\n",
       "        vertical-align: top;\n",
       "    }\n",
       "\n",
       "    .dataframe thead th {\n",
       "        text-align: right;\n",
       "    }\n",
       "</style>\n",
       "<table border=\"1\" class=\"dataframe\">\n",
       "  <thead>\n",
       "    <tr style=\"text-align: right;\">\n",
       "      <th></th>\n",
       "      <th>U Verbraucher/V</th>\n",
       "      <th>U Diode/V</th>\n",
       "      <th>I Diode/mA</th>\n",
       "      <th>Error U Verbraucher / V</th>\n",
       "      <th>Error U Diode / V</th>\n",
       "      <th>Error I Diode / mA</th>\n",
       "    </tr>\n",
       "  </thead>\n",
       "  <tbody>\n",
       "    <tr>\n",
       "      <th>0</th>\n",
       "      <td>1.0</td>\n",
       "      <td>0.988</td>\n",
       "      <td>0.00</td>\n",
       "      <td>0.1</td>\n",
       "      <td>0.001</td>\n",
       "      <td>0.01</td>\n",
       "    </tr>\n",
       "    <tr>\n",
       "      <th>1</th>\n",
       "      <td>1.5</td>\n",
       "      <td>1.510</td>\n",
       "      <td>0.00</td>\n",
       "      <td>0.1</td>\n",
       "      <td>0.001</td>\n",
       "      <td>0.01</td>\n",
       "    </tr>\n",
       "    <tr>\n",
       "      <th>2</th>\n",
       "      <td>2.5</td>\n",
       "      <td>2.450</td>\n",
       "      <td>0.01</td>\n",
       "      <td>0.1</td>\n",
       "      <td>0.001</td>\n",
       "      <td>0.01</td>\n",
       "    </tr>\n",
       "    <tr>\n",
       "      <th>3</th>\n",
       "      <td>3.2</td>\n",
       "      <td>2.815</td>\n",
       "      <td>1.25</td>\n",
       "      <td>0.1</td>\n",
       "      <td>0.001</td>\n",
       "      <td>0.01</td>\n",
       "    </tr>\n",
       "    <tr>\n",
       "      <th>4</th>\n",
       "      <td>3.5</td>\n",
       "      <td>2.862</td>\n",
       "      <td>1.99</td>\n",
       "      <td>0.1</td>\n",
       "      <td>0.001</td>\n",
       "      <td>0.01</td>\n",
       "    </tr>\n",
       "    <tr>\n",
       "      <th>5</th>\n",
       "      <td>4.0</td>\n",
       "      <td>2.926</td>\n",
       "      <td>3.44</td>\n",
       "      <td>0.1</td>\n",
       "      <td>0.001</td>\n",
       "      <td>0.01</td>\n",
       "    </tr>\n",
       "    <tr>\n",
       "      <th>6</th>\n",
       "      <td>4.5</td>\n",
       "      <td>2.978</td>\n",
       "      <td>5.08</td>\n",
       "      <td>0.1</td>\n",
       "      <td>0.001</td>\n",
       "      <td>0.01</td>\n",
       "    </tr>\n",
       "    <tr>\n",
       "      <th>7</th>\n",
       "      <td>5.0</td>\n",
       "      <td>3.013</td>\n",
       "      <td>6.53</td>\n",
       "      <td>0.1</td>\n",
       "      <td>0.001</td>\n",
       "      <td>0.01</td>\n",
       "    </tr>\n",
       "    <tr>\n",
       "      <th>8</th>\n",
       "      <td>5.5</td>\n",
       "      <td>3.047</td>\n",
       "      <td>8.06</td>\n",
       "      <td>0.1</td>\n",
       "      <td>0.001</td>\n",
       "      <td>0.01</td>\n",
       "    </tr>\n",
       "    <tr>\n",
       "      <th>9</th>\n",
       "      <td>6.0</td>\n",
       "      <td>3.081</td>\n",
       "      <td>9.90</td>\n",
       "      <td>0.1</td>\n",
       "      <td>0.001</td>\n",
       "      <td>0.01</td>\n",
       "    </tr>\n",
       "    <tr>\n",
       "      <th>10</th>\n",
       "      <td>6.5</td>\n",
       "      <td>3.106</td>\n",
       "      <td>11.46</td>\n",
       "      <td>0.1</td>\n",
       "      <td>0.001</td>\n",
       "      <td>0.01</td>\n",
       "    </tr>\n",
       "    <tr>\n",
       "      <th>11</th>\n",
       "      <td>7.0</td>\n",
       "      <td>3.127</td>\n",
       "      <td>12.95</td>\n",
       "      <td>0.1</td>\n",
       "      <td>0.001</td>\n",
       "      <td>0.01</td>\n",
       "    </tr>\n",
       "    <tr>\n",
       "      <th>12</th>\n",
       "      <td>7.5</td>\n",
       "      <td>3.145</td>\n",
       "      <td>14.42</td>\n",
       "      <td>0.1</td>\n",
       "      <td>0.001</td>\n",
       "      <td>0.01</td>\n",
       "    </tr>\n",
       "    <tr>\n",
       "      <th>13</th>\n",
       "      <td>8.0</td>\n",
       "      <td>3.162</td>\n",
       "      <td>16.16</td>\n",
       "      <td>0.1</td>\n",
       "      <td>0.001</td>\n",
       "      <td>0.01</td>\n",
       "    </tr>\n",
       "    <tr>\n",
       "      <th>14</th>\n",
       "      <td>8.5</td>\n",
       "      <td>3.186</td>\n",
       "      <td>17.76</td>\n",
       "      <td>0.1</td>\n",
       "      <td>0.001</td>\n",
       "      <td>0.01</td>\n",
       "    </tr>\n",
       "    <tr>\n",
       "      <th>15</th>\n",
       "      <td>9.0</td>\n",
       "      <td>3.205</td>\n",
       "      <td>19.45</td>\n",
       "      <td>0.1</td>\n",
       "      <td>0.001</td>\n",
       "      <td>0.01</td>\n",
       "    </tr>\n",
       "    <tr>\n",
       "      <th>16</th>\n",
       "      <td>9.5</td>\n",
       "      <td>3.220</td>\n",
       "      <td>20.92</td>\n",
       "      <td>0.1</td>\n",
       "      <td>0.001</td>\n",
       "      <td>0.01</td>\n",
       "    </tr>\n",
       "    <tr>\n",
       "      <th>17</th>\n",
       "      <td>10.0</td>\n",
       "      <td>3.235</td>\n",
       "      <td>22.52</td>\n",
       "      <td>0.1</td>\n",
       "      <td>0.001</td>\n",
       "      <td>0.01</td>\n",
       "    </tr>\n",
       "    <tr>\n",
       "      <th>18</th>\n",
       "      <td>10.5</td>\n",
       "      <td>3.248</td>\n",
       "      <td>24.08</td>\n",
       "      <td>0.1</td>\n",
       "      <td>0.001</td>\n",
       "      <td>0.01</td>\n",
       "    </tr>\n",
       "    <tr>\n",
       "      <th>19</th>\n",
       "      <td>11.0</td>\n",
       "      <td>3.264</td>\n",
       "      <td>25.93</td>\n",
       "      <td>0.1</td>\n",
       "      <td>0.001</td>\n",
       "      <td>0.01</td>\n",
       "    </tr>\n",
       "    <tr>\n",
       "      <th>20</th>\n",
       "      <td>11.5</td>\n",
       "      <td>3.275</td>\n",
       "      <td>27.48</td>\n",
       "      <td>0.1</td>\n",
       "      <td>0.001</td>\n",
       "      <td>0.01</td>\n",
       "    </tr>\n",
       "    <tr>\n",
       "      <th>21</th>\n",
       "      <td>12.0</td>\n",
       "      <td>3.288</td>\n",
       "      <td>29.07</td>\n",
       "      <td>0.1</td>\n",
       "      <td>0.001</td>\n",
       "      <td>0.01</td>\n",
       "    </tr>\n",
       "    <tr>\n",
       "      <th>22</th>\n",
       "      <td>12.5</td>\n",
       "      <td>3.296</td>\n",
       "      <td>30.88</td>\n",
       "      <td>0.1</td>\n",
       "      <td>0.001</td>\n",
       "      <td>0.01</td>\n",
       "    </tr>\n",
       "    <tr>\n",
       "      <th>23</th>\n",
       "      <td>13.0</td>\n",
       "      <td>3.307</td>\n",
       "      <td>32.29</td>\n",
       "      <td>0.1</td>\n",
       "      <td>0.001</td>\n",
       "      <td>0.01</td>\n",
       "    </tr>\n",
       "    <tr>\n",
       "      <th>24</th>\n",
       "      <td>13.5</td>\n",
       "      <td>3.317</td>\n",
       "      <td>34.04</td>\n",
       "      <td>0.1</td>\n",
       "      <td>0.001</td>\n",
       "      <td>0.01</td>\n",
       "    </tr>\n",
       "    <tr>\n",
       "      <th>25</th>\n",
       "      <td>14.0</td>\n",
       "      <td>3.330</td>\n",
       "      <td>35.84</td>\n",
       "      <td>0.1</td>\n",
       "      <td>0.001</td>\n",
       "      <td>0.01</td>\n",
       "    </tr>\n",
       "    <tr>\n",
       "      <th>26</th>\n",
       "      <td>14.5</td>\n",
       "      <td>3.339</td>\n",
       "      <td>37.33</td>\n",
       "      <td>0.1</td>\n",
       "      <td>0.001</td>\n",
       "      <td>0.01</td>\n",
       "    </tr>\n",
       "  </tbody>\n",
       "</table>\n",
       "</div>"
      ],
      "text/plain": [
       "    U Verbraucher/V   U Diode/V   I Diode/mA  Error U Verbraucher / V  \\\n",
       "0               1.0       0.988         0.00                      0.1   \n",
       "1               1.5       1.510         0.00                      0.1   \n",
       "2               2.5       2.450         0.01                      0.1   \n",
       "3               3.2       2.815         1.25                      0.1   \n",
       "4               3.5       2.862         1.99                      0.1   \n",
       "5               4.0       2.926         3.44                      0.1   \n",
       "6               4.5       2.978         5.08                      0.1   \n",
       "7               5.0       3.013         6.53                      0.1   \n",
       "8               5.5       3.047         8.06                      0.1   \n",
       "9               6.0       3.081         9.90                      0.1   \n",
       "10              6.5       3.106        11.46                      0.1   \n",
       "11              7.0       3.127        12.95                      0.1   \n",
       "12              7.5       3.145        14.42                      0.1   \n",
       "13              8.0       3.162        16.16                      0.1   \n",
       "14              8.5       3.186        17.76                      0.1   \n",
       "15              9.0       3.205        19.45                      0.1   \n",
       "16              9.5       3.220        20.92                      0.1   \n",
       "17             10.0       3.235        22.52                      0.1   \n",
       "18             10.5       3.248        24.08                      0.1   \n",
       "19             11.0       3.264        25.93                      0.1   \n",
       "20             11.5       3.275        27.48                      0.1   \n",
       "21             12.0       3.288        29.07                      0.1   \n",
       "22             12.5       3.296        30.88                      0.1   \n",
       "23             13.0       3.307        32.29                      0.1   \n",
       "24             13.5       3.317        34.04                      0.1   \n",
       "25             14.0       3.330        35.84                      0.1   \n",
       "26             14.5       3.339        37.33                      0.1   \n",
       "\n",
       "    Error U Diode / V  Error I Diode / mA  \n",
       "0               0.001                0.01  \n",
       "1               0.001                0.01  \n",
       "2               0.001                0.01  \n",
       "3               0.001                0.01  \n",
       "4               0.001                0.01  \n",
       "5               0.001                0.01  \n",
       "6               0.001                0.01  \n",
       "7               0.001                0.01  \n",
       "8               0.001                0.01  \n",
       "9               0.001                0.01  \n",
       "10              0.001                0.01  \n",
       "11              0.001                0.01  \n",
       "12              0.001                0.01  \n",
       "13              0.001                0.01  \n",
       "14              0.001                0.01  \n",
       "15              0.001                0.01  \n",
       "16              0.001                0.01  \n",
       "17              0.001                0.01  \n",
       "18              0.001                0.01  \n",
       "19              0.001                0.01  \n",
       "20              0.001                0.01  \n",
       "21              0.001                0.01  \n",
       "22              0.001                0.01  \n",
       "23              0.001                0.01  \n",
       "24              0.001                0.01  \n",
       "25              0.001                0.01  \n",
       "26              0.001                0.01  "
      ]
     },
     "execution_count": 386,
     "metadata": {},
     "output_type": "execute_result"
    }
   ],
   "source": [
    "data"
   ]
  },
  {
   "cell_type": "code",
   "execution_count": 396,
   "id": "ad20c397",
   "metadata": {},
   "outputs": [
    {
     "data": {
      "image/png": "[encoded data removed]",
      "text/plain": [
       "<Figure size 640x480 with 1 Axes>"
      ]
     },
     "metadata": {},
     "output_type": "display_data"
    }
   ],
   "source": [
    "sns.set_theme(style=\"darkgrid\")\n",
    "sns.set_context(\"talk\")\n",
    "plt.xlabel(\"U$_{{Diode}}$ / V\")\n",
    "plt.ylabel(\"I$_{{Diode}}$ / mA\")\n",
    "plt.errorbar(x=data[\" U Diode/V\"], xerr=data[\"Error U Diode / V\"], \n",
    "             y=data[\" I Diode/mA\"] , yerr=data[\"Error I Diode / mA\"],\n",
    "             markersize=6, fmt=\".\",color=\"navy\", ecolor=\"lightsteelblue\", elinewidth=2, capsize=3, label=\"Datenpunkte\")\n",
    "plt.legend()\n",
    "plt.savefig(\"I_U_LED_blaueLED.png\", dpi=500, bbox_inches=\"tight\")"
   ]
  },
  {
   "cell_type": "code",
   "execution_count": 388,
   "id": "9d1dc211",
   "metadata": {},
   "outputs": [],
   "source": [
    "import scipy.optimize\n",
    "def fit_function(p,x):\n",
    "    k, d = p\n",
    "    return k*x + d\n",
    "\n",
    "def fit_function_plot(x,k,d):\n",
    "    return k*x + d"
   ]
  },
  {
   "cell_type": "markdown",
   "id": "d8dea3b5",
   "metadata": {},
   "source": [
    "#### one needs to test a little bit how many datapoints one wants to include"
   ]
  },
  {
   "cell_type": "code",
   "execution_count": 389,
   "id": "94483eb7",
   "metadata": {},
   "outputs": [],
   "source": [
    "# first guess, but we want to have the errors in x and y included in the fit\n",
    "#p_opt, p_var = scipy.optimize.curve_fit(fit_function, data[\" U Diode/V\"][7:],\n",
    "#                                        data[\" I Diode/mA\"][7:])\n",
    "#print(\"k =\",p_opt[0],\"+/-\",np.sqrt(p_var[0][0]))\n",
    "#print(\"d =\",p_opt[1],\"+/-\",np.sqrt(p_var[1][1]))\n",
    "\n",
    "\n",
    "#determined values:\n",
    "#k = 96.41904022629207 +/- 4.228917521625311\n",
    "#d = -287.60823055829565 +/- 13.57890088633359"
   ]
  },
  {
   "cell_type": "code",
   "execution_count": 390,
   "id": "a2f68a28",
   "metadata": {},
   "outputs": [],
   "source": [
    "x_data = data[\" U Diode/V\"][19:].to_numpy()\n",
    "x_er = data[\"Error U Diode / V\"][19:].to_numpy()\n",
    "y_data = data[\" I Diode/mA\"][19:].to_numpy()\n",
    "y_er = data[\"Error I Diode / mA\"][19:].to_numpy()"
   ]
  },
  {
   "cell_type": "code",
   "execution_count": 391,
   "id": "2a2704a0",
   "metadata": {},
   "outputs": [],
   "source": [
    "# use ODR\n",
    "from scipy import odr\n",
    "\n",
    "data_odr = odr.RealData(x_data, y_data,\n",
    "                    sx=x_er, sy=y_er)\n",
    "odr = odr.ODR(data_odr, odr.Model(fit_function),beta0=[0., 1.])\n",
    "out = odr.run()"
   ]
  },
  {
   "cell_type": "code",
   "execution_count": 392,
   "id": "216e8590",
   "metadata": {},
   "outputs": [
    {
     "name": "stdout",
     "output_type": "stream",
     "text": [
      "fit parameter and 1-sigma error\n",
      "———————————–\n",
      "153.66012501751987 +- 2.908347798791255\n",
      "-475.7782328085739 +- 9.603628337953692\n",
      "reduced chi squared =  1.7114811855533338\n"
     ]
    }
   ],
   "source": [
    "p_opt = out.beta\n",
    "p_err = out.sd_beta\n",
    "red_chi_squared = out.res_var\n",
    "print(\"fit parameter and 1-sigma error\")\n",
    "print(\"———————————–\")\n",
    "for i in range(len(p_opt)):\n",
    "    print(str(p_opt[i]) + \" +- \" +str(p_err[i]))\n",
    "print(\"reduced chi squared = \", red_chi_squared)"
   ]
  },
  {
   "cell_type": "code",
   "execution_count": 393,
   "id": "39ef0678",
   "metadata": {},
   "outputs": [],
   "source": [
    "#create x for plotting with the linear fit\n",
    "linear_fit_U = np.arange(2.95,3.4,0.001)"
   ]
  },
  {
   "cell_type": "code",
   "execution_count": 395,
   "id": "4a02bc84",
   "metadata": {
    "scrolled": false
   },
   "outputs": [
    {
     "data": {
      "image/png": "[encoded data removed]",
      "text/plain": [
       "<Figure size 640x480 with 1 Axes>"
      ]
     },
     "metadata": {},
     "output_type": "display_data"
    }
   ],
   "source": [
    "sns.set_theme(style=\"darkgrid\")\n",
    "sns.set_context(\"talk\")\n",
    "plt.xlabel(\"U$_{{Diode}}$ / V\")\n",
    "plt.ylabel(\"I$_{{Diode}}$ / mA\")\n",
    "plt.errorbar(x=data[\" U Diode/V\"], xerr=data[\"Error U Diode / V\"], \n",
    "             y=data[\" I Diode/mA\"] , yerr=data[\"Error I Diode / mA\"],\n",
    "             markersize=6, fmt=\".\",color=\"navy\", ecolor=\"lightsteelblue\", elinewidth=2, capsize=3, label=\"Datenpunkte\")\n",
    "\n",
    "plt.plot(linear_fit_U, fit_function_plot(linear_fit_U,p_opt[0],p_opt[1]),\"--\", color=\"darkorange\", label=\"Fitgerade\")\n",
    "plt.legend()\n",
    "plt.savefig(\"I_U_LED_blaueLED_FIT.png\", dpi=500, bbox_inches=\"tight\")"
   ]
  },
  {
   "cell_type": "code",
   "execution_count": 397,
   "id": "b1f8647d",
   "metadata": {},
   "outputs": [
    {
     "data": {
      "text/plain": [
       "3.09630252321041+/-0.039845073623236936"
      ]
     },
     "execution_count": 397,
     "metadata": {},
     "output_type": "execute_result"
    }
   ],
   "source": [
    "d = ufloat(p_opt[1],np.sqrt(p_err[1]))\n",
    "k = ufloat(p_opt[0],np.sqrt(p_err[0]))\n",
    "U_d = -d/k\n",
    "U_d"
   ]
  },
  {
   "cell_type": "code",
   "execution_count": 398,
   "id": "4a7e88c2",
   "metadata": {},
   "outputs": [],
   "source": [
    "from scipy.constants import e, h, c"
   ]
  },
  {
   "cell_type": "markdown",
   "id": "3b184763",
   "metadata": {},
   "source": [
    "$\\nu = \\dfrac{e \\cdot U_d}{h}$"
   ]
  },
  {
   "cell_type": "code",
   "execution_count": 399,
   "id": "9d3a62bc",
   "metadata": {},
   "outputs": [
    {
     "data": {
      "text/plain": [
       "748682619136316.0+/-9634495937106.844"
      ]
     },
     "execution_count": 399,
     "metadata": {},
     "output_type": "execute_result"
    }
   ],
   "source": [
    "nu = e*U_d/h\n",
    "nu"
   ]
  },
  {
   "cell_type": "code",
   "execution_count": 400,
   "id": "a15f79b2",
   "metadata": {},
   "outputs": [
    {
     "data": {
      "text/plain": [
       "4.004266298392797e-07+/-5.152929478644005e-09"
      ]
     },
     "execution_count": 400,
     "metadata": {},
     "output_type": "execute_result"
    }
   ],
   "source": [
    "lambda_blue = c/nu\n",
    "lambda_blue"
   ]
  },
  {
   "cell_type": "markdown",
   "id": "e97714c1",
   "metadata": {},
   "source": [
    "#### Teil 2: Rote LED"
   ]
  },
  {
   "cell_type": "code",
   "execution_count": 401,
   "id": "d4ca802a",
   "metadata": {},
   "outputs": [],
   "source": [
    "data_red = pd.read_csv(\"LED_rot_V_A_I.csv\", encoding= 'unicode_escape')"
   ]
  },
  {
   "cell_type": "code",
   "execution_count": 402,
   "id": "7495741d",
   "metadata": {},
   "outputs": [],
   "source": [
    "# we currently only need the first three colums:\n",
    "data_red.drop(data_red.columns[len(data_red.columns)-1], axis=1, inplace=True)\n",
    "data_red.drop(data_red.columns[len(data_red.columns)-1], axis=1, inplace=True)\n",
    "data_red.drop(data_red.columns[len(data_red.columns)-1], axis=1, inplace=True)"
   ]
  },
  {
   "cell_type": "code",
   "execution_count": 403,
   "id": "0440410e",
   "metadata": {},
   "outputs": [
    {
     "data": {
      "text/html": [
       "<div>\n",
       "<style scoped>\n",
       "    .dataframe tbody tr th:only-of-type {\n",
       "        vertical-align: middle;\n",
       "    }\n",
       "\n",
       "    .dataframe tbody tr th {\n",
       "        vertical-align: top;\n",
       "    }\n",
       "\n",
       "    .dataframe thead th {\n",
       "        text-align: right;\n",
       "    }\n",
       "</style>\n",
       "<table border=\"1\" class=\"dataframe\">\n",
       "  <thead>\n",
       "    <tr style=\"text-align: right;\">\n",
       "      <th></th>\n",
       "      <th>U Verbraucher/V</th>\n",
       "      <th>U Diode/V</th>\n",
       "      <th>I Diode/mA</th>\n",
       "    </tr>\n",
       "  </thead>\n",
       "  <tbody>\n",
       "    <tr>\n",
       "      <th>0</th>\n",
       "      <td>2.0</td>\n",
       "      <td>1.645</td>\n",
       "      <td>1.22</td>\n",
       "    </tr>\n",
       "    <tr>\n",
       "      <th>1</th>\n",
       "      <td>3.0</td>\n",
       "      <td>1.714</td>\n",
       "      <td>4.14</td>\n",
       "    </tr>\n",
       "    <tr>\n",
       "      <th>2</th>\n",
       "      <td>4.0</td>\n",
       "      <td>1.759</td>\n",
       "      <td>7.35</td>\n",
       "    </tr>\n",
       "    <tr>\n",
       "      <th>3</th>\n",
       "      <td>5.0</td>\n",
       "      <td>1.795</td>\n",
       "      <td>10.76</td>\n",
       "    </tr>\n",
       "    <tr>\n",
       "      <th>4</th>\n",
       "      <td>6.0</td>\n",
       "      <td>1.825</td>\n",
       "      <td>14.02</td>\n",
       "    </tr>\n",
       "    <tr>\n",
       "      <th>5</th>\n",
       "      <td>7.0</td>\n",
       "      <td>1.851</td>\n",
       "      <td>17.22</td>\n",
       "    </tr>\n",
       "    <tr>\n",
       "      <th>6</th>\n",
       "      <td>7.5</td>\n",
       "      <td>1.862</td>\n",
       "      <td>18.73</td>\n",
       "    </tr>\n",
       "    <tr>\n",
       "      <th>7</th>\n",
       "      <td>8.0</td>\n",
       "      <td>1.875</td>\n",
       "      <td>20.40</td>\n",
       "    </tr>\n",
       "    <tr>\n",
       "      <th>8</th>\n",
       "      <td>9.0</td>\n",
       "      <td>1.900</td>\n",
       "      <td>23.85</td>\n",
       "    </tr>\n",
       "    <tr>\n",
       "      <th>9</th>\n",
       "      <td>10.0</td>\n",
       "      <td>1.922</td>\n",
       "      <td>27.07</td>\n",
       "    </tr>\n",
       "    <tr>\n",
       "      <th>10</th>\n",
       "      <td>11.0</td>\n",
       "      <td>1.943</td>\n",
       "      <td>30.18</td>\n",
       "    </tr>\n",
       "    <tr>\n",
       "      <th>11</th>\n",
       "      <td>11.5</td>\n",
       "      <td>1.954</td>\n",
       "      <td>31.86</td>\n",
       "    </tr>\n",
       "    <tr>\n",
       "      <th>12</th>\n",
       "      <td>12.0</td>\n",
       "      <td>1.964</td>\n",
       "      <td>33.47</td>\n",
       "    </tr>\n",
       "    <tr>\n",
       "      <th>13</th>\n",
       "      <td>13.0</td>\n",
       "      <td>1.986</td>\n",
       "      <td>36.85</td>\n",
       "    </tr>\n",
       "    <tr>\n",
       "      <th>14</th>\n",
       "      <td>13.5</td>\n",
       "      <td>1.996</td>\n",
       "      <td>38.49</td>\n",
       "    </tr>\n",
       "  </tbody>\n",
       "</table>\n",
       "</div>"
      ],
      "text/plain": [
       "    U Verbraucher/V   U Diode/V   I Diode/mA\n",
       "0               2.0       1.645         1.22\n",
       "1               3.0       1.714         4.14\n",
       "2               4.0       1.759         7.35\n",
       "3               5.0       1.795        10.76\n",
       "4               6.0       1.825        14.02\n",
       "5               7.0       1.851        17.22\n",
       "6               7.5       1.862        18.73\n",
       "7               8.0       1.875        20.40\n",
       "8               9.0       1.900        23.85\n",
       "9              10.0       1.922        27.07\n",
       "10             11.0       1.943        30.18\n",
       "11             11.5       1.954        31.86\n",
       "12             12.0       1.964        33.47\n",
       "13             13.0       1.986        36.85\n",
       "14             13.5       1.996        38.49"
      ]
     },
     "execution_count": 403,
     "metadata": {},
     "output_type": "execute_result"
    }
   ],
   "source": [
    "data_red"
   ]
  },
  {
   "cell_type": "code",
   "execution_count": 404,
   "id": "5a00d82b",
   "metadata": {},
   "outputs": [],
   "source": [
    "data_red[\"Error U Verbraucher / V\"] = 0.1\n",
    "data_red[\"Error U Diode / V\"] = 0.001\n",
    "data_red[\"Error I Diode / mA\"] = 0.01"
   ]
  },
  {
   "cell_type": "code",
   "execution_count": 405,
   "id": "3dfe35f1",
   "metadata": {},
   "outputs": [
    {
     "data": {
      "text/html": [
       "<div>\n",
       "<style scoped>\n",
       "    .dataframe tbody tr th:only-of-type {\n",
       "        vertical-align: middle;\n",
       "    }\n",
       "\n",
       "    .dataframe tbody tr th {\n",
       "        vertical-align: top;\n",
       "    }\n",
       "\n",
       "    .dataframe thead th {\n",
       "        text-align: right;\n",
       "    }\n",
       "</style>\n",
       "<table border=\"1\" class=\"dataframe\">\n",
       "  <thead>\n",
       "    <tr style=\"text-align: right;\">\n",
       "      <th></th>\n",
       "      <th>U Verbraucher/V</th>\n",
       "      <th>U Diode/V</th>\n",
       "      <th>I Diode/mA</th>\n",
       "      <th>Error U Verbraucher / V</th>\n",
       "      <th>Error U Diode / V</th>\n",
       "      <th>Error I Diode / mA</th>\n",
       "    </tr>\n",
       "  </thead>\n",
       "  <tbody>\n",
       "    <tr>\n",
       "      <th>0</th>\n",
       "      <td>2.0</td>\n",
       "      <td>1.645</td>\n",
       "      <td>1.22</td>\n",
       "      <td>0.1</td>\n",
       "      <td>0.001</td>\n",
       "      <td>0.01</td>\n",
       "    </tr>\n",
       "    <tr>\n",
       "      <th>1</th>\n",
       "      <td>3.0</td>\n",
       "      <td>1.714</td>\n",
       "      <td>4.14</td>\n",
       "      <td>0.1</td>\n",
       "      <td>0.001</td>\n",
       "      <td>0.01</td>\n",
       "    </tr>\n",
       "    <tr>\n",
       "      <th>2</th>\n",
       "      <td>4.0</td>\n",
       "      <td>1.759</td>\n",
       "      <td>7.35</td>\n",
       "      <td>0.1</td>\n",
       "      <td>0.001</td>\n",
       "      <td>0.01</td>\n",
       "    </tr>\n",
       "    <tr>\n",
       "      <th>3</th>\n",
       "      <td>5.0</td>\n",
       "      <td>1.795</td>\n",
       "      <td>10.76</td>\n",
       "      <td>0.1</td>\n",
       "      <td>0.001</td>\n",
       "      <td>0.01</td>\n",
       "    </tr>\n",
       "    <tr>\n",
       "      <th>4</th>\n",
       "      <td>6.0</td>\n",
       "      <td>1.825</td>\n",
       "      <td>14.02</td>\n",
       "      <td>0.1</td>\n",
       "      <td>0.001</td>\n",
       "      <td>0.01</td>\n",
       "    </tr>\n",
       "    <tr>\n",
       "      <th>5</th>\n",
       "      <td>7.0</td>\n",
       "      <td>1.851</td>\n",
       "      <td>17.22</td>\n",
       "      <td>0.1</td>\n",
       "      <td>0.001</td>\n",
       "      <td>0.01</td>\n",
       "    </tr>\n",
       "    <tr>\n",
       "      <th>6</th>\n",
       "      <td>7.5</td>\n",
       "      <td>1.862</td>\n",
       "      <td>18.73</td>\n",
       "      <td>0.1</td>\n",
       "      <td>0.001</td>\n",
       "      <td>0.01</td>\n",
       "    </tr>\n",
       "    <tr>\n",
       "      <th>7</th>\n",
       "      <td>8.0</td>\n",
       "      <td>1.875</td>\n",
       "      <td>20.40</td>\n",
       "      <td>0.1</td>\n",
       "      <td>0.001</td>\n",
       "      <td>0.01</td>\n",
       "    </tr>\n",
       "    <tr>\n",
       "      <th>8</th>\n",
       "      <td>9.0</td>\n",
       "      <td>1.900</td>\n",
       "      <td>23.85</td>\n",
       "      <td>0.1</td>\n",
       "      <td>0.001</td>\n",
       "      <td>0.01</td>\n",
       "    </tr>\n",
       "    <tr>\n",
       "      <th>9</th>\n",
       "      <td>10.0</td>\n",
       "      <td>1.922</td>\n",
       "      <td>27.07</td>\n",
       "      <td>0.1</td>\n",
       "      <td>0.001</td>\n",
       "      <td>0.01</td>\n",
       "    </tr>\n",
       "    <tr>\n",
       "      <th>10</th>\n",
       "      <td>11.0</td>\n",
       "      <td>1.943</td>\n",
       "      <td>30.18</td>\n",
       "      <td>0.1</td>\n",
       "      <td>0.001</td>\n",
       "      <td>0.01</td>\n",
       "    </tr>\n",
       "    <tr>\n",
       "      <th>11</th>\n",
       "      <td>11.5</td>\n",
       "      <td>1.954</td>\n",
       "      <td>31.86</td>\n",
       "      <td>0.1</td>\n",
       "      <td>0.001</td>\n",
       "      <td>0.01</td>\n",
       "    </tr>\n",
       "    <tr>\n",
       "      <th>12</th>\n",
       "      <td>12.0</td>\n",
       "      <td>1.964</td>\n",
       "      <td>33.47</td>\n",
       "      <td>0.1</td>\n",
       "      <td>0.001</td>\n",
       "      <td>0.01</td>\n",
       "    </tr>\n",
       "    <tr>\n",
       "      <th>13</th>\n",
       "      <td>13.0</td>\n",
       "      <td>1.986</td>\n",
       "      <td>36.85</td>\n",
       "      <td>0.1</td>\n",
       "      <td>0.001</td>\n",
       "      <td>0.01</td>\n",
       "    </tr>\n",
       "    <tr>\n",
       "      <th>14</th>\n",
       "      <td>13.5</td>\n",
       "      <td>1.996</td>\n",
       "      <td>38.49</td>\n",
       "      <td>0.1</td>\n",
       "      <td>0.001</td>\n",
       "      <td>0.01</td>\n",
       "    </tr>\n",
       "  </tbody>\n",
       "</table>\n",
       "</div>"
      ],
      "text/plain": [
       "    U Verbraucher/V   U Diode/V   I Diode/mA  Error U Verbraucher / V  \\\n",
       "0               2.0       1.645         1.22                      0.1   \n",
       "1               3.0       1.714         4.14                      0.1   \n",
       "2               4.0       1.759         7.35                      0.1   \n",
       "3               5.0       1.795        10.76                      0.1   \n",
       "4               6.0       1.825        14.02                      0.1   \n",
       "5               7.0       1.851        17.22                      0.1   \n",
       "6               7.5       1.862        18.73                      0.1   \n",
       "7               8.0       1.875        20.40                      0.1   \n",
       "8               9.0       1.900        23.85                      0.1   \n",
       "9              10.0       1.922        27.07                      0.1   \n",
       "10             11.0       1.943        30.18                      0.1   \n",
       "11             11.5       1.954        31.86                      0.1   \n",
       "12             12.0       1.964        33.47                      0.1   \n",
       "13             13.0       1.986        36.85                      0.1   \n",
       "14             13.5       1.996        38.49                      0.1   \n",
       "\n",
       "    Error U Diode / V  Error I Diode / mA  \n",
       "0               0.001                0.01  \n",
       "1               0.001                0.01  \n",
       "2               0.001                0.01  \n",
       "3               0.001                0.01  \n",
       "4               0.001                0.01  \n",
       "5               0.001                0.01  \n",
       "6               0.001                0.01  \n",
       "7               0.001                0.01  \n",
       "8               0.001                0.01  \n",
       "9               0.001                0.01  \n",
       "10              0.001                0.01  \n",
       "11              0.001                0.01  \n",
       "12              0.001                0.01  \n",
       "13              0.001                0.01  \n",
       "14              0.001                0.01  "
      ]
     },
     "execution_count": 405,
     "metadata": {},
     "output_type": "execute_result"
    }
   ],
   "source": [
    "data_red"
   ]
  },
  {
   "cell_type": "code",
   "execution_count": 406,
   "id": "4c9a64bd",
   "metadata": {},
   "outputs": [
    {
     "data": {
      "image/png": "[encoded data removed]",
      "text/plain": [
       "<Figure size 640x480 with 1 Axes>"
      ]
     },
     "metadata": {},
     "output_type": "display_data"
    }
   ],
   "source": [
    "sns.set_theme(style=\"darkgrid\")\n",
    "sns.set_context(\"talk\")\n",
    "plt.xlabel(\"U$_{{Diode}}$ / V\")\n",
    "plt.ylabel(\"I$_{{Diode}}$ / mA\")\n",
    "plt.errorbar(x=data_red[\" U Diode/V\"], xerr=data_red[\"Error U Diode / V\"], \n",
    "             y=data_red[\" I Diode/mA\"] , yerr=data_red[\"Error I Diode / mA\"],\n",
    "             markersize=6, fmt=\".\",color=\"navy\", ecolor=\"lightsteelblue\", elinewidth=2, capsize=3, label=\"Datenpunkte\")\n",
    "plt.legend()\n",
    "plt.savefig(\"I_U_LED_roteLED.png\", dpi=500,bbox_inches=\"tight\")"
   ]
  },
  {
   "cell_type": "code",
   "execution_count": 407,
   "id": "4ea19d25",
   "metadata": {},
   "outputs": [],
   "source": [
    "import scipy.optimize\n",
    "def fit_function(p,x):\n",
    "    k, d = p\n",
    "    return k*x + d\n",
    "\n",
    "def fit_function_plot(x,k,d):\n",
    "    return k*x + d"
   ]
  },
  {
   "cell_type": "code",
   "execution_count": 408,
   "id": "2bf73710",
   "metadata": {},
   "outputs": [],
   "source": [
    "x_data_red = data_red[\" U Diode/V\"][7:].to_numpy()\n",
    "x_red_er = data_red[\"Error U Diode / V\"][7:].to_numpy()\n",
    "y_data_red = data_red[\" I Diode/mA\"][7:].to_numpy()\n",
    "y_red_er = data_red[\"Error I Diode / mA\"][7:].to_numpy()"
   ]
  },
  {
   "cell_type": "code",
   "execution_count": 409,
   "id": "95aa4b87",
   "metadata": {},
   "outputs": [],
   "source": [
    "# use ODR\n",
    "from scipy import odr\n",
    "\n",
    "data_odr_red = odr.RealData(x_data_red, y_data_red,\n",
    "                    sx=x_red_er, sy=y_red_er)\n",
    "odr = odr.ODR(data_odr_red, odr.Model(fit_function),beta0=[0., 1.])\n",
    "out = odr.run()"
   ]
  },
  {
   "cell_type": "code",
   "execution_count": 410,
   "id": "97fc62ef",
   "metadata": {},
   "outputs": [
    {
     "name": "stdout",
     "output_type": "stream",
     "text": [
      "fit parameter and 1-sigma error\n",
      "———————————–\n",
      "149.92094183346723 +- 1.5265869272602086\n",
      "-260.9501795093584 +- 2.96599065453326\n",
      "———————————–\n",
      "reduced chi squared =  1.2515612899267738\n"
     ]
    }
   ],
   "source": [
    "p_opt = out.beta\n",
    "p_err = out.sd_beta\n",
    "red_chi_squared = out.res_var\n",
    "print(\"fit parameter and 1-sigma error\")\n",
    "print(\"———————————–\")\n",
    "for i in range(len(p_opt)):\n",
    "    print(str(p_opt[i]) + \" +- \" +str(p_err[i]))\n",
    "print(\"———————————–\")\n",
    "print(\"reduced chi squared = \", red_chi_squared)"
   ]
  },
  {
   "cell_type": "code",
   "execution_count": 411,
   "id": "d04d078a",
   "metadata": {},
   "outputs": [],
   "source": [
    "#create x for plotting with the linear fit\n",
    "linear_fit_U = np.arange(1.70,2.025,0.001)"
   ]
  },
  {
   "cell_type": "code",
   "execution_count": 412,
   "id": "08652ec1",
   "metadata": {},
   "outputs": [
    {
     "data": {
      "image/png": "[encoded data removed]",
      "text/plain": [
       "<Figure size 640x480 with 1 Axes>"
      ]
     },
     "metadata": {},
     "output_type": "display_data"
    }
   ],
   "source": [
    "sns.set_theme(style=\"darkgrid\")\n",
    "sns.set_context(\"talk\")\n",
    "plt.xlabel(\"U$_{{Diode}}$ / V\")\n",
    "plt.ylabel(\"I$_{{Diode}}$ / mA\")\n",
    "plt.errorbar(x=data_red[\" U Diode/V\"], xerr=data_red[\"Error U Diode / V\"], \n",
    "             y=data_red[\" I Diode/mA\"] , yerr=data_red[\"Error I Diode / mA\"],\n",
    "             markersize=6, fmt=\".\",color=\"navy\", ecolor=\"lightsteelblue\", elinewidth=2, capsize=3, label=\"Datenpunkte\")\n",
    "\n",
    "plt.plot(linear_fit_U, fit_function_plot(linear_fit_U,p_opt[0],p_opt[1]),\"--\", color=\"darkorange\", label=\"Fitgerade\")\n",
    "plt.legend()\n",
    "plt.savefig(\"I_U_LED_roteLED_FIT.png\", dpi=500,bbox_inches=\"tight\")"
   ]
  },
  {
   "cell_type": "code",
   "execution_count": 413,
   "id": "f0c51f43",
   "metadata": {},
   "outputs": [
    {
     "data": {
      "text/plain": [
       "1.7405852465843157+/-0.01837752608146713"
      ]
     },
     "execution_count": 413,
     "metadata": {},
     "output_type": "execute_result"
    }
   ],
   "source": [
    "d = ufloat(p_opt[1],np.sqrt(p_err[1]))\n",
    "k = ufloat(p_opt[0],np.sqrt(p_err[0]))\n",
    "U_d = -d/k\n",
    "U_d"
   ]
  },
  {
   "cell_type": "code",
   "execution_count": 414,
   "id": "6fda45b7",
   "metadata": {},
   "outputs": [
    {
     "data": {
      "text/plain": [
       "420871640117260.0+/-4443666036112.251"
      ]
     },
     "execution_count": 414,
     "metadata": {},
     "output_type": "execute_result"
    }
   ],
   "source": [
    "nu = e*U_d/h\n",
    "nu"
   ]
  },
  {
   "cell_type": "code",
   "execution_count": 415,
   "id": "bb76df91",
   "metadata": {},
   "outputs": [
    {
     "data": {
      "text/plain": [
       "7.123132789761604e-07+/-7.52077836362704e-09"
      ]
     },
     "execution_count": 415,
     "metadata": {},
     "output_type": "execute_result"
    }
   ],
   "source": [
    "lambda_blue = c/nu\n",
    "lambda_blue"
   ]
  }
 ],
 "metadata": {
  "kernelspec": {
   "display_name": "Python 3 (ipykernel)",
   "language": "python",
   "name": "python3"
  },
  "language_info": {
   "codemirror_mode": {
    "name": "ipython",
    "version": 3
   },
   "file_extension": ".py",
   "mimetype": "text/x-python",
   "name": "python",
   "nbconvert_exporter": "python",
   "pygments_lexer": "ipython3",
   "version": "3.8.9"
  }
 },
 "nbformat": 4,
 "nbformat_minor": 5
}
