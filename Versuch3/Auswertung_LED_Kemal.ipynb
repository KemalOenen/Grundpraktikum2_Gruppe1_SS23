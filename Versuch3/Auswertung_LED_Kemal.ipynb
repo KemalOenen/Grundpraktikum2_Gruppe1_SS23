{
 "cells": [
  {
   "cell_type": "markdown",
   "id": "cf5cc645",
   "metadata": {},
   "source": [
    "# Versuch 3: Leucht- und Laserdioden\n",
    "\n",
    "(@everyone: please only write in the respective notebook that you are assigned to, to avoid merge conflicts)\n",
    "(I will then put everything in a collective notebook for the advisors)"
   ]
  },
  {
   "cell_type": "code",
   "execution_count": 1,
   "id": "3adeb1dd",
   "metadata": {},
   "outputs": [],
   "source": [
    "# I would recommend to get yourself the uncertainties package, otherwise you can comment all of this out\n",
    "# https://pythonhosted.org/uncertainties/\n",
    "from uncertainties import ufloat\n",
    "from uncertainties.umath import *  # sin(), etc.\n",
    "import uncertainties.umath"
   ]
  },
  {
   "cell_type": "code",
   "execution_count": 2,
   "id": "4e9ad514",
   "metadata": {},
   "outputs": [],
   "source": [
    "import numpy as np\n",
    "import pandas as pd\n",
    "import matplotlib.pyplot as plt\n",
    "import seaborn as sns"
   ]
  },
  {
   "cell_type": "markdown",
   "id": "602c284a",
   "metadata": {},
   "source": [
    "### Strom-Spannungskennlinie der Leuchtdiode"
   ]
  },
  {
   "cell_type": "markdown",
   "id": "86f5b39b",
   "metadata": {},
   "source": [
    "    Ablauf:\n",
    "    1.) Lese Daten ein\n",
    "    2.) inkludiere Fehler\n",
    "    3.) Plot der Kennlinie\n",
    "    4.) Fit mit scipy.optimize\n",
    "    5.) Berechnung der Frequenz"
   ]
  },
  {
   "cell_type": "markdown",
   "id": "c22a5b89",
   "metadata": {},
   "source": [
    "#### Teil 1: Blaue LED"
   ]
  },
  {
   "cell_type": "code",
   "execution_count": 3,
   "id": "691023ad",
   "metadata": {},
   "outputs": [],
   "source": [
    "data = pd.read_csv(\"LED_blau_V_A.csv\")"
   ]
  },
  {
   "cell_type": "code",
   "execution_count": 4,
   "id": "d8c330f5",
   "metadata": {},
   "outputs": [],
   "source": [
    "data.drop(data.columns[len(data.columns)-1], axis=1, inplace=True)"
   ]
  },
  {
   "cell_type": "code",
   "execution_count": 5,
   "id": "75de7794",
   "metadata": {},
   "outputs": [],
   "source": [
    "data[\"Error U Verbraucher / V\"] = 0.1\n",
    "data[\"Error U Diode / V\"] = 0.001\n",
    "data[\"Error I Diode / mA\"] = 0.01"
   ]
  },
  {
   "cell_type": "code",
   "execution_count": 6,
   "id": "cb26a3a5",
   "metadata": {
    "scrolled": false
   },
   "outputs": [
    {
     "data": {
      "text/html": [
       "<div>\n",
       "<style scoped>\n",
       "    .dataframe tbody tr th:only-of-type {\n",
       "        vertical-align: middle;\n",
       "    }\n",
       "\n",
       "    .dataframe tbody tr th {\n",
       "        vertical-align: top;\n",
       "    }\n",
       "\n",
       "    .dataframe thead th {\n",
       "        text-align: right;\n",
       "    }\n",
       "</style>\n",
       "<table border=\"1\" class=\"dataframe\">\n",
       "  <thead>\n",
       "    <tr style=\"text-align: right;\">\n",
       "      <th></th>\n",
       "      <th>U Verbraucher/V</th>\n",
       "      <th>U Diode/V</th>\n",
       "      <th>I Diode/mA</th>\n",
       "      <th>Error U Verbraucher / V</th>\n",
       "      <th>Error U Diode / V</th>\n",
       "      <th>Error I Diode / mA</th>\n",
       "    </tr>\n",
       "  </thead>\n",
       "  <tbody>\n",
       "    <tr>\n",
       "      <th>0</th>\n",
       "      <td>1.0</td>\n",
       "      <td>0.988</td>\n",
       "      <td>0.00</td>\n",
       "      <td>0.1</td>\n",
       "      <td>0.001</td>\n",
       "      <td>0.01</td>\n",
       "    </tr>\n",
       "    <tr>\n",
       "      <th>1</th>\n",
       "      <td>1.5</td>\n",
       "      <td>1.510</td>\n",
       "      <td>0.00</td>\n",
       "      <td>0.1</td>\n",
       "      <td>0.001</td>\n",
       "      <td>0.01</td>\n",
       "    </tr>\n",
       "    <tr>\n",
       "      <th>2</th>\n",
       "      <td>2.5</td>\n",
       "      <td>2.450</td>\n",
       "      <td>0.01</td>\n",
       "      <td>0.1</td>\n",
       "      <td>0.001</td>\n",
       "      <td>0.01</td>\n",
       "    </tr>\n",
       "    <tr>\n",
       "      <th>3</th>\n",
       "      <td>3.2</td>\n",
       "      <td>2.815</td>\n",
       "      <td>1.25</td>\n",
       "      <td>0.1</td>\n",
       "      <td>0.001</td>\n",
       "      <td>0.01</td>\n",
       "    </tr>\n",
       "    <tr>\n",
       "      <th>4</th>\n",
       "      <td>3.5</td>\n",
       "      <td>2.862</td>\n",
       "      <td>1.99</td>\n",
       "      <td>0.1</td>\n",
       "      <td>0.001</td>\n",
       "      <td>0.01</td>\n",
       "    </tr>\n",
       "    <tr>\n",
       "      <th>5</th>\n",
       "      <td>4.0</td>\n",
       "      <td>2.926</td>\n",
       "      <td>3.44</td>\n",
       "      <td>0.1</td>\n",
       "      <td>0.001</td>\n",
       "      <td>0.01</td>\n",
       "    </tr>\n",
       "    <tr>\n",
       "      <th>6</th>\n",
       "      <td>4.5</td>\n",
       "      <td>2.978</td>\n",
       "      <td>5.08</td>\n",
       "      <td>0.1</td>\n",
       "      <td>0.001</td>\n",
       "      <td>0.01</td>\n",
       "    </tr>\n",
       "    <tr>\n",
       "      <th>7</th>\n",
       "      <td>5.0</td>\n",
       "      <td>3.013</td>\n",
       "      <td>6.53</td>\n",
       "      <td>0.1</td>\n",
       "      <td>0.001</td>\n",
       "      <td>0.01</td>\n",
       "    </tr>\n",
       "    <tr>\n",
       "      <th>8</th>\n",
       "      <td>5.5</td>\n",
       "      <td>3.047</td>\n",
       "      <td>8.06</td>\n",
       "      <td>0.1</td>\n",
       "      <td>0.001</td>\n",
       "      <td>0.01</td>\n",
       "    </tr>\n",
       "    <tr>\n",
       "      <th>9</th>\n",
       "      <td>6.0</td>\n",
       "      <td>3.081</td>\n",
       "      <td>9.90</td>\n",
       "      <td>0.1</td>\n",
       "      <td>0.001</td>\n",
       "      <td>0.01</td>\n",
       "    </tr>\n",
       "    <tr>\n",
       "      <th>10</th>\n",
       "      <td>6.5</td>\n",
       "      <td>3.106</td>\n",
       "      <td>11.46</td>\n",
       "      <td>0.1</td>\n",
       "      <td>0.001</td>\n",
       "      <td>0.01</td>\n",
       "    </tr>\n",
       "    <tr>\n",
       "      <th>11</th>\n",
       "      <td>7.0</td>\n",
       "      <td>3.127</td>\n",
       "      <td>12.95</td>\n",
       "      <td>0.1</td>\n",
       "      <td>0.001</td>\n",
       "      <td>0.01</td>\n",
       "    </tr>\n",
       "    <tr>\n",
       "      <th>12</th>\n",
       "      <td>7.5</td>\n",
       "      <td>3.145</td>\n",
       "      <td>14.42</td>\n",
       "      <td>0.1</td>\n",
       "      <td>0.001</td>\n",
       "      <td>0.01</td>\n",
       "    </tr>\n",
       "    <tr>\n",
       "      <th>13</th>\n",
       "      <td>8.0</td>\n",
       "      <td>3.162</td>\n",
       "      <td>16.16</td>\n",
       "      <td>0.1</td>\n",
       "      <td>0.001</td>\n",
       "      <td>0.01</td>\n",
       "    </tr>\n",
       "    <tr>\n",
       "      <th>14</th>\n",
       "      <td>8.5</td>\n",
       "      <td>3.186</td>\n",
       "      <td>17.76</td>\n",
       "      <td>0.1</td>\n",
       "      <td>0.001</td>\n",
       "      <td>0.01</td>\n",
       "    </tr>\n",
       "    <tr>\n",
       "      <th>15</th>\n",
       "      <td>9.0</td>\n",
       "      <td>3.205</td>\n",
       "      <td>19.45</td>\n",
       "      <td>0.1</td>\n",
       "      <td>0.001</td>\n",
       "      <td>0.01</td>\n",
       "    </tr>\n",
       "    <tr>\n",
       "      <th>16</th>\n",
       "      <td>9.5</td>\n",
       "      <td>3.220</td>\n",
       "      <td>20.92</td>\n",
       "      <td>0.1</td>\n",
       "      <td>0.001</td>\n",
       "      <td>0.01</td>\n",
       "    </tr>\n",
       "    <tr>\n",
       "      <th>17</th>\n",
       "      <td>10.0</td>\n",
       "      <td>3.235</td>\n",
       "      <td>22.52</td>\n",
       "      <td>0.1</td>\n",
       "      <td>0.001</td>\n",
       "      <td>0.01</td>\n",
       "    </tr>\n",
       "    <tr>\n",
       "      <th>18</th>\n",
       "      <td>10.5</td>\n",
       "      <td>3.248</td>\n",
       "      <td>24.08</td>\n",
       "      <td>0.1</td>\n",
       "      <td>0.001</td>\n",
       "      <td>0.01</td>\n",
       "    </tr>\n",
       "    <tr>\n",
       "      <th>19</th>\n",
       "      <td>11.0</td>\n",
       "      <td>3.264</td>\n",
       "      <td>25.93</td>\n",
       "      <td>0.1</td>\n",
       "      <td>0.001</td>\n",
       "      <td>0.01</td>\n",
       "    </tr>\n",
       "    <tr>\n",
       "      <th>20</th>\n",
       "      <td>11.5</td>\n",
       "      <td>3.275</td>\n",
       "      <td>27.48</td>\n",
       "      <td>0.1</td>\n",
       "      <td>0.001</td>\n",
       "      <td>0.01</td>\n",
       "    </tr>\n",
       "    <tr>\n",
       "      <th>21</th>\n",
       "      <td>12.0</td>\n",
       "      <td>3.288</td>\n",
       "      <td>29.07</td>\n",
       "      <td>0.1</td>\n",
       "      <td>0.001</td>\n",
       "      <td>0.01</td>\n",
       "    </tr>\n",
       "    <tr>\n",
       "      <th>22</th>\n",
       "      <td>12.5</td>\n",
       "      <td>3.296</td>\n",
       "      <td>30.88</td>\n",
       "      <td>0.1</td>\n",
       "      <td>0.001</td>\n",
       "      <td>0.01</td>\n",
       "    </tr>\n",
       "    <tr>\n",
       "      <th>23</th>\n",
       "      <td>13.0</td>\n",
       "      <td>3.307</td>\n",
       "      <td>32.29</td>\n",
       "      <td>0.1</td>\n",
       "      <td>0.001</td>\n",
       "      <td>0.01</td>\n",
       "    </tr>\n",
       "    <tr>\n",
       "      <th>24</th>\n",
       "      <td>13.5</td>\n",
       "      <td>3.317</td>\n",
       "      <td>34.04</td>\n",
       "      <td>0.1</td>\n",
       "      <td>0.001</td>\n",
       "      <td>0.01</td>\n",
       "    </tr>\n",
       "    <tr>\n",
       "      <th>25</th>\n",
       "      <td>14.0</td>\n",
       "      <td>3.330</td>\n",
       "      <td>35.84</td>\n",
       "      <td>0.1</td>\n",
       "      <td>0.001</td>\n",
       "      <td>0.01</td>\n",
       "    </tr>\n",
       "    <tr>\n",
       "      <th>26</th>\n",
       "      <td>14.5</td>\n",
       "      <td>3.339</td>\n",
       "      <td>37.33</td>\n",
       "      <td>0.1</td>\n",
       "      <td>0.001</td>\n",
       "      <td>0.01</td>\n",
       "    </tr>\n",
       "  </tbody>\n",
       "</table>\n",
       "</div>"
      ],
      "text/plain": [
       "    U Verbraucher/V   U Diode/V   I Diode/mA  Error U Verbraucher / V  \\\n",
       "0               1.0       0.988         0.00                      0.1   \n",
       "1               1.5       1.510         0.00                      0.1   \n",
       "2               2.5       2.450         0.01                      0.1   \n",
       "3               3.2       2.815         1.25                      0.1   \n",
       "4               3.5       2.862         1.99                      0.1   \n",
       "5               4.0       2.926         3.44                      0.1   \n",
       "6               4.5       2.978         5.08                      0.1   \n",
       "7               5.0       3.013         6.53                      0.1   \n",
       "8               5.5       3.047         8.06                      0.1   \n",
       "9               6.0       3.081         9.90                      0.1   \n",
       "10              6.5       3.106        11.46                      0.1   \n",
       "11              7.0       3.127        12.95                      0.1   \n",
       "12              7.5       3.145        14.42                      0.1   \n",
       "13              8.0       3.162        16.16                      0.1   \n",
       "14              8.5       3.186        17.76                      0.1   \n",
       "15              9.0       3.205        19.45                      0.1   \n",
       "16              9.5       3.220        20.92                      0.1   \n",
       "17             10.0       3.235        22.52                      0.1   \n",
       "18             10.5       3.248        24.08                      0.1   \n",
       "19             11.0       3.264        25.93                      0.1   \n",
       "20             11.5       3.275        27.48                      0.1   \n",
       "21             12.0       3.288        29.07                      0.1   \n",
       "22             12.5       3.296        30.88                      0.1   \n",
       "23             13.0       3.307        32.29                      0.1   \n",
       "24             13.5       3.317        34.04                      0.1   \n",
       "25             14.0       3.330        35.84                      0.1   \n",
       "26             14.5       3.339        37.33                      0.1   \n",
       "\n",
       "    Error U Diode / V  Error I Diode / mA  \n",
       "0               0.001                0.01  \n",
       "1               0.001                0.01  \n",
       "2               0.001                0.01  \n",
       "3               0.001                0.01  \n",
       "4               0.001                0.01  \n",
       "5               0.001                0.01  \n",
       "6               0.001                0.01  \n",
       "7               0.001                0.01  \n",
       "8               0.001                0.01  \n",
       "9               0.001                0.01  \n",
       "10              0.001                0.01  \n",
       "11              0.001                0.01  \n",
       "12              0.001                0.01  \n",
       "13              0.001                0.01  \n",
       "14              0.001                0.01  \n",
       "15              0.001                0.01  \n",
       "16              0.001                0.01  \n",
       "17              0.001                0.01  \n",
       "18              0.001                0.01  \n",
       "19              0.001                0.01  \n",
       "20              0.001                0.01  \n",
       "21              0.001                0.01  \n",
       "22              0.001                0.01  \n",
       "23              0.001                0.01  \n",
       "24              0.001                0.01  \n",
       "25              0.001                0.01  \n",
       "26              0.001                0.01  "
      ]
     },
     "execution_count": 6,
     "metadata": {},
     "output_type": "execute_result"
    }
   ],
   "source": [
    "data"
   ]
  },
  {
   "cell_type": "code",
   "execution_count": 7,
   "id": "ad20c397",
   "metadata": {},
   "outputs": [
    {
     "data": {
      "text/plain": [
       "<matplotlib.legend.Legend at 0x1424fc610>"
      ]
     },
     "execution_count": 7,
     "metadata": {},
     "output_type": "execute_result"
    },
    {
     "data": {
      "image/png": "[encoded data removed]",
      "text/plain": [
       "<Figure size 640x480 with 1 Axes>"
      ]
     },
     "metadata": {},
     "output_type": "display_data"
    }
   ],
   "source": [
    "sns.set_theme(style=\"darkgrid\")\n",
    "sns.set_context(\"talk\")\n",
    "plt.xlabel(\"U$_{{Diode}}$ / V\")\n",
    "plt.ylabel(\"I$_{{Diode}}$ / mA\")\n",
    "plt.errorbar(x=data[\" U Diode/V\"], xerr=data[\"Error U Diode / V\"], \n",
    "             y=data[\" I Diode/mA\"] , yerr=data[\"Error I Diode / mA\"],\n",
    "             markersize=6, fmt=\".\",color=\"navy\", ecolor=\"lightsteelblue\", elinewidth=2, capsize=3, label=\"Datenpunkte\")\n",
    "plt.legend()\n",
    "#plt.savefig(\"I_U_LED_blaueLED.png\", dpi=500, bbox_inches=\"tight\")"
   ]
  },
  {
   "cell_type": "code",
   "execution_count": 8,
   "id": "9d1dc211",
   "metadata": {},
   "outputs": [],
   "source": [
    "import scipy.optimize\n",
    "def fit_function(p,x):\n",
    "    k, d = p\n",
    "    return k*x + d\n",
    "\n",
    "def fit_function_plot(x,k,d):\n",
    "    return k*x + d"
   ]
  },
  {
   "cell_type": "markdown",
   "id": "d8dea3b5",
   "metadata": {},
   "source": [
    "#### one needs to test a little bit how many datapoints one wants to include"
   ]
  },
  {
   "cell_type": "code",
   "execution_count": 9,
   "id": "94483eb7",
   "metadata": {},
   "outputs": [],
   "source": [
    "# first guess, but we want to have the errors in x and y included in the fit\n",
    "#p_opt, p_var = scipy.optimize.curve_fit(fit_function, data[\" U Diode/V\"][7:],\n",
    "#                                        data[\" I Diode/mA\"][7:])\n",
    "#print(\"k =\",p_opt[0],\"+/-\",np.sqrt(p_var[0][0]))\n",
    "#print(\"d =\",p_opt[1],\"+/-\",np.sqrt(p_var[1][1]))\n",
    "\n",
    "\n",
    "#determined values:\n",
    "#k = 96.41904022629207 +/- 4.228917521625311\n",
    "#d = -287.60823055829565 +/- 13.57890088633359"
   ]
  },
  {
   "cell_type": "code",
   "execution_count": 10,
   "id": "a2f68a28",
   "metadata": {},
   "outputs": [],
   "source": [
    "x_data = data[\" U Diode/V\"][19:].to_numpy()\n",
    "x_er = data[\"Error U Diode / V\"][19:].to_numpy()\n",
    "y_data = data[\" I Diode/mA\"][19:].to_numpy()\n",
    "y_er = data[\"Error I Diode / mA\"][19:].to_numpy()"
   ]
  },
  {
   "cell_type": "code",
   "execution_count": 11,
   "id": "2a2704a0",
   "metadata": {},
   "outputs": [],
   "source": [
    "# use ODR\n",
    "from scipy import odr\n",
    "\n",
    "data_odr = odr.RealData(x_data, y_data,\n",
    "                    sx=x_er, sy=y_er)\n",
    "odr = odr.ODR(data_odr, odr.Model(fit_function),beta0=[0., 1.])\n",
    "out = odr.run()"
   ]
  },
  {
   "cell_type": "code",
   "execution_count": 12,
   "id": "216e8590",
   "metadata": {},
   "outputs": [
    {
     "name": "stdout",
     "output_type": "stream",
     "text": [
      "fit parameter and 1-sigma error\n",
      "———————————–\n",
      "153.66012501751987 +- 2.908347798791255\n",
      "-475.7782328085739 +- 9.603628337953692\n",
      "reduced chi squared =  1.7114811855533338\n"
     ]
    }
   ],
   "source": [
    "p_opt = out.beta\n",
    "p_err = out.sd_beta\n",
    "red_chi_squared = out.res_var\n",
    "print(\"fit parameter and 1-sigma error\")\n",
    "print(\"———————————–\")\n",
    "for i in range(len(p_opt)):\n",
    "    print(str(p_opt[i]) + \" +- \" +str(p_err[i]))\n",
    "print(\"reduced chi squared = \", red_chi_squared)"
   ]
  },
  {
   "cell_type": "code",
   "execution_count": 13,
   "id": "39ef0678",
   "metadata": {},
   "outputs": [],
   "source": [
    "#create x for plotting with the linear fit\n",
    "linear_fit_U = np.arange(3,3.4,0.001)"
   ]
  },
  {
   "cell_type": "code",
   "execution_count": 14,
   "id": "4a02bc84",
   "metadata": {
    "scrolled": false
   },
   "outputs": [
    {
     "data": {
      "image/png": "[encoded data removed]",
      "text/plain": [
       "<Figure size 640x480 with 1 Axes>"
      ]
     },
     "metadata": {},
     "output_type": "display_data"
    }
   ],
   "source": [
    "sns.set_theme(style=\"darkgrid\")\n",
    "sns.set_context(\"talk\")\n",
    "plt.xlabel(\"U$_{{Diode}}$ / V\")\n",
    "plt.ylabel(\"I$_{{Diode}}$ / mA\")\n",
    "plt.errorbar(x=data[\" U Diode/V\"], xerr=data[\"Error U Diode / V\"], \n",
    "             y=data[\" I Diode/mA\"] , yerr=data[\"Error I Diode / mA\"],\n",
    "             markersize=6, fmt=\".\",color=\"navy\", ecolor=\"lightsteelblue\", elinewidth=2, capsize=3, label=\"Datenpunkte\")\n",
    "\n",
    "plt.plot(linear_fit_U, fit_function_plot(linear_fit_U,p_opt[0],p_opt[1]),\"--\", color=\"darkorange\", label=\"Fitgerade\")\n",
    "plt.legend()\n",
    "plt.savefig(\"I_U_LED_blaueLED_FIT.png\", dpi=500, bbox_inches=\"tight\")"
   ]
  },
  {
   "cell_type": "code",
   "execution_count": 15,
   "id": "b1f8647d",
   "metadata": {},
   "outputs": [
    {
     "data": {
      "text/plain": [
       "3.09630252321041+/-0.085677265519711"
      ]
     },
     "execution_count": 15,
     "metadata": {},
     "output_type": "execute_result"
    }
   ],
   "source": [
    "d = ufloat(p_opt[1],p_err[1])\n",
    "k = ufloat(p_opt[0],p_err[0])\n",
    "U_d = -d/k\n",
    "U_d"
   ]
  },
  {
   "cell_type": "code",
   "execution_count": 16,
   "id": "4a7e88c2",
   "metadata": {},
   "outputs": [],
   "source": [
    "from scipy.constants import e, h, c"
   ]
  },
  {
   "cell_type": "markdown",
   "id": "3b184763",
   "metadata": {},
   "source": [
    "$\\nu = \\dfrac{e \\cdot U_d}{h}$"
   ]
  },
  {
   "cell_type": "code",
   "execution_count": 17,
   "id": "9d3a62bc",
   "metadata": {},
   "outputs": [
    {
     "data": {
      "text/plain": [
       "748682619136316.0+/-20716670631791.426"
      ]
     },
     "execution_count": 17,
     "metadata": {},
     "output_type": "execute_result"
    }
   ],
   "source": [
    "nu = e*U_d/h\n",
    "nu"
   ]
  },
  {
   "cell_type": "code",
   "execution_count": 18,
   "id": "a15f79b2",
   "metadata": {},
   "outputs": [
    {
     "data": {
      "text/plain": [
       "4.004266298392797e-07+/-1.1080137818810805e-08"
      ]
     },
     "execution_count": 18,
     "metadata": {},
     "output_type": "execute_result"
    }
   ],
   "source": [
    "lambda_blue = c/nu\n",
    "lambda_blue"
   ]
  },
  {
   "cell_type": "markdown",
   "id": "e97714c1",
   "metadata": {},
   "source": [
    "#### Teil 2: Rote LED"
   ]
  },
  {
   "cell_type": "code",
   "execution_count": 19,
   "id": "d4ca802a",
   "metadata": {},
   "outputs": [],
   "source": [
    "data_red = pd.read_csv(\"LED_rot_V_A_I.csv\", encoding= 'unicode_escape')"
   ]
  },
  {
   "cell_type": "code",
   "execution_count": 20,
   "id": "7495741d",
   "metadata": {},
   "outputs": [],
   "source": [
    "# we currently only need the first three colums:\n",
    "data_red.drop(data_red.columns[len(data_red.columns)-1], axis=1, inplace=True)\n",
    "data_red.drop(data_red.columns[len(data_red.columns)-1], axis=1, inplace=True)\n",
    "data_red.drop(data_red.columns[len(data_red.columns)-1], axis=1, inplace=True)"
   ]
  },
  {
   "cell_type": "code",
   "execution_count": 21,
   "id": "0440410e",
   "metadata": {},
   "outputs": [
    {
     "data": {
      "text/html": [
       "<div>\n",
       "<style scoped>\n",
       "    .dataframe tbody tr th:only-of-type {\n",
       "        vertical-align: middle;\n",
       "    }\n",
       "\n",
       "    .dataframe tbody tr th {\n",
       "        vertical-align: top;\n",
       "    }\n",
       "\n",
       "    .dataframe thead th {\n",
       "        text-align: right;\n",
       "    }\n",
       "</style>\n",
       "<table border=\"1\" class=\"dataframe\">\n",
       "  <thead>\n",
       "    <tr style=\"text-align: right;\">\n",
       "      <th></th>\n",
       "      <th>U Verbraucher/V</th>\n",
       "      <th>U Diode/V</th>\n",
       "      <th>I Diode/mA</th>\n",
       "    </tr>\n",
       "  </thead>\n",
       "  <tbody>\n",
       "    <tr>\n",
       "      <th>0</th>\n",
       "      <td>2.0</td>\n",
       "      <td>1.645</td>\n",
       "      <td>1.22</td>\n",
       "    </tr>\n",
       "    <tr>\n",
       "      <th>1</th>\n",
       "      <td>3.0</td>\n",
       "      <td>1.714</td>\n",
       "      <td>4.14</td>\n",
       "    </tr>\n",
       "    <tr>\n",
       "      <th>2</th>\n",
       "      <td>4.0</td>\n",
       "      <td>1.759</td>\n",
       "      <td>7.35</td>\n",
       "    </tr>\n",
       "    <tr>\n",
       "      <th>3</th>\n",
       "      <td>5.0</td>\n",
       "      <td>1.795</td>\n",
       "      <td>10.76</td>\n",
       "    </tr>\n",
       "    <tr>\n",
       "      <th>4</th>\n",
       "      <td>6.0</td>\n",
       "      <td>1.825</td>\n",
       "      <td>14.02</td>\n",
       "    </tr>\n",
       "    <tr>\n",
       "      <th>5</th>\n",
       "      <td>7.0</td>\n",
       "      <td>1.851</td>\n",
       "      <td>17.22</td>\n",
       "    </tr>\n",
       "    <tr>\n",
       "      <th>6</th>\n",
       "      <td>7.5</td>\n",
       "      <td>1.862</td>\n",
       "      <td>18.73</td>\n",
       "    </tr>\n",
       "    <tr>\n",
       "      <th>7</th>\n",
       "      <td>8.0</td>\n",
       "      <td>1.875</td>\n",
       "      <td>20.40</td>\n",
       "    </tr>\n",
       "    <tr>\n",
       "      <th>8</th>\n",
       "      <td>9.0</td>\n",
       "      <td>1.900</td>\n",
       "      <td>23.85</td>\n",
       "    </tr>\n",
       "    <tr>\n",
       "      <th>9</th>\n",
       "      <td>10.0</td>\n",
       "      <td>1.922</td>\n",
       "      <td>27.07</td>\n",
       "    </tr>\n",
       "    <tr>\n",
       "      <th>10</th>\n",
       "      <td>11.0</td>\n",
       "      <td>1.943</td>\n",
       "      <td>30.18</td>\n",
       "    </tr>\n",
       "    <tr>\n",
       "      <th>11</th>\n",
       "      <td>11.5</td>\n",
       "      <td>1.954</td>\n",
       "      <td>31.86</td>\n",
       "    </tr>\n",
       "    <tr>\n",
       "      <th>12</th>\n",
       "      <td>12.0</td>\n",
       "      <td>1.964</td>\n",
       "      <td>33.47</td>\n",
       "    </tr>\n",
       "    <tr>\n",
       "      <th>13</th>\n",
       "      <td>13.0</td>\n",
       "      <td>1.986</td>\n",
       "      <td>36.85</td>\n",
       "    </tr>\n",
       "    <tr>\n",
       "      <th>14</th>\n",
       "      <td>13.5</td>\n",
       "      <td>1.996</td>\n",
       "      <td>38.49</td>\n",
       "    </tr>\n",
       "  </tbody>\n",
       "</table>\n",
       "</div>"
      ],
      "text/plain": [
       "    U Verbraucher/V   U Diode/V   I Diode/mA\n",
       "0               2.0       1.645         1.22\n",
       "1               3.0       1.714         4.14\n",
       "2               4.0       1.759         7.35\n",
       "3               5.0       1.795        10.76\n",
       "4               6.0       1.825        14.02\n",
       "5               7.0       1.851        17.22\n",
       "6               7.5       1.862        18.73\n",
       "7               8.0       1.875        20.40\n",
       "8               9.0       1.900        23.85\n",
       "9              10.0       1.922        27.07\n",
       "10             11.0       1.943        30.18\n",
       "11             11.5       1.954        31.86\n",
       "12             12.0       1.964        33.47\n",
       "13             13.0       1.986        36.85\n",
       "14             13.5       1.996        38.49"
      ]
     },
     "execution_count": 21,
     "metadata": {},
     "output_type": "execute_result"
    }
   ],
   "source": [
    "data_red"
   ]
  },
  {
   "cell_type": "code",
   "execution_count": 22,
   "id": "5a00d82b",
   "metadata": {},
   "outputs": [],
   "source": [
    "data_red[\"Error U Verbraucher / V\"] = 0.1\n",
    "data_red[\"Error U Diode / V\"] = 0.001\n",
    "data_red[\"Error I Diode / mA\"] = 0.01"
   ]
  },
  {
   "cell_type": "code",
   "execution_count": 23,
   "id": "3dfe35f1",
   "metadata": {},
   "outputs": [
    {
     "data": {
      "text/html": [
       "<div>\n",
       "<style scoped>\n",
       "    .dataframe tbody tr th:only-of-type {\n",
       "        vertical-align: middle;\n",
       "    }\n",
       "\n",
       "    .dataframe tbody tr th {\n",
       "        vertical-align: top;\n",
       "    }\n",
       "\n",
       "    .dataframe thead th {\n",
       "        text-align: right;\n",
       "    }\n",
       "</style>\n",
       "<table border=\"1\" class=\"dataframe\">\n",
       "  <thead>\n",
       "    <tr style=\"text-align: right;\">\n",
       "      <th></th>\n",
       "      <th>U Verbraucher/V</th>\n",
       "      <th>U Diode/V</th>\n",
       "      <th>I Diode/mA</th>\n",
       "      <th>Error U Verbraucher / V</th>\n",
       "      <th>Error U Diode / V</th>\n",
       "      <th>Error I Diode / mA</th>\n",
       "    </tr>\n",
       "  </thead>\n",
       "  <tbody>\n",
       "    <tr>\n",
       "      <th>0</th>\n",
       "      <td>2.0</td>\n",
       "      <td>1.645</td>\n",
       "      <td>1.22</td>\n",
       "      <td>0.1</td>\n",
       "      <td>0.001</td>\n",
       "      <td>0.01</td>\n",
       "    </tr>\n",
       "    <tr>\n",
       "      <th>1</th>\n",
       "      <td>3.0</td>\n",
       "      <td>1.714</td>\n",
       "      <td>4.14</td>\n",
       "      <td>0.1</td>\n",
       "      <td>0.001</td>\n",
       "      <td>0.01</td>\n",
       "    </tr>\n",
       "    <tr>\n",
       "      <th>2</th>\n",
       "      <td>4.0</td>\n",
       "      <td>1.759</td>\n",
       "      <td>7.35</td>\n",
       "      <td>0.1</td>\n",
       "      <td>0.001</td>\n",
       "      <td>0.01</td>\n",
       "    </tr>\n",
       "    <tr>\n",
       "      <th>3</th>\n",
       "      <td>5.0</td>\n",
       "      <td>1.795</td>\n",
       "      <td>10.76</td>\n",
       "      <td>0.1</td>\n",
       "      <td>0.001</td>\n",
       "      <td>0.01</td>\n",
       "    </tr>\n",
       "    <tr>\n",
       "      <th>4</th>\n",
       "      <td>6.0</td>\n",
       "      <td>1.825</td>\n",
       "      <td>14.02</td>\n",
       "      <td>0.1</td>\n",
       "      <td>0.001</td>\n",
       "      <td>0.01</td>\n",
       "    </tr>\n",
       "    <tr>\n",
       "      <th>5</th>\n",
       "      <td>7.0</td>\n",
       "      <td>1.851</td>\n",
       "      <td>17.22</td>\n",
       "      <td>0.1</td>\n",
       "      <td>0.001</td>\n",
       "      <td>0.01</td>\n",
       "    </tr>\n",
       "    <tr>\n",
       "      <th>6</th>\n",
       "      <td>7.5</td>\n",
       "      <td>1.862</td>\n",
       "      <td>18.73</td>\n",
       "      <td>0.1</td>\n",
       "      <td>0.001</td>\n",
       "      <td>0.01</td>\n",
       "    </tr>\n",
       "    <tr>\n",
       "      <th>7</th>\n",
       "      <td>8.0</td>\n",
       "      <td>1.875</td>\n",
       "      <td>20.40</td>\n",
       "      <td>0.1</td>\n",
       "      <td>0.001</td>\n",
       "      <td>0.01</td>\n",
       "    </tr>\n",
       "    <tr>\n",
       "      <th>8</th>\n",
       "      <td>9.0</td>\n",
       "      <td>1.900</td>\n",
       "      <td>23.85</td>\n",
       "      <td>0.1</td>\n",
       "      <td>0.001</td>\n",
       "      <td>0.01</td>\n",
       "    </tr>\n",
       "    <tr>\n",
       "      <th>9</th>\n",
       "      <td>10.0</td>\n",
       "      <td>1.922</td>\n",
       "      <td>27.07</td>\n",
       "      <td>0.1</td>\n",
       "      <td>0.001</td>\n",
       "      <td>0.01</td>\n",
       "    </tr>\n",
       "    <tr>\n",
       "      <th>10</th>\n",
       "      <td>11.0</td>\n",
       "      <td>1.943</td>\n",
       "      <td>30.18</td>\n",
       "      <td>0.1</td>\n",
       "      <td>0.001</td>\n",
       "      <td>0.01</td>\n",
       "    </tr>\n",
       "    <tr>\n",
       "      <th>11</th>\n",
       "      <td>11.5</td>\n",
       "      <td>1.954</td>\n",
       "      <td>31.86</td>\n",
       "      <td>0.1</td>\n",
       "      <td>0.001</td>\n",
       "      <td>0.01</td>\n",
       "    </tr>\n",
       "    <tr>\n",
       "      <th>12</th>\n",
       "      <td>12.0</td>\n",
       "      <td>1.964</td>\n",
       "      <td>33.47</td>\n",
       "      <td>0.1</td>\n",
       "      <td>0.001</td>\n",
       "      <td>0.01</td>\n",
       "    </tr>\n",
       "    <tr>\n",
       "      <th>13</th>\n",
       "      <td>13.0</td>\n",
       "      <td>1.986</td>\n",
       "      <td>36.85</td>\n",
       "      <td>0.1</td>\n",
       "      <td>0.001</td>\n",
       "      <td>0.01</td>\n",
       "    </tr>\n",
       "    <tr>\n",
       "      <th>14</th>\n",
       "      <td>13.5</td>\n",
       "      <td>1.996</td>\n",
       "      <td>38.49</td>\n",
       "      <td>0.1</td>\n",
       "      <td>0.001</td>\n",
       "      <td>0.01</td>\n",
       "    </tr>\n",
       "  </tbody>\n",
       "</table>\n",
       "</div>"
      ],
      "text/plain": [
       "    U Verbraucher/V   U Diode/V   I Diode/mA  Error U Verbraucher / V  \\\n",
       "0               2.0       1.645         1.22                      0.1   \n",
       "1               3.0       1.714         4.14                      0.1   \n",
       "2               4.0       1.759         7.35                      0.1   \n",
       "3               5.0       1.795        10.76                      0.1   \n",
       "4               6.0       1.825        14.02                      0.1   \n",
       "5               7.0       1.851        17.22                      0.1   \n",
       "6               7.5       1.862        18.73                      0.1   \n",
       "7               8.0       1.875        20.40                      0.1   \n",
       "8               9.0       1.900        23.85                      0.1   \n",
       "9              10.0       1.922        27.07                      0.1   \n",
       "10             11.0       1.943        30.18                      0.1   \n",
       "11             11.5       1.954        31.86                      0.1   \n",
       "12             12.0       1.964        33.47                      0.1   \n",
       "13             13.0       1.986        36.85                      0.1   \n",
       "14             13.5       1.996        38.49                      0.1   \n",
       "\n",
       "    Error U Diode / V  Error I Diode / mA  \n",
       "0               0.001                0.01  \n",
       "1               0.001                0.01  \n",
       "2               0.001                0.01  \n",
       "3               0.001                0.01  \n",
       "4               0.001                0.01  \n",
       "5               0.001                0.01  \n",
       "6               0.001                0.01  \n",
       "7               0.001                0.01  \n",
       "8               0.001                0.01  \n",
       "9               0.001                0.01  \n",
       "10              0.001                0.01  \n",
       "11              0.001                0.01  \n",
       "12              0.001                0.01  \n",
       "13              0.001                0.01  \n",
       "14              0.001                0.01  "
      ]
     },
     "execution_count": 23,
     "metadata": {},
     "output_type": "execute_result"
    }
   ],
   "source": [
    "data_red"
   ]
  },
  {
   "cell_type": "code",
   "execution_count": 24,
   "id": "4c9a64bd",
   "metadata": {},
   "outputs": [
    {
     "data": {
      "text/plain": [
       "<matplotlib.legend.Legend at 0x142a603d0>"
      ]
     },
     "execution_count": 24,
     "metadata": {},
     "output_type": "execute_result"
    },
    {
     "data": {
      "image/png": "[encoded data removed]",
      "text/plain": [
       "<Figure size 640x480 with 1 Axes>"
      ]
     },
     "metadata": {},
     "output_type": "display_data"
    }
   ],
   "source": [
    "sns.set_theme(style=\"darkgrid\")\n",
    "sns.set_context(\"talk\")\n",
    "plt.xlabel(\"U$_{{Diode}}$ / V\")\n",
    "plt.ylabel(\"I$_{{Diode}}$ / mA\")\n",
    "plt.errorbar(x=data_red[\" U Diode/V\"], xerr=data_red[\"Error U Diode / V\"], \n",
    "             y=data_red[\" I Diode/mA\"] , yerr=data_red[\"Error I Diode / mA\"],\n",
    "             markersize=6, fmt=\".\",color=\"navy\", ecolor=\"lightsteelblue\", elinewidth=2, capsize=3, label=\"Datenpunkte\")\n",
    "plt.legend()\n",
    "#plt.savefig(\"I_U_LED_roteLED.png\", dpi=500,bbox_inches=\"tight\")"
   ]
  },
  {
   "cell_type": "code",
   "execution_count": 25,
   "id": "4ea19d25",
   "metadata": {},
   "outputs": [],
   "source": [
    "import scipy.optimize\n",
    "def fit_function(p,x):\n",
    "    k, d = p\n",
    "    return k*x + d\n",
    "\n",
    "def fit_function_plot(x,k,d):\n",
    "    return k*x + d"
   ]
  },
  {
   "cell_type": "code",
   "execution_count": 26,
   "id": "2bf73710",
   "metadata": {},
   "outputs": [],
   "source": [
    "x_data_red = data_red[\" U Diode/V\"][7:].to_numpy()\n",
    "x_red_er = data_red[\"Error U Diode / V\"][7:].to_numpy()\n",
    "y_data_red = data_red[\" I Diode/mA\"][7:].to_numpy()\n",
    "y_red_er = data_red[\"Error I Diode / mA\"][7:].to_numpy()"
   ]
  },
  {
   "cell_type": "code",
   "execution_count": 27,
   "id": "95aa4b87",
   "metadata": {},
   "outputs": [],
   "source": [
    "# use ODR\n",
    "from scipy import odr\n",
    "\n",
    "data_odr_red = odr.RealData(x_data_red, y_data_red,\n",
    "                    sx=x_red_er, sy=y_red_er)\n",
    "odr = odr.ODR(data_odr_red, odr.Model(fit_function),beta0=[0., 1.])\n",
    "out = odr.run()"
   ]
  },
  {
   "cell_type": "code",
   "execution_count": 28,
   "id": "97fc62ef",
   "metadata": {},
   "outputs": [
    {
     "name": "stdout",
     "output_type": "stream",
     "text": [
      "fit parameter and 1-sigma error\n",
      "———————————–\n",
      "149.92094183346723 +- 1.5265869272602086\n",
      "-260.9501795093584 +- 2.96599065453326\n",
      "———————————–\n",
      "reduced chi squared =  1.2515612899267738\n"
     ]
    }
   ],
   "source": [
    "p_opt = out.beta\n",
    "p_err = out.sd_beta\n",
    "red_chi_squared = out.res_var\n",
    "print(\"fit parameter and 1-sigma error\")\n",
    "print(\"———————————–\")\n",
    "for i in range(len(p_opt)):\n",
    "    print(str(p_opt[i]) + \" +- \" +str(p_err[i]))\n",
    "print(\"———————————–\")\n",
    "print(\"reduced chi squared = \", red_chi_squared)"
   ]
  },
  {
   "cell_type": "code",
   "execution_count": 29,
   "id": "d04d078a",
   "metadata": {},
   "outputs": [],
   "source": [
    "#create x for plotting with the linear fit\n",
    "linear_fit_U = np.arange(1.70,2.025,0.001)"
   ]
  },
  {
   "cell_type": "code",
   "execution_count": 30,
   "id": "08652ec1",
   "metadata": {},
   "outputs": [
    {
     "data": {
      "text/plain": [
       "<matplotlib.legend.Legend at 0x142aa3a90>"
      ]
     },
     "execution_count": 30,
     "metadata": {},
     "output_type": "execute_result"
    },
    {
     "data": {
      "image/png": "[encoded data removed]",
      "text/plain": [
       "<Figure size 640x480 with 1 Axes>"
      ]
     },
     "metadata": {},
     "output_type": "display_data"
    }
   ],
   "source": [
    "sns.set_theme(style=\"darkgrid\")\n",
    "sns.set_context(\"talk\")\n",
    "plt.xlabel(\"U$_{{Diode}}$ / V\")\n",
    "plt.ylabel(\"I$_{{Diode}}$ / mA\")\n",
    "plt.errorbar(x=data_red[\" U Diode/V\"], xerr=data_red[\"Error U Diode / V\"], \n",
    "             y=data_red[\" I Diode/mA\"] , yerr=data_red[\"Error I Diode / mA\"],\n",
    "             markersize=6, fmt=\".\",color=\"navy\", ecolor=\"lightsteelblue\", elinewidth=2, capsize=3, label=\"Datenpunkte\")\n",
    "\n",
    "plt.plot(linear_fit_U, fit_function_plot(linear_fit_U,p_opt[0],p_opt[1]),\"--\", color=\"darkorange\", label=\"Fitgerade\")\n",
    "plt.legend()\n",
    "#plt.savefig(\"I_U_LED_roteLED_FIT.png\", dpi=500,bbox_inches=\"tight\")"
   ]
  },
  {
   "cell_type": "code",
   "execution_count": 31,
   "id": "f0c51f43",
   "metadata": {},
   "outputs": [
    {
     "data": {
      "text/plain": [
       "1.7405852465843157+/-0.026561710457634797"
      ]
     },
     "execution_count": 31,
     "metadata": {},
     "output_type": "execute_result"
    }
   ],
   "source": [
    "d = ufloat(p_opt[1],p_err[1])\n",
    "k = ufloat(p_opt[0],p_err[0])\n",
    "U_d = -d/k\n",
    "U_d"
   ]
  },
  {
   "cell_type": "code",
   "execution_count": 32,
   "id": "6fda45b7",
   "metadata": {},
   "outputs": [
    {
     "data": {
      "text/plain": [
       "420871640117260.0+/-6422593013793.539"
      ]
     },
     "execution_count": 32,
     "metadata": {},
     "output_type": "execute_result"
    }
   ],
   "source": [
    "nu = e*U_d/h\n",
    "nu"
   ]
  },
  {
   "cell_type": "code",
   "execution_count": 33,
   "id": "bb76df91",
   "metadata": {},
   "outputs": [
    {
     "data": {
      "text/plain": [
       "7.123132789761604e-07+/-1.0870055981700343e-08"
      ]
     },
     "execution_count": 33,
     "metadata": {},
     "output_type": "execute_result"
    }
   ],
   "source": [
    "lambda_blue = c/nu\n",
    "lambda_blue"
   ]
  },
  {
   "cell_type": "markdown",
   "id": "368c101d",
   "metadata": {},
   "source": [
    "Diodenspannung bei I = 40mA für später"
   ]
  },
  {
   "cell_type": "code",
   "execution_count": 34,
   "id": "40ba4b6c",
   "metadata": {},
   "outputs": [
    {
     "data": {
      "text/plain": [
       "2.007392535218029+/-0.028446595637729014"
      ]
     },
     "execution_count": 34,
     "metadata": {},
     "output_type": "execute_result"
    }
   ],
   "source": [
    "U_40mA = (40 - d)/k\n",
    "U_40mA"
   ]
  },
  {
   "cell_type": "markdown",
   "id": "297d9bbf",
   "metadata": {},
   "source": [
    "### Strom-Leistungskennlinie der Leuchtdiode"
   ]
  },
  {
   "cell_type": "markdown",
   "id": "f42898a5",
   "metadata": {},
   "source": [
    "    Ablauf:\n",
    "    1.) Lese Daten ein\n",
    "    2.) inkludiere Fehler\n",
    "    3.) ziehe Hintergrund ab\n",
    "    4.) Plot der Kennlinie\n",
    "    5.) Fit und daraus externe Quanteneffizienz bestimmen\n",
    "    6.) Konversionsfaktor bestimmen"
   ]
  },
  {
   "cell_type": "code",
   "execution_count": 35,
   "id": "8980be5b",
   "metadata": {},
   "outputs": [],
   "source": [
    "P_HGS = ufloat(0.075, 0.002) #Fehler im Laborbuch? Einheit: µW"
   ]
  },
  {
   "cell_type": "code",
   "execution_count": 36,
   "id": "7db961fc",
   "metadata": {},
   "outputs": [
    {
     "data": {
      "text/plain": [
       "0.26+/-0.00282842712474619"
      ]
     },
     "execution_count": 36,
     "metadata": {},
     "output_type": "execute_result"
    }
   ],
   "source": [
    "ufloat(0.335,0.002) - P_HGS"
   ]
  },
  {
   "cell_type": "code",
   "execution_count": 37,
   "id": "996df5d1",
   "metadata": {},
   "outputs": [
    {
     "data": {
      "text/plain": [
       "0.00282842712474619"
      ]
     },
     "execution_count": 37,
     "metadata": {},
     "output_type": "execute_result"
    }
   ],
   "source": [
    "np.sqrt((0.002**2) + (0.002**2)) # little check if uncertainties does everything right"
   ]
  },
  {
   "cell_type": "code",
   "execution_count": 38,
   "id": "618fe28c",
   "metadata": {},
   "outputs": [
    {
     "data": {
      "text/html": [
       "<div>\n",
       "<style scoped>\n",
       "    .dataframe tbody tr th:only-of-type {\n",
       "        vertical-align: middle;\n",
       "    }\n",
       "\n",
       "    .dataframe tbody tr th {\n",
       "        vertical-align: top;\n",
       "    }\n",
       "\n",
       "    .dataframe thead th {\n",
       "        text-align: right;\n",
       "    }\n",
       "</style>\n",
       "<table border=\"1\" class=\"dataframe\">\n",
       "  <thead>\n",
       "    <tr style=\"text-align: right;\">\n",
       "      <th></th>\n",
       "      <th>U Verbraucher/V</th>\n",
       "      <th>U Diode/V</th>\n",
       "      <th>I Diode/mA</th>\n",
       "      <th>optische Leistung/µW</th>\n",
       "      <th>Leistung Hintergrund 0.075 µW</th>\n",
       "      <th>Unnamed: 5</th>\n",
       "    </tr>\n",
       "  </thead>\n",
       "  <tbody>\n",
       "    <tr>\n",
       "      <th>0</th>\n",
       "      <td>2.0</td>\n",
       "      <td>1.645</td>\n",
       "      <td>1.22</td>\n",
       "      <td>0.335</td>\n",
       "      <td>NaN</td>\n",
       "      <td>NaN</td>\n",
       "    </tr>\n",
       "    <tr>\n",
       "      <th>1</th>\n",
       "      <td>3.0</td>\n",
       "      <td>1.714</td>\n",
       "      <td>4.14</td>\n",
       "      <td>1.800</td>\n",
       "      <td>NaN</td>\n",
       "      <td>NaN</td>\n",
       "    </tr>\n",
       "    <tr>\n",
       "      <th>2</th>\n",
       "      <td>4.0</td>\n",
       "      <td>1.759</td>\n",
       "      <td>7.35</td>\n",
       "      <td>4.020</td>\n",
       "      <td>NaN</td>\n",
       "      <td>NaN</td>\n",
       "    </tr>\n",
       "    <tr>\n",
       "      <th>3</th>\n",
       "      <td>5.0</td>\n",
       "      <td>1.795</td>\n",
       "      <td>10.76</td>\n",
       "      <td>6.810</td>\n",
       "      <td>NaN</td>\n",
       "      <td>NaN</td>\n",
       "    </tr>\n",
       "    <tr>\n",
       "      <th>4</th>\n",
       "      <td>6.0</td>\n",
       "      <td>1.825</td>\n",
       "      <td>14.02</td>\n",
       "      <td>9.710</td>\n",
       "      <td>NaN</td>\n",
       "      <td>NaN</td>\n",
       "    </tr>\n",
       "    <tr>\n",
       "      <th>5</th>\n",
       "      <td>7.0</td>\n",
       "      <td>1.851</td>\n",
       "      <td>17.22</td>\n",
       "      <td>12.680</td>\n",
       "      <td>NaN</td>\n",
       "      <td>NaN</td>\n",
       "    </tr>\n",
       "    <tr>\n",
       "      <th>6</th>\n",
       "      <td>7.5</td>\n",
       "      <td>1.862</td>\n",
       "      <td>18.73</td>\n",
       "      <td>14.140</td>\n",
       "      <td>NaN</td>\n",
       "      <td>NaN</td>\n",
       "    </tr>\n",
       "    <tr>\n",
       "      <th>7</th>\n",
       "      <td>8.0</td>\n",
       "      <td>1.875</td>\n",
       "      <td>20.40</td>\n",
       "      <td>15.730</td>\n",
       "      <td>NaN</td>\n",
       "      <td>NaN</td>\n",
       "    </tr>\n",
       "    <tr>\n",
       "      <th>8</th>\n",
       "      <td>9.0</td>\n",
       "      <td>1.900</td>\n",
       "      <td>23.85</td>\n",
       "      <td>19.000</td>\n",
       "      <td>NaN</td>\n",
       "      <td>NaN</td>\n",
       "    </tr>\n",
       "    <tr>\n",
       "      <th>9</th>\n",
       "      <td>10.0</td>\n",
       "      <td>1.922</td>\n",
       "      <td>27.07</td>\n",
       "      <td>22.000</td>\n",
       "      <td>NaN</td>\n",
       "      <td>NaN</td>\n",
       "    </tr>\n",
       "    <tr>\n",
       "      <th>10</th>\n",
       "      <td>11.0</td>\n",
       "      <td>1.943</td>\n",
       "      <td>30.18</td>\n",
       "      <td>25.100</td>\n",
       "      <td>NaN</td>\n",
       "      <td>NaN</td>\n",
       "    </tr>\n",
       "    <tr>\n",
       "      <th>11</th>\n",
       "      <td>11.5</td>\n",
       "      <td>1.954</td>\n",
       "      <td>31.86</td>\n",
       "      <td>26.800</td>\n",
       "      <td>NaN</td>\n",
       "      <td>NaN</td>\n",
       "    </tr>\n",
       "    <tr>\n",
       "      <th>12</th>\n",
       "      <td>12.0</td>\n",
       "      <td>1.964</td>\n",
       "      <td>33.47</td>\n",
       "      <td>28.200</td>\n",
       "      <td>NaN</td>\n",
       "      <td>NaN</td>\n",
       "    </tr>\n",
       "    <tr>\n",
       "      <th>13</th>\n",
       "      <td>13.0</td>\n",
       "      <td>1.986</td>\n",
       "      <td>36.85</td>\n",
       "      <td>31.300</td>\n",
       "      <td>NaN</td>\n",
       "      <td>NaN</td>\n",
       "    </tr>\n",
       "    <tr>\n",
       "      <th>14</th>\n",
       "      <td>13.5</td>\n",
       "      <td>1.996</td>\n",
       "      <td>38.49</td>\n",
       "      <td>32.800</td>\n",
       "      <td>NaN</td>\n",
       "      <td>NaN</td>\n",
       "    </tr>\n",
       "  </tbody>\n",
       "</table>\n",
       "</div>"
      ],
      "text/plain": [
       "    U Verbraucher/V   U Diode/V   I Diode/mA   optische Leistung/µW  \\\n",
       "0               2.0       1.645         1.22                  0.335   \n",
       "1               3.0       1.714         4.14                  1.800   \n",
       "2               4.0       1.759         7.35                  4.020   \n",
       "3               5.0       1.795        10.76                  6.810   \n",
       "4               6.0       1.825        14.02                  9.710   \n",
       "5               7.0       1.851        17.22                 12.680   \n",
       "6               7.5       1.862        18.73                 14.140   \n",
       "7               8.0       1.875        20.40                 15.730   \n",
       "8               9.0       1.900        23.85                 19.000   \n",
       "9              10.0       1.922        27.07                 22.000   \n",
       "10             11.0       1.943        30.18                 25.100   \n",
       "11             11.5       1.954        31.86                 26.800   \n",
       "12             12.0       1.964        33.47                 28.200   \n",
       "13             13.0       1.986        36.85                 31.300   \n",
       "14             13.5       1.996        38.49                 32.800   \n",
       "\n",
       "     Leistung Hintergrund 0.075 µW  Unnamed: 5  \n",
       "0                              NaN         NaN  \n",
       "1                              NaN         NaN  \n",
       "2                              NaN         NaN  \n",
       "3                              NaN         NaN  \n",
       "4                              NaN         NaN  \n",
       "5                              NaN         NaN  \n",
       "6                              NaN         NaN  \n",
       "7                              NaN         NaN  \n",
       "8                              NaN         NaN  \n",
       "9                              NaN         NaN  \n",
       "10                             NaN         NaN  \n",
       "11                             NaN         NaN  \n",
       "12                             NaN         NaN  \n",
       "13                             NaN         NaN  \n",
       "14                             NaN         NaN  "
      ]
     },
     "execution_count": 38,
     "metadata": {},
     "output_type": "execute_result"
    }
   ],
   "source": [
    "data_P_vs_I = pd.read_csv(\"LED_rot_V_A_I.csv\", encoding= 'unicode_escape')\n",
    "data_P_vs_I"
   ]
  },
  {
   "cell_type": "code",
   "execution_count": 39,
   "id": "2c744b7e",
   "metadata": {},
   "outputs": [],
   "source": [
    "# we only need I and P\n",
    "data_P_vs_I.drop(data_P_vs_I.columns[len(data_P_vs_I.columns)-1], axis=1, inplace=True)\n",
    "data_P_vs_I.drop(data_P_vs_I.columns[len(data_P_vs_I.columns)-1], axis=1, inplace=True)\n",
    "data_P_vs_I.drop(data_P_vs_I.columns[0], axis=1, inplace=True)\n",
    "data_P_vs_I.drop(data_P_vs_I.columns[0], axis=1, inplace=True)"
   ]
  },
  {
   "cell_type": "code",
   "execution_count": 40,
   "id": "edf5f82c",
   "metadata": {},
   "outputs": [
    {
     "data": {
      "text/html": [
       "<div>\n",
       "<style scoped>\n",
       "    .dataframe tbody tr th:only-of-type {\n",
       "        vertical-align: middle;\n",
       "    }\n",
       "\n",
       "    .dataframe tbody tr th {\n",
       "        vertical-align: top;\n",
       "    }\n",
       "\n",
       "    .dataframe thead th {\n",
       "        text-align: right;\n",
       "    }\n",
       "</style>\n",
       "<table border=\"1\" class=\"dataframe\">\n",
       "  <thead>\n",
       "    <tr style=\"text-align: right;\">\n",
       "      <th></th>\n",
       "      <th>I Diode/mA</th>\n",
       "      <th>optische Leistung/µW</th>\n",
       "    </tr>\n",
       "  </thead>\n",
       "  <tbody>\n",
       "    <tr>\n",
       "      <th>0</th>\n",
       "      <td>1.22</td>\n",
       "      <td>0.335</td>\n",
       "    </tr>\n",
       "    <tr>\n",
       "      <th>1</th>\n",
       "      <td>4.14</td>\n",
       "      <td>1.800</td>\n",
       "    </tr>\n",
       "    <tr>\n",
       "      <th>2</th>\n",
       "      <td>7.35</td>\n",
       "      <td>4.020</td>\n",
       "    </tr>\n",
       "    <tr>\n",
       "      <th>3</th>\n",
       "      <td>10.76</td>\n",
       "      <td>6.810</td>\n",
       "    </tr>\n",
       "    <tr>\n",
       "      <th>4</th>\n",
       "      <td>14.02</td>\n",
       "      <td>9.710</td>\n",
       "    </tr>\n",
       "    <tr>\n",
       "      <th>5</th>\n",
       "      <td>17.22</td>\n",
       "      <td>12.680</td>\n",
       "    </tr>\n",
       "    <tr>\n",
       "      <th>6</th>\n",
       "      <td>18.73</td>\n",
       "      <td>14.140</td>\n",
       "    </tr>\n",
       "    <tr>\n",
       "      <th>7</th>\n",
       "      <td>20.40</td>\n",
       "      <td>15.730</td>\n",
       "    </tr>\n",
       "    <tr>\n",
       "      <th>8</th>\n",
       "      <td>23.85</td>\n",
       "      <td>19.000</td>\n",
       "    </tr>\n",
       "    <tr>\n",
       "      <th>9</th>\n",
       "      <td>27.07</td>\n",
       "      <td>22.000</td>\n",
       "    </tr>\n",
       "    <tr>\n",
       "      <th>10</th>\n",
       "      <td>30.18</td>\n",
       "      <td>25.100</td>\n",
       "    </tr>\n",
       "    <tr>\n",
       "      <th>11</th>\n",
       "      <td>31.86</td>\n",
       "      <td>26.800</td>\n",
       "    </tr>\n",
       "    <tr>\n",
       "      <th>12</th>\n",
       "      <td>33.47</td>\n",
       "      <td>28.200</td>\n",
       "    </tr>\n",
       "    <tr>\n",
       "      <th>13</th>\n",
       "      <td>36.85</td>\n",
       "      <td>31.300</td>\n",
       "    </tr>\n",
       "    <tr>\n",
       "      <th>14</th>\n",
       "      <td>38.49</td>\n",
       "      <td>32.800</td>\n",
       "    </tr>\n",
       "  </tbody>\n",
       "</table>\n",
       "</div>"
      ],
      "text/plain": [
       "     I Diode/mA   optische Leistung/µW\n",
       "0          1.22                  0.335\n",
       "1          4.14                  1.800\n",
       "2          7.35                  4.020\n",
       "3         10.76                  6.810\n",
       "4         14.02                  9.710\n",
       "5         17.22                 12.680\n",
       "6         18.73                 14.140\n",
       "7         20.40                 15.730\n",
       "8         23.85                 19.000\n",
       "9         27.07                 22.000\n",
       "10        30.18                 25.100\n",
       "11        31.86                 26.800\n",
       "12        33.47                 28.200\n",
       "13        36.85                 31.300\n",
       "14        38.49                 32.800"
      ]
     },
     "execution_count": 40,
     "metadata": {},
     "output_type": "execute_result"
    }
   ],
   "source": [
    "data_P_vs_I"
   ]
  },
  {
   "cell_type": "code",
   "execution_count": 41,
   "id": "101c6ba0",
   "metadata": {},
   "outputs": [],
   "source": [
    "data_P_vs_I[\"Error I Diode / mA\"] = 0.01"
   ]
  },
  {
   "cell_type": "code",
   "execution_count": 42,
   "id": "9964c624",
   "metadata": {},
   "outputs": [],
   "source": [
    "# now we need the raw errors and then we calculate the HG corrigated optical power \n",
    "data_P_vs_I[\"Error P_0 raw/ µW\"] = 0.02\n",
    "data_P_vs_I[\"Error P_0 raw/ µW\"][0] = 0.002\n",
    "data_P_vs_I[\"Error P_0 raw/ µW\"][8:] = 0.2"
   ]
  },
  {
   "cell_type": "code",
   "execution_count": 43,
   "id": "36c0c3c0",
   "metadata": {},
   "outputs": [
    {
     "data": {
      "text/html": [
       "<div>\n",
       "<style scoped>\n",
       "    .dataframe tbody tr th:only-of-type {\n",
       "        vertical-align: middle;\n",
       "    }\n",
       "\n",
       "    .dataframe tbody tr th {\n",
       "        vertical-align: top;\n",
       "    }\n",
       "\n",
       "    .dataframe thead th {\n",
       "        text-align: right;\n",
       "    }\n",
       "</style>\n",
       "<table border=\"1\" class=\"dataframe\">\n",
       "  <thead>\n",
       "    <tr style=\"text-align: right;\">\n",
       "      <th></th>\n",
       "      <th>I Diode/mA</th>\n",
       "      <th>optische Leistung/µW</th>\n",
       "      <th>Error I Diode / mA</th>\n",
       "      <th>Error P_0 raw/ µW</th>\n",
       "    </tr>\n",
       "  </thead>\n",
       "  <tbody>\n",
       "    <tr>\n",
       "      <th>0</th>\n",
       "      <td>1.22</td>\n",
       "      <td>0.335</td>\n",
       "      <td>0.01</td>\n",
       "      <td>0.002</td>\n",
       "    </tr>\n",
       "    <tr>\n",
       "      <th>1</th>\n",
       "      <td>4.14</td>\n",
       "      <td>1.800</td>\n",
       "      <td>0.01</td>\n",
       "      <td>0.020</td>\n",
       "    </tr>\n",
       "    <tr>\n",
       "      <th>2</th>\n",
       "      <td>7.35</td>\n",
       "      <td>4.020</td>\n",
       "      <td>0.01</td>\n",
       "      <td>0.020</td>\n",
       "    </tr>\n",
       "    <tr>\n",
       "      <th>3</th>\n",
       "      <td>10.76</td>\n",
       "      <td>6.810</td>\n",
       "      <td>0.01</td>\n",
       "      <td>0.020</td>\n",
       "    </tr>\n",
       "    <tr>\n",
       "      <th>4</th>\n",
       "      <td>14.02</td>\n",
       "      <td>9.710</td>\n",
       "      <td>0.01</td>\n",
       "      <td>0.020</td>\n",
       "    </tr>\n",
       "    <tr>\n",
       "      <th>5</th>\n",
       "      <td>17.22</td>\n",
       "      <td>12.680</td>\n",
       "      <td>0.01</td>\n",
       "      <td>0.020</td>\n",
       "    </tr>\n",
       "    <tr>\n",
       "      <th>6</th>\n",
       "      <td>18.73</td>\n",
       "      <td>14.140</td>\n",
       "      <td>0.01</td>\n",
       "      <td>0.020</td>\n",
       "    </tr>\n",
       "    <tr>\n",
       "      <th>7</th>\n",
       "      <td>20.40</td>\n",
       "      <td>15.730</td>\n",
       "      <td>0.01</td>\n",
       "      <td>0.020</td>\n",
       "    </tr>\n",
       "    <tr>\n",
       "      <th>8</th>\n",
       "      <td>23.85</td>\n",
       "      <td>19.000</td>\n",
       "      <td>0.01</td>\n",
       "      <td>0.200</td>\n",
       "    </tr>\n",
       "    <tr>\n",
       "      <th>9</th>\n",
       "      <td>27.07</td>\n",
       "      <td>22.000</td>\n",
       "      <td>0.01</td>\n",
       "      <td>0.200</td>\n",
       "    </tr>\n",
       "    <tr>\n",
       "      <th>10</th>\n",
       "      <td>30.18</td>\n",
       "      <td>25.100</td>\n",
       "      <td>0.01</td>\n",
       "      <td>0.200</td>\n",
       "    </tr>\n",
       "    <tr>\n",
       "      <th>11</th>\n",
       "      <td>31.86</td>\n",
       "      <td>26.800</td>\n",
       "      <td>0.01</td>\n",
       "      <td>0.200</td>\n",
       "    </tr>\n",
       "    <tr>\n",
       "      <th>12</th>\n",
       "      <td>33.47</td>\n",
       "      <td>28.200</td>\n",
       "      <td>0.01</td>\n",
       "      <td>0.200</td>\n",
       "    </tr>\n",
       "    <tr>\n",
       "      <th>13</th>\n",
       "      <td>36.85</td>\n",
       "      <td>31.300</td>\n",
       "      <td>0.01</td>\n",
       "      <td>0.200</td>\n",
       "    </tr>\n",
       "    <tr>\n",
       "      <th>14</th>\n",
       "      <td>38.49</td>\n",
       "      <td>32.800</td>\n",
       "      <td>0.01</td>\n",
       "      <td>0.200</td>\n",
       "    </tr>\n",
       "  </tbody>\n",
       "</table>\n",
       "</div>"
      ],
      "text/plain": [
       "     I Diode/mA   optische Leistung/µW  Error I Diode / mA  Error P_0 raw/ µW\n",
       "0          1.22                  0.335                0.01              0.002\n",
       "1          4.14                  1.800                0.01              0.020\n",
       "2          7.35                  4.020                0.01              0.020\n",
       "3         10.76                  6.810                0.01              0.020\n",
       "4         14.02                  9.710                0.01              0.020\n",
       "5         17.22                 12.680                0.01              0.020\n",
       "6         18.73                 14.140                0.01              0.020\n",
       "7         20.40                 15.730                0.01              0.020\n",
       "8         23.85                 19.000                0.01              0.200\n",
       "9         27.07                 22.000                0.01              0.200\n",
       "10        30.18                 25.100                0.01              0.200\n",
       "11        31.86                 26.800                0.01              0.200\n",
       "12        33.47                 28.200                0.01              0.200\n",
       "13        36.85                 31.300                0.01              0.200\n",
       "14        38.49                 32.800                0.01              0.200"
      ]
     },
     "execution_count": 43,
     "metadata": {},
     "output_type": "execute_result"
    }
   ],
   "source": [
    "data_P_vs_I"
   ]
  },
  {
   "cell_type": "code",
   "execution_count": 44,
   "id": "b8ab5647",
   "metadata": {},
   "outputs": [],
   "source": [
    "data_P_vs_I[\"P_0 corr / µW\"] = data_P_vs_I[\" optische Leistung/µW\"] - P_HGS.n\n",
    "data_P_vs_I[\"Error P_0 corr / µW\"] = np.sqrt((data_P_vs_I[\"Error P_0 raw/ µW\"]**2) + (P_HGS.s**2))"
   ]
  },
  {
   "cell_type": "code",
   "execution_count": 45,
   "id": "e25f65d9",
   "metadata": {},
   "outputs": [
    {
     "data": {
      "text/html": [
       "<div>\n",
       "<style scoped>\n",
       "    .dataframe tbody tr th:only-of-type {\n",
       "        vertical-align: middle;\n",
       "    }\n",
       "\n",
       "    .dataframe tbody tr th {\n",
       "        vertical-align: top;\n",
       "    }\n",
       "\n",
       "    .dataframe thead th {\n",
       "        text-align: right;\n",
       "    }\n",
       "</style>\n",
       "<table border=\"1\" class=\"dataframe\">\n",
       "  <thead>\n",
       "    <tr style=\"text-align: right;\">\n",
       "      <th></th>\n",
       "      <th>I Diode/mA</th>\n",
       "      <th>optische Leistung/µW</th>\n",
       "      <th>Error I Diode / mA</th>\n",
       "      <th>Error P_0 raw/ µW</th>\n",
       "      <th>P_0 corr / µW</th>\n",
       "      <th>Error P_0 corr / µW</th>\n",
       "    </tr>\n",
       "  </thead>\n",
       "  <tbody>\n",
       "    <tr>\n",
       "      <th>0</th>\n",
       "      <td>1.22</td>\n",
       "      <td>0.335</td>\n",
       "      <td>0.01</td>\n",
       "      <td>0.002</td>\n",
       "      <td>0.260</td>\n",
       "      <td>0.002828</td>\n",
       "    </tr>\n",
       "    <tr>\n",
       "      <th>1</th>\n",
       "      <td>4.14</td>\n",
       "      <td>1.800</td>\n",
       "      <td>0.01</td>\n",
       "      <td>0.020</td>\n",
       "      <td>1.725</td>\n",
       "      <td>0.020100</td>\n",
       "    </tr>\n",
       "    <tr>\n",
       "      <th>2</th>\n",
       "      <td>7.35</td>\n",
       "      <td>4.020</td>\n",
       "      <td>0.01</td>\n",
       "      <td>0.020</td>\n",
       "      <td>3.945</td>\n",
       "      <td>0.020100</td>\n",
       "    </tr>\n",
       "    <tr>\n",
       "      <th>3</th>\n",
       "      <td>10.76</td>\n",
       "      <td>6.810</td>\n",
       "      <td>0.01</td>\n",
       "      <td>0.020</td>\n",
       "      <td>6.735</td>\n",
       "      <td>0.020100</td>\n",
       "    </tr>\n",
       "    <tr>\n",
       "      <th>4</th>\n",
       "      <td>14.02</td>\n",
       "      <td>9.710</td>\n",
       "      <td>0.01</td>\n",
       "      <td>0.020</td>\n",
       "      <td>9.635</td>\n",
       "      <td>0.020100</td>\n",
       "    </tr>\n",
       "    <tr>\n",
       "      <th>5</th>\n",
       "      <td>17.22</td>\n",
       "      <td>12.680</td>\n",
       "      <td>0.01</td>\n",
       "      <td>0.020</td>\n",
       "      <td>12.605</td>\n",
       "      <td>0.020100</td>\n",
       "    </tr>\n",
       "    <tr>\n",
       "      <th>6</th>\n",
       "      <td>18.73</td>\n",
       "      <td>14.140</td>\n",
       "      <td>0.01</td>\n",
       "      <td>0.020</td>\n",
       "      <td>14.065</td>\n",
       "      <td>0.020100</td>\n",
       "    </tr>\n",
       "    <tr>\n",
       "      <th>7</th>\n",
       "      <td>20.40</td>\n",
       "      <td>15.730</td>\n",
       "      <td>0.01</td>\n",
       "      <td>0.020</td>\n",
       "      <td>15.655</td>\n",
       "      <td>0.020100</td>\n",
       "    </tr>\n",
       "    <tr>\n",
       "      <th>8</th>\n",
       "      <td>23.85</td>\n",
       "      <td>19.000</td>\n",
       "      <td>0.01</td>\n",
       "      <td>0.200</td>\n",
       "      <td>18.925</td>\n",
       "      <td>0.200010</td>\n",
       "    </tr>\n",
       "    <tr>\n",
       "      <th>9</th>\n",
       "      <td>27.07</td>\n",
       "      <td>22.000</td>\n",
       "      <td>0.01</td>\n",
       "      <td>0.200</td>\n",
       "      <td>21.925</td>\n",
       "      <td>0.200010</td>\n",
       "    </tr>\n",
       "    <tr>\n",
       "      <th>10</th>\n",
       "      <td>30.18</td>\n",
       "      <td>25.100</td>\n",
       "      <td>0.01</td>\n",
       "      <td>0.200</td>\n",
       "      <td>25.025</td>\n",
       "      <td>0.200010</td>\n",
       "    </tr>\n",
       "    <tr>\n",
       "      <th>11</th>\n",
       "      <td>31.86</td>\n",
       "      <td>26.800</td>\n",
       "      <td>0.01</td>\n",
       "      <td>0.200</td>\n",
       "      <td>26.725</td>\n",
       "      <td>0.200010</td>\n",
       "    </tr>\n",
       "    <tr>\n",
       "      <th>12</th>\n",
       "      <td>33.47</td>\n",
       "      <td>28.200</td>\n",
       "      <td>0.01</td>\n",
       "      <td>0.200</td>\n",
       "      <td>28.125</td>\n",
       "      <td>0.200010</td>\n",
       "    </tr>\n",
       "    <tr>\n",
       "      <th>13</th>\n",
       "      <td>36.85</td>\n",
       "      <td>31.300</td>\n",
       "      <td>0.01</td>\n",
       "      <td>0.200</td>\n",
       "      <td>31.225</td>\n",
       "      <td>0.200010</td>\n",
       "    </tr>\n",
       "    <tr>\n",
       "      <th>14</th>\n",
       "      <td>38.49</td>\n",
       "      <td>32.800</td>\n",
       "      <td>0.01</td>\n",
       "      <td>0.200</td>\n",
       "      <td>32.725</td>\n",
       "      <td>0.200010</td>\n",
       "    </tr>\n",
       "  </tbody>\n",
       "</table>\n",
       "</div>"
      ],
      "text/plain": [
       "     I Diode/mA   optische Leistung/µW  Error I Diode / mA  Error P_0 raw/ µW  \\\n",
       "0          1.22                  0.335                0.01              0.002   \n",
       "1          4.14                  1.800                0.01              0.020   \n",
       "2          7.35                  4.020                0.01              0.020   \n",
       "3         10.76                  6.810                0.01              0.020   \n",
       "4         14.02                  9.710                0.01              0.020   \n",
       "5         17.22                 12.680                0.01              0.020   \n",
       "6         18.73                 14.140                0.01              0.020   \n",
       "7         20.40                 15.730                0.01              0.020   \n",
       "8         23.85                 19.000                0.01              0.200   \n",
       "9         27.07                 22.000                0.01              0.200   \n",
       "10        30.18                 25.100                0.01              0.200   \n",
       "11        31.86                 26.800                0.01              0.200   \n",
       "12        33.47                 28.200                0.01              0.200   \n",
       "13        36.85                 31.300                0.01              0.200   \n",
       "14        38.49                 32.800                0.01              0.200   \n",
       "\n",
       "    P_0 corr / µW  Error P_0 corr / µW  \n",
       "0           0.260             0.002828  \n",
       "1           1.725             0.020100  \n",
       "2           3.945             0.020100  \n",
       "3           6.735             0.020100  \n",
       "4           9.635             0.020100  \n",
       "5          12.605             0.020100  \n",
       "6          14.065             0.020100  \n",
       "7          15.655             0.020100  \n",
       "8          18.925             0.200010  \n",
       "9          21.925             0.200010  \n",
       "10         25.025             0.200010  \n",
       "11         26.725             0.200010  \n",
       "12         28.125             0.200010  \n",
       "13         31.225             0.200010  \n",
       "14         32.725             0.200010  "
      ]
     },
     "execution_count": 45,
     "metadata": {},
     "output_type": "execute_result"
    }
   ],
   "source": [
    "data_P_vs_I"
   ]
  },
  {
   "cell_type": "code",
   "execution_count": 46,
   "id": "297a93c4",
   "metadata": {},
   "outputs": [
    {
     "data": {
      "text/plain": [
       "<matplotlib.legend.Legend at 0x142a9f5e0>"
      ]
     },
     "execution_count": 46,
     "metadata": {},
     "output_type": "execute_result"
    },
    {
     "data": {
      "image/png": "[encoded data removed]",
      "text/plain": [
       "<Figure size 640x480 with 1 Axes>"
      ]
     },
     "metadata": {},
     "output_type": "display_data"
    }
   ],
   "source": [
    "sns.set_theme(style=\"darkgrid\")\n",
    "sns.set_context(\"talk\")\n",
    "plt.xlabel(\"I$_{{Diode}}$ / mA\")\n",
    "plt.ylabel(\"$P_{0,corr}$\")\n",
    "plt.errorbar(x=data_P_vs_I[\" I Diode/mA\"], xerr=data_P_vs_I[\"Error I Diode / mA\"], \n",
    "             y=data_P_vs_I[\"P_0 corr / µW\"] , yerr=data_P_vs_I[\"Error P_0 corr / µW\"],\n",
    "             markersize=6, fmt=\".\",color=\"navy\", ecolor=\"lightsteelblue\", elinewidth=2, capsize=3, label=\"Datenpunkte\")\n",
    "plt.legend()\n",
    "#plt.savefig(\"I_P_LED_roteLED.png\", dpi=500,bbox_inches=\"tight\")"
   ]
  },
  {
   "cell_type": "markdown",
   "id": "c25d2a44",
   "metadata": {},
   "source": [
    "This is what we want to fit:\n",
    "\n",
    "$P_{\\text{opt}} = \\eta_{\\text{ext}} \\cdot \\dfrac{I}{e} \\cdot h \\nu  \\Rightarrow a \\cdot I$\n",
    "\n",
    "$a = \\eta_{\\text{ext}} \\cdot \\dfrac{h \\nu}{e} $"
   ]
  },
  {
   "cell_type": "code",
   "execution_count": 47,
   "id": "8abd2a0c",
   "metadata": {},
   "outputs": [
    {
     "data": {
      "text/plain": [
       "420871640117260.0+/-6422593013793.539"
      ]
     },
     "execution_count": 47,
     "metadata": {},
     "output_type": "execute_result"
    }
   ],
   "source": [
    "nu_red = nu\n",
    "nu_red"
   ]
  },
  {
   "cell_type": "code",
   "execution_count": 104,
   "id": "9eb5a753",
   "metadata": {},
   "outputs": [],
   "source": [
    "import scipy.optimize\n",
    "#introduce also d\n",
    "def fit_function(p,x):\n",
    "    a,d = p\n",
    "    return a*x + d\n",
    "\n",
    "def fit_function_plot(x,a,d):\n",
    "    return a*x + d"
   ]
  },
  {
   "cell_type": "code",
   "execution_count": 122,
   "id": "86bdd619",
   "metadata": {},
   "outputs": [],
   "source": [
    "x_data_red = data_P_vs_I[\" I Diode/mA\"][3:].to_numpy()\n",
    "x_red_er = data_P_vs_I[\"Error I Diode / mA\"][3:].to_numpy()\n",
    "y_data_red = data_P_vs_I[\"P_0 corr / µW\"][3:].to_numpy()\n",
    "y_red_er = data_P_vs_I[\"Error P_0 corr / µW\"][3:].to_numpy()"
   ]
  },
  {
   "cell_type": "code",
   "execution_count": 123,
   "id": "1818c7ac",
   "metadata": {},
   "outputs": [],
   "source": [
    "# use ODR\n",
    "from scipy import odr\n",
    "\n",
    "data_odr_red = odr.RealData(x_data_red, y_data_red,\n",
    "                    sx=x_red_er, sy=y_red_er)\n",
    "odr = odr.ODR(data_odr_red, odr.Model(fit_function),beta0=[1.,1.])\n",
    "out = odr.run()"
   ]
  },
  {
   "cell_type": "code",
   "execution_count": 124,
   "id": "c3b0caf0",
   "metadata": {},
   "outputs": [
    {
     "name": "stdout",
     "output_type": "stream",
     "text": [
      "fit parameter and 1-sigma error\n",
      "———————————–\n",
      "0.9317688287033778 +- 0.005046642625657958\n",
      "-3.3757987728347776 +- 0.08561203233273869\n",
      "———————————–\n",
      "reduced chi squared =  4.223619981798492\n"
     ]
    }
   ],
   "source": [
    "p_opt = out.beta\n",
    "p_err = out.sd_beta\n",
    "red_chi_squared = out.res_var\n",
    "print(\"fit parameter and 1-sigma error\")\n",
    "print(\"———————————–\")\n",
    "for i in range(len(p_opt)):\n",
    "    print(str(p_opt[i]) + \" +- \" +str(p_err[i]))\n",
    "print(\"———————————–\")\n",
    "print(\"reduced chi squared = \", red_chi_squared)"
   ]
  },
  {
   "cell_type": "code",
   "execution_count": 125,
   "id": "91a4add6",
   "metadata": {},
   "outputs": [],
   "source": [
    "#create x for plotting with the linear fit\n",
    "linear_fit_I = np.arange(0,38.5,0.001)"
   ]
  },
  {
   "cell_type": "code",
   "execution_count": 127,
   "id": "61957818",
   "metadata": {},
   "outputs": [
    {
     "data": {
      "image/png": "[encoded data removed]",
      "text/plain": [
       "<Figure size 640x480 with 1 Axes>"
      ]
     },
     "metadata": {},
     "output_type": "display_data"
    }
   ],
   "source": [
    "sns.set_theme(style=\"darkgrid\")\n",
    "sns.set_context(\"talk\")\n",
    "plt.xlabel(\"I$_{{Diode}}$ / mA\")\n",
    "plt.ylabel(\"$P_{0,corr}$\")\n",
    "plt.errorbar(x=data_P_vs_I[\" I Diode/mA\"], xerr=data_P_vs_I[\"Error I Diode / mA\"], \n",
    "             y=data_P_vs_I[\"P_0 corr / µW\"] , yerr=data_P_vs_I[\"Error P_0 corr / µW\"],\n",
    "             markersize=6, fmt=\".\",color=\"navy\", ecolor=\"lightsteelblue\", elinewidth=2, capsize=3, label=\"Datenpunkte\")\n",
    "\n",
    "plt.plot(linear_fit_I, fit_function_plot(linear_fit_I, p_opt[0],  p_opt[1]),\"--\", color=\"darkorange\", label=\"Fitgerade\")\n",
    "plt.legend()\n",
    "plt.savefig(\"I_P_LED_roteLED_FIT.png\", dpi=500,bbox_inches=\"tight\")"
   ]
  },
  {
   "cell_type": "code",
   "execution_count": 128,
   "id": "2a7aee20",
   "metadata": {},
   "outputs": [
    {
     "data": {
      "text/plain": [
       "0.9317688287033778+/-0.005046642625657958"
      ]
     },
     "execution_count": 128,
     "metadata": {},
     "output_type": "execute_result"
    }
   ],
   "source": [
    "a = ufloat(p_opt[0], p_err[0])\n",
    "a"
   ]
  },
  {
   "cell_type": "markdown",
   "id": "bfcba247",
   "metadata": {},
   "source": [
    "$a = \\eta_{\\text{ext}} \\cdot \\dfrac{h \\nu}{e} \\Longrightarrow \\eta_{\\text{ext}} = a \\cdot \\dfrac{e}{h \\nu}$"
   ]
  },
  {
   "cell_type": "code",
   "execution_count": 129,
   "id": "a982e651",
   "metadata": {},
   "outputs": [
    {
     "data": {
      "text/plain": [
       "0.5353192729467628+/-0.008668361949680525"
      ]
     },
     "execution_count": 129,
     "metadata": {},
     "output_type": "execute_result"
    }
   ],
   "source": [
    "eta_ext = a * e * (1/(h*nu_red))\n",
    "eta_ext"
   ]
  },
  {
   "cell_type": "markdown",
   "id": "16682a90",
   "metadata": {},
   "source": [
    "$\\eta_{\\text{k}} = \\dfrac{P_0}{I_{\\text{Diode}} \\cdot U_{\\text{Diode}}}$ für I = 40mA"
   ]
  },
  {
   "cell_type": "markdown",
   "id": "349b3987",
   "metadata": {},
   "source": [
    "$\\eta_{\\text{k}} = \\dfrac{a \\cdot I_{\\text{Diode}}}{I_{\\text{Diode}} \\cdot U_{\\text{Diode}}} = \\dfrac{a}{U_{\\text{Diode}}}$"
   ]
  },
  {
   "cell_type": "code",
   "execution_count": 130,
   "id": "508801aa",
   "metadata": {},
   "outputs": [
    {
     "data": {
      "text/plain": [
       "0.4641687225374561+/-0.007041763929636841"
      ]
     },
     "execution_count": 130,
     "metadata": {},
     "output_type": "execute_result"
    }
   ],
   "source": [
    "eta_k = a/U_40mA\n",
    "eta_k"
   ]
  },
  {
   "cell_type": "code",
   "execution_count": null,
   "id": "ce663f5b",
   "metadata": {},
   "outputs": [],
   "source": []
  }
 ],
 "metadata": {
  "kernelspec": {
   "display_name": "Python 3 (ipykernel)",
   "language": "python",
   "name": "python3"
  },
  "language_info": {
   "codemirror_mode": {
    "name": "ipython",
    "version": 3
   },
   "file_extension": ".py",
   "mimetype": "text/x-python",
   "name": "python",
   "nbconvert_exporter": "python",
   "pygments_lexer": "ipython3",
   "version": "3.8.9"
  }
 },
 "nbformat": 4,
 "nbformat_minor": 5
}
