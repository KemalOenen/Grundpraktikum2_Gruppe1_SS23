{
 "cells": [
  {
   "cell_type": "markdown",
   "id": "a62ef506",
   "metadata": {},
   "source": [
    "# Versuch 2: Radioaktivität\n",
    "\n",
    "(@everyone: please only write in the respective notebook that you are assigned to, to avoid merge conflicts)\n",
    "(I will then put everything in a collective notebook for the advisors)"
   ]
  },
  {
   "cell_type": "code",
   "execution_count": 2,
   "id": "1c0edd66",
   "metadata": {},
   "outputs": [],
   "source": [
    "# I would recommend to get yourself the uncertainties package, otherwise you can comment all of this out\n",
    "# https://pythonhosted.org/uncertainties/\n",
    "from uncertainties import ufloat\n",
    "from uncertainties.umath import *  # sin(), etc."
   ]
  },
  {
   "cell_type": "code",
   "execution_count": 3,
   "id": "92dcd33c",
   "metadata": {},
   "outputs": [],
   "source": [
    "import numpy as np\n",
    "import pandas as pd\n",
    "import matplotlib.pyplot as plt\n",
    "import seaborn as sns"
   ]
  },
  {
   "cell_type": "markdown",
   "id": "f0ad1b86",
   "metadata": {},
   "source": [
    "### 2.1. Messung der Geigerzähler-Charakteristik"
   ]
  },
  {
   "cell_type": "markdown",
   "id": "09b25d46",
   "metadata": {},
   "source": [
    "Zählrate (unkorrigiert von HGS!) gegen Spannung auftragen |\n",
    "Zählraten-Fehler ergibt sich aus Poisson-Verteilung\n",
    "\n",
    "\n",
    "jeweils 3x Messungen für 15 Sekunden |\n",
    "erst ab 750V wurde etwas gemessen (daher die anderen Daten trivial) |\n",
    "Zählrate wurde bei 1/min belassen"
   ]
  },
  {
   "cell_type": "code",
   "execution_count": 77,
   "id": "62219274",
   "metadata": {},
   "outputs": [],
   "source": [
    "# x data\n",
    "voltage = np.array([0,100,200,300,400,500,600,700,750,800,850,900,950,1000,1050,1100,1150,1200]) #volt\n",
    "# y data\n",
    "# averaging over 3 data points and their errors!\n",
    "number_decacy_per_minute = np.array([ufloat(0,0),ufloat(0,0),ufloat(0,0),ufloat(0,0),\n",
    "                                    ufloat(0,0),ufloat(0,0),ufloat(0,0),ufloat(0,0),\n",
    "                                    np.mean([ufloat(8,np.sqrt(8)),ufloat(760,np.sqrt(760)),ufloat(1608,np.sqrt(1608))]),\n",
    "                                    np.mean([ufloat(2788,np.sqrt(2788)),ufloat(2960,np.sqrt(2960)),ufloat(2788,np.sqrt(2788))]),\n",
    "                                    np.mean([ufloat(2656,np.sqrt(2656)),ufloat(2680,np.sqrt(2680)),ufloat(2680,np.sqrt(2680))]),\n",
    "                                    np.mean([ufloat(2852,np.sqrt(2852)),ufloat(2720,np.sqrt(2720)),ufloat(2868,np.sqrt(2868))]),\n",
    "                                    np.mean([ufloat(3092,np.sqrt(3092)),ufloat(2984,np.sqrt(2984)),ufloat(3120,np.sqrt(3120))]),\n",
    "                                    np.mean([ufloat(3116,np.sqrt(3116)),ufloat(3016,np.sqrt(3016)),ufloat(3060,np.sqrt(3060))]),\n",
    "                                    np.mean([ufloat(3176,np.sqrt(3176)),ufloat(3188,np.sqrt(3188)),ufloat(3136,np.sqrt(3136))]),\n",
    "                                    np.mean([ufloat(3372,np.sqrt(3372)),ufloat(3224,np.sqrt(3224)),ufloat(3088,np.sqrt(3088))]),\n",
    "                                    np.mean([ufloat(3332,np.sqrt(3332)),ufloat(3212,np.sqrt(3212)),ufloat(3236,np.sqrt(3236))]),\n",
    "                                    np.mean([ufloat(3316,np.sqrt(3316)),ufloat(3296,np.sqrt(3296)),ufloat(3428,np.sqrt(3428))]),\n",
    "                                    ])"
   ]
  },
  {
   "cell_type": "code",
   "execution_count": null,
   "id": "e888e22e",
   "metadata": {},
   "outputs": [],
   "source": [
    "# averaging over 3 data points and their errors!\n",
    "#number_decays_per_minute_mean = np.array([0,0,0,0,0,0,0,0,np.mean([8,760,1608]), \n",
    "#                                     np.mean([2788,2960,2788]),np.mean([2656,2680,2904]),\n",
    "#                                         np.mean([2852,2720,2868]),np.mean([3092,2984,3120]),\n",
    "#                                         np.mean([3116,3016,3060]),np.mean([3176,3188,3136]),\n",
    "#                                         np.mean([3372,3224,3088]),np.mean([3332,3212,3236]),\n",
    "#                                         np.mean([3316,3296,3428])])"
   ]
  },
  {
   "cell_type": "code",
   "execution_count": 85,
   "id": "ae75c51a",
   "metadata": {},
   "outputs": [],
   "source": [
    "number_decacy_per_minute_mean_ufloat = np.zeros(len(number_decacy_per_minute))\n",
    "number_decacy_per_minute_er_ufloat = np.zeros(len(number_decacy_per_minute))\n",
    "for i in range(len(number_decacy_per_minute)):\n",
    "    number_decacy_per_minute_mean_ufloat[i] = number_decacy_per_minute[i].n\n",
    "for i in range(len(number_decacy_per_minute)):\n",
    "    number_decacy_per_minute_er_ufloat[i] = number_decacy_per_minute[i].s"
   ]
  },
  {
   "cell_type": "code",
   "execution_count": 86,
   "id": "e0e4ef82",
   "metadata": {},
   "outputs": [
    {
     "data": {
      "text/html": [
       "<div>\n",
       "<style scoped>\n",
       "    .dataframe tbody tr th:only-of-type {\n",
       "        vertical-align: middle;\n",
       "    }\n",
       "\n",
       "    .dataframe tbody tr th {\n",
       "        vertical-align: top;\n",
       "    }\n",
       "\n",
       "    .dataframe thead th {\n",
       "        text-align: right;\n",
       "    }\n",
       "</style>\n",
       "<table border=\"1\" class=\"dataframe\">\n",
       "  <thead>\n",
       "    <tr style=\"text-align: right;\">\n",
       "      <th></th>\n",
       "      <th>Spannung / V</th>\n",
       "      <th>Zählrate / min$^{-1}$</th>\n",
       "      <th>Zählrate-Fehler / min$^{-1/2}$</th>\n",
       "    </tr>\n",
       "  </thead>\n",
       "  <tbody>\n",
       "    <tr>\n",
       "      <th>0</th>\n",
       "      <td>0</td>\n",
       "      <td>0.000000</td>\n",
       "      <td>0.000000</td>\n",
       "    </tr>\n",
       "    <tr>\n",
       "      <th>1</th>\n",
       "      <td>100</td>\n",
       "      <td>0.000000</td>\n",
       "      <td>0.000000</td>\n",
       "    </tr>\n",
       "    <tr>\n",
       "      <th>2</th>\n",
       "      <td>200</td>\n",
       "      <td>0.000000</td>\n",
       "      <td>0.000000</td>\n",
       "    </tr>\n",
       "    <tr>\n",
       "      <th>3</th>\n",
       "      <td>300</td>\n",
       "      <td>0.000000</td>\n",
       "      <td>0.000000</td>\n",
       "    </tr>\n",
       "    <tr>\n",
       "      <th>4</th>\n",
       "      <td>400</td>\n",
       "      <td>0.000000</td>\n",
       "      <td>0.000000</td>\n",
       "    </tr>\n",
       "    <tr>\n",
       "      <th>5</th>\n",
       "      <td>500</td>\n",
       "      <td>0.000000</td>\n",
       "      <td>0.000000</td>\n",
       "    </tr>\n",
       "    <tr>\n",
       "      <th>6</th>\n",
       "      <td>600</td>\n",
       "      <td>0.000000</td>\n",
       "      <td>0.000000</td>\n",
       "    </tr>\n",
       "    <tr>\n",
       "      <th>7</th>\n",
       "      <td>700</td>\n",
       "      <td>0.000000</td>\n",
       "      <td>0.000000</td>\n",
       "    </tr>\n",
       "    <tr>\n",
       "      <th>8</th>\n",
       "      <td>750</td>\n",
       "      <td>792.000000</td>\n",
       "      <td>16.248077</td>\n",
       "    </tr>\n",
       "    <tr>\n",
       "      <th>9</th>\n",
       "      <td>800</td>\n",
       "      <td>2845.333333</td>\n",
       "      <td>30.796825</td>\n",
       "    </tr>\n",
       "    <tr>\n",
       "      <th>10</th>\n",
       "      <td>850</td>\n",
       "      <td>2672.000000</td>\n",
       "      <td>29.844039</td>\n",
       "    </tr>\n",
       "    <tr>\n",
       "      <th>11</th>\n",
       "      <td>900</td>\n",
       "      <td>2813.333333</td>\n",
       "      <td>30.623158</td>\n",
       "    </tr>\n",
       "    <tr>\n",
       "      <th>12</th>\n",
       "      <td>950</td>\n",
       "      <td>3065.333333</td>\n",
       "      <td>31.965259</td>\n",
       "    </tr>\n",
       "    <tr>\n",
       "      <th>13</th>\n",
       "      <td>1000</td>\n",
       "      <td>3064.000000</td>\n",
       "      <td>31.958306</td>\n",
       "    </tr>\n",
       "    <tr>\n",
       "      <th>14</th>\n",
       "      <td>1050</td>\n",
       "      <td>3166.666667</td>\n",
       "      <td>32.489314</td>\n",
       "    </tr>\n",
       "    <tr>\n",
       "      <th>15</th>\n",
       "      <td>1100</td>\n",
       "      <td>3228.000000</td>\n",
       "      <td>32.802439</td>\n",
       "    </tr>\n",
       "    <tr>\n",
       "      <th>16</th>\n",
       "      <td>1150</td>\n",
       "      <td>3260.000000</td>\n",
       "      <td>32.964628</td>\n",
       "    </tr>\n",
       "    <tr>\n",
       "      <th>17</th>\n",
       "      <td>1200</td>\n",
       "      <td>3346.666667</td>\n",
       "      <td>33.399933</td>\n",
       "    </tr>\n",
       "  </tbody>\n",
       "</table>\n",
       "</div>"
      ],
      "text/plain": [
       "    Spannung / V  Zählrate / min$^{-1}$  Zählrate-Fehler / min$^{-1/2}$\n",
       "0              0               0.000000                        0.000000\n",
       "1            100               0.000000                        0.000000\n",
       "2            200               0.000000                        0.000000\n",
       "3            300               0.000000                        0.000000\n",
       "4            400               0.000000                        0.000000\n",
       "5            500               0.000000                        0.000000\n",
       "6            600               0.000000                        0.000000\n",
       "7            700               0.000000                        0.000000\n",
       "8            750             792.000000                       16.248077\n",
       "9            800            2845.333333                       30.796825\n",
       "10           850            2672.000000                       29.844039\n",
       "11           900            2813.333333                       30.623158\n",
       "12           950            3065.333333                       31.965259\n",
       "13          1000            3064.000000                       31.958306\n",
       "14          1050            3166.666667                       32.489314\n",
       "15          1100            3228.000000                       32.802439\n",
       "16          1150            3260.000000                       32.964628\n",
       "17          1200            3346.666667                       33.399933"
      ]
     },
     "execution_count": 86,
     "metadata": {},
     "output_type": "execute_result"
    }
   ],
   "source": [
    "data = pd.DataFrame({\"Spannung / V\": voltage, \"Zählrate / min$^{-1}$\": number_decacy_per_minute_mean_ufloat, \"Zählrate-Fehler / min$^{-1/2}$\": number_decacy_per_minute_er_ufloat})\n",
    "data"
   ]
  },
  {
   "cell_type": "code",
   "execution_count": 66,
   "id": "6faca81a",
   "metadata": {},
   "outputs": [
    {
     "data": {
      "text/html": [
       "<svg  width=\"550\" height=\"55\"><rect x=\"0\" y=\"0\" width=\"55\" height=\"55\" style=\"fill:#a1c9f4;stroke-width:2;stroke:rgb(255,255,255)\"/><rect x=\"55\" y=\"0\" width=\"55\" height=\"55\" style=\"fill:#ffb482;stroke-width:2;stroke:rgb(255,255,255)\"/><rect x=\"110\" y=\"0\" width=\"55\" height=\"55\" style=\"fill:#8de5a1;stroke-width:2;stroke:rgb(255,255,255)\"/><rect x=\"165\" y=\"0\" width=\"55\" height=\"55\" style=\"fill:#ff9f9b;stroke-width:2;stroke:rgb(255,255,255)\"/><rect x=\"220\" y=\"0\" width=\"55\" height=\"55\" style=\"fill:#d0bbff;stroke-width:2;stroke:rgb(255,255,255)\"/><rect x=\"275\" y=\"0\" width=\"55\" height=\"55\" style=\"fill:#debb9b;stroke-width:2;stroke:rgb(255,255,255)\"/><rect x=\"330\" y=\"0\" width=\"55\" height=\"55\" style=\"fill:#fab0e4;stroke-width:2;stroke:rgb(255,255,255)\"/><rect x=\"385\" y=\"0\" width=\"55\" height=\"55\" style=\"fill:#cfcfcf;stroke-width:2;stroke:rgb(255,255,255)\"/><rect x=\"440\" y=\"0\" width=\"55\" height=\"55\" style=\"fill:#fffea3;stroke-width:2;stroke:rgb(255,255,255)\"/><rect x=\"495\" y=\"0\" width=\"55\" height=\"55\" style=\"fill:#b9f2f0;stroke-width:2;stroke:rgb(255,255,255)\"/></svg>"
      ],
      "text/plain": [
       "[(0.6313725490196078, 0.788235294117647, 0.9568627450980393),\n",
       " (1.0, 0.7058823529411765, 0.5098039215686274),\n",
       " (0.5529411764705883, 0.8980392156862745, 0.6313725490196078),\n",
       " (1.0, 0.6235294117647059, 0.6078431372549019),\n",
       " (0.8156862745098039, 0.7333333333333333, 1.0),\n",
       " (0.8705882352941177, 0.7333333333333333, 0.6078431372549019),\n",
       " (0.9803921568627451, 0.6901960784313725, 0.8941176470588236),\n",
       " (0.8117647058823529, 0.8117647058823529, 0.8117647058823529),\n",
       " (1.0, 0.996078431372549, 0.6392156862745098),\n",
       " (0.7254901960784313, 0.9490196078431372, 0.9411764705882353)]"
      ]
     },
     "execution_count": 66,
     "metadata": {},
     "output_type": "execute_result"
    }
   ],
   "source": [
    "sns.color_palette(\"pastel\")"
   ]
  },
  {
   "cell_type": "code",
   "execution_count": 63,
   "id": "b66c490e",
   "metadata": {},
   "outputs": [
    {
     "name": "stdout",
     "output_type": "stream",
     "text": [
      "['#a1c9f4', '#ffb482', '#8de5a1', '#ff9f9b', '#d0bbff', '#debb9b', '#fab0e4', '#cfcfcf', '#fffea3', '#b9f2f0']\n"
     ]
    }
   ],
   "source": [
    "print(sns.color_palette(\"pastel\").as_hex())"
   ]
  },
  {
   "cell_type": "code",
   "execution_count": 109,
   "id": "26447eef",
   "metadata": {},
   "outputs": [
    {
     "data": {
      "image/png": "[encoded data removed]",
      "text/plain": [
       "<Figure size 640x480 with 1 Axes>"
      ]
     },
     "metadata": {},
     "output_type": "display_data"
    }
   ],
   "source": [
    "sns.set_theme(style=\"darkgrid\")\n",
    "sns.set_context(\"talk\")\n",
    "plt.xlabel(\"Spannung / V\")\n",
    "plt.ylabel( \"Zählrate / min$^{-1}$\")\n",
    "plt.errorbar(x=voltage[7:], \n",
    "             y=number_decacy_per_minute_mean_ufloat[7:], \n",
    "             yerr=number_decacy_per_minute_er_ufloat[7:],markersize=6,\n",
    "             fmt=\".\",color=\"navy\", ecolor=\"lightsteelblue\", elinewidth=2, capsize=3)\n",
    "\n",
    "plt.savefig(\"Geigerzähler_Charakteristik.png\", dpi = 500,bbox_inches='tight')\n",
    "plt.show()"
   ]
  },
  {
   "cell_type": "markdown",
   "id": "a1ac3498",
   "metadata": {},
   "source": [
    "### 2.3. Halbwertszeit von Barium 137"
   ]
  },
  {
   "cell_type": "code",
   "execution_count": null,
   "id": "64cd1ac2",
   "metadata": {},
   "outputs": [],
   "source": []
  }
 ],
 "metadata": {
  "kernelspec": {
   "display_name": "Python 3 (ipykernel)",
   "language": "python",
   "name": "python3"
  },
  "language_info": {
   "codemirror_mode": {
    "name": "ipython",
    "version": 3
   },
   "file_extension": ".py",
   "mimetype": "text/x-python",
   "name": "python",
   "nbconvert_exporter": "python",
   "pygments_lexer": "ipython3",
   "version": "3.8.9"
  },
  "vscode": {
   "interpreter": {
    "hash": "31f2aee4e71d21fbe5cf8b01ff0e069b9275f58929596ceb00d14d90e3e16cd6"
   }
  }
 },
 "nbformat": 4,
 "nbformat_minor": 5
}
