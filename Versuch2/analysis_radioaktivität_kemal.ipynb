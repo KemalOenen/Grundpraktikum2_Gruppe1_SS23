{
 "cells": [
  {
   "cell_type": "markdown",
   "id": "a62ef506",
   "metadata": {},
   "source": [
    "# Versuch 2: Radioaktivität\n",
    "\n",
    "(@everyone: please only write in the respective notebook that you are assigned to, to avoid merge conflicts)\n",
    "(I will then put everything in a collective notebook for the advisors)"
   ]
  },
  {
   "cell_type": "code",
   "execution_count": 1,
   "id": "1c0edd66",
   "metadata": {},
   "outputs": [],
   "source": [
    "# I would recommend to get yourself the uncertainties package, otherwise you can comment all of this out\n",
    "# https://pythonhosted.org/uncertainties/\n",
    "from uncertainties import ufloat\n",
    "from uncertainties.umath import *  # sin(), etc."
   ]
  },
  {
   "cell_type": "code",
   "execution_count": 2,
   "id": "92dcd33c",
   "metadata": {},
   "outputs": [],
   "source": [
    "import numpy as np\n",
    "import pandas as pd\n",
    "import matplotlib.pyplot as plt\n",
    "import seaborn as sns"
   ]
  },
  {
   "cell_type": "code",
   "execution_count": null,
   "id": "5f61a2dd",
   "metadata": {},
   "outputs": [],
   "source": []
  }
 ],
 "metadata": {
  "kernelspec": {
   "display_name": "Python 3 (ipykernel)",
   "language": "python",
   "name": "python3"
  },
  "language_info": {
   "codemirror_mode": {
    "name": "ipython",
    "version": 3
   },
   "file_extension": ".py",
   "mimetype": "text/x-python",
   "name": "python",
   "nbconvert_exporter": "python",
   "pygments_lexer": "ipython3",
   "version": "3.8.9"
  },
  "vscode": {
   "interpreter": {
    "hash": "31f2aee4e71d21fbe5cf8b01ff0e069b9275f58929596ceb00d14d90e3e16cd6"
   }
  }
 },
 "nbformat": 4,
 "nbformat_minor": 5
}
