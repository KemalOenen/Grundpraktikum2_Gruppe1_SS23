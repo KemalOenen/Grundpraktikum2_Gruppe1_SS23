{
 "cells": [
  {
   "cell_type": "markdown",
   "id": "a62ef506",
   "metadata": {},
   "source": [
    "# Versuch 2: Radioaktivität\n",
    "\n",
    "(@everyone: please only write in the respective notebook that you are assigned to, to avoid merge conflicts)\n",
    "(I will then put everything in a collective notebook for the advisors)"
   ]
  },
  {
   "cell_type": "code",
   "execution_count": 1,
   "id": "1c0edd66",
   "metadata": {},
   "outputs": [],
   "source": [
    "# I would recommend to get yourself the uncertainties package, otherwise you can comment all of this out\n",
    "# https://pythonhosted.org/uncertainties/\n",
    "from uncertainties import ufloat\n",
    "from uncertainties.umath import *  # sin(), etc.\n",
    "import matplotlib.pyplot as plt"
   ]
  },
  {
   "cell_type": "code",
   "execution_count": 2,
   "id": "92dcd33c",
   "metadata": {},
   "outputs": [],
   "source": [
    "import numpy as np\n",
    "import pandas as pd\n",
    "import matplotlib.pyplot as plt\n",
    "from scipy.optimize import curve_fit\n",
    "from scipy.stats import poisson"
   ]
  },
  {
   "cell_type": "code",
   "execution_count": 3,
   "id": "5f61a2dd",
   "metadata": {},
   "outputs": [
    {
     "name": "stdout",
     "output_type": "stream",
     "text": [
      "136+/-9\n"
     ]
    }
   ],
   "source": [
    "df=pd.read_csv(\"./Gruppe1_SS23/Messung2/Messung2_Daten.csv\")\n",
    "df[\"Events\"]=df[\"Events\"]/4\n",
    "\n",
    "#Part (i)\n",
    "A=df[\"Events\"].mean() #Aktivity in Bq\n",
    "n_bar=A*15 # simply A*t=A*15s is a mean value for Poisson distribution\n",
    "uncertEvents=np.std(np.array(np.sqrt(df[\"Events\"]))) #standard deviation of uncertainties\n",
    "n_bar_uncert=uncertEvents*15 #multiplying with time intervall\n",
    "Nmean=ufloat(n_bar, n_bar_uncert)\n",
    "print(Nmean) #Mean value with uncertainty (i) int=15s"
   ]
  },
  {
   "cell_type": "code",
   "execution_count": 4,
   "id": "76741a4c",
   "metadata": {},
   "outputs": [
    {
     "name": "stdout",
     "output_type": "stream",
     "text": [
      "3.73+/-0.34\n"
     ]
    }
   ],
   "source": [
    "#Part (ii)\n",
    "sigma_Sample=np.std(df[\"Events\"]) #std of the Sample\n",
    "sigma_Sample_uncert=sigma_Sample/np.sqrt(2*(len(df[\"Events\"])-1)) #uncertainty of std of the sample\n",
    "std_Sample=ufloat(sigma_Sample, sigma_Sample_uncert)\n",
    "print(std_Sample) #std of the Sample (ii)"
   ]
  },
  {
   "cell_type": "code",
   "execution_count": 5,
   "id": "aaec7c3d",
   "metadata": {},
   "outputs": [
    {
     "data": {
      "text/plain": [
       "11.661903789690601"
      ]
     },
     "execution_count": 5,
     "metadata": {},
     "output_type": "execute_result"
    }
   ],
   "source": [
    "#Part (iii)\n",
    "sigma_P=np.sqrt(n_bar) #std of Poisson distribution with a mean of our measure sequence\n",
    "sigma_P"
   ]
  },
  {
   "cell_type": "code",
   "execution_count": 6,
   "id": "eedd4f45",
   "metadata": {},
   "outputs": [
    {
     "data": {
      "text/plain": [
       "544.0"
      ]
     },
     "execution_count": 6,
     "metadata": {},
     "output_type": "execute_result"
    }
   ],
   "source": [
    "#Part (iv)\n",
    "sumOfEvents=df[\"Events\"].sum() #actually n_N\n",
    "sumOfEvents"
   ]
  },
  {
   "cell_type": "code",
   "execution_count": 7,
   "id": "7eaac4bb",
   "metadata": {},
   "outputs": [
    {
     "data": {
      "text/plain": [
       "23.323807579381203"
      ]
     },
     "execution_count": 7,
     "metadata": {},
     "output_type": "execute_result"
    }
   ],
   "source": [
    "#Part (v)\n",
    "sigma_N=np.sqrt(sumOfEvents)\n",
    "sigma_N"
   ]
  },
  {
   "cell_type": "code",
   "execution_count": 8,
   "id": "950b8275",
   "metadata": {},
   "outputs": [
    {
     "name": "stdout",
     "output_type": "stream",
     "text": [
      "0.38873012632302006\n",
      "3.7321426672742413\n",
      "11.661903789690601\n"
     ]
    }
   ],
   "source": [
    "N=len(df[\"Events\"])\n",
    "print(sigma_N/N)\n",
    "print(sigma_Sample)\n",
    "print(sigma_P)"
   ]
  },
  {
   "cell_type": "code",
   "execution_count": 67,
   "id": "0bc85fce",
   "metadata": {},
   "outputs": [
    {
     "data": {
      "image/png": "[encoded data removed]",
      "text/plain": [
       "<Figure size 640x480 with 1 Axes>"
      ]
     },
     "metadata": {},
     "output_type": "display_data"
    }
   ],
   "source": [
    "from scipy import stats\n",
    "plt.hist(df[\"Events\"], color=\"red\", label=\"Data\", edgecolor=\"black\", density=True, bins=15, alpha=0.5)\n",
    "poisValues = stats.poisson.rvs(mu=n_bar/15, size=1000)\n",
    "plt.hist(poisValues, density=True, color=\"blue\", label=\"Poisson Verteilung\", bins=15, alpha=0.5)\n",
    "normValues=np.random.normal(n_bar/15, n_bar_uncert/15, 200)\n",
    "#plt.hist(normValues, density=True, color=\"green\", label=\"Gauß Verteilung\", bins=15, alpha=0.5)\n",
    "plt.xlabel(r'Anzahl der Zerfallsereignisse in $\\Delta t=15s$', size=15)\n",
    "plt.ylabel('Relative Häufigkeit', size=15)\n",
    "plt.show()"
   ]
  },
  {
   "cell_type": "code",
   "execution_count": 62,
   "id": "cf0fe802",
   "metadata": {},
   "outputs": [
    {
     "data": {
      "text/plain": [
       "array([10,  6,  5, 14, 12, 10,  5, 15, 13, 12,  6, 10, 12,  9, 12,  3,  6,\n",
       "       10,  7,  8,  6, 10,  8,  8, 10,  7,  9,  8,  9,  3,  9,  1,  9,  9,\n",
       "        7,  8, 11, 11,  8, 11, 11,  8, 12,  6,  8, 12,  3,  8, 10, 11, 17,\n",
       "        5,  2,  7,  7,  9, 14,  7, 10,  7,  6,  5, 10,  5,  9, 13,  9, 10,\n",
       "        9,  7, 11, 12,  8, 12,  7,  7, 10,  7, 10, 11,  7, 13,  6, 10,  5,\n",
       "       13,  8,  7, 12,  8, 10,  6,  9,  8,  9,  3, 10,  8,  9, 13,  5,  6,\n",
       "       13,  6,  7,  6, 10, 12, 11, 12,  8, 11,  9, 11,  8, 10, 10,  8,  9,\n",
       "        7, 10, 16,  8,  7,  7,  6,  4, 11, 14,  4,  7, 10, 12,  7, 11,  3,\n",
       "       12,  9,  8, 14, 18,  6, 13, 10,  3, 11, 12, 11,  9,  4,  7, 10,  9,\n",
       "        6, 13, 14, 11,  6, 10,  6, 11, 10,  7,  8,  3, 11,  6, 12, 11,  7,\n",
       "       11, 14,  8,  8, 16, 12, 15, 13, 10,  5,  9,  7, 10,  6,  7,  8,  9,\n",
       "       12,  3,  2,  5,  6, 11,  7,  5, 12, 12, 10, 11, 11, 10, 14,  9, 12,\n",
       "        8,  2,  6,  6, 14, 13,  9,  7,  5,  8, 13, 11,  8,  8,  7,  8,  4,\n",
       "       14,  7, 10,  5,  9,  6,  7,  6,  9,  7,  7,  9, 10,  5, 13, 11,  9,\n",
       "       22,  6, 11, 15,  8,  7, 11,  7, 12,  9,  7, 14, 11, 10, 11,  7,  5,\n",
       "        7, 11,  6,  8,  6, 11,  9, 10, 11,  8,  5, 11, 10,  9,  5,  8,  9,\n",
       "       14,  5, 14,  7,  7, 12, 11, 11,  7, 10,  8, 11, 11,  7,  9,  9,  8,\n",
       "       11,  7,  6, 13,  9,  8,  7,  6,  8, 12,  6, 11,  6,  6, 10, 15, 13,\n",
       "        9, 10, 10, 12,  6, 11, 15,  8,  9,  7,  5, 11,  4, 11, 15,  6, 13,\n",
       "       11,  5,  6,  8,  9, 13, 12,  6,  8,  7,  9,  6, 16,  5, 11,  6, 15,\n",
       "       12,  5,  3,  8,  4,  7,  3, 13,  4, 13, 11,  6, 11,  6, 11,  9, 11,\n",
       "        8, 14,  7, 13, 12,  7, 12, 15,  5, 12,  8,  9,  2,  7,  5,  8,  6,\n",
       "       13, 12,  7, 11, 10,  8, 16, 11,  7,  9,  5,  6,  7, 10,  6, 13,  9,\n",
       "       10,  8,  9,  6,  9,  9, 11,  3, 10, 10,  7, 12,  8,  9,  9,  7, 12,\n",
       "        6, 10, 14,  8, 10,  8,  8,  3, 17, 12, 10, 13,  9,  6, 15,  8,  8,\n",
       "       14, 13, 12, 15,  4,  3,  9, 13,  7,  6,  8, 12,  6,  5,  9,  9, 12,\n",
       "        9,  8, 14,  8,  7,  9, 12, 17,  7,  7,  6, 18,  7,  6, 14,  7,  9,\n",
       "       10,  4, 10,  7,  9,  9,  9, 12,  7,  8,  6, 11,  9,  9,  9, 15, 12,\n",
       "       10,  4, 13,  8, 12, 12,  7,  6,  7,  6,  6, 11,  8,  7,  7, 16, 11,\n",
       "       10, 11, 15,  7, 13,  3, 11, 12,  6, 10,  4, 11,  5, 10,  9, 11,  9,\n",
       "        7,  7, 10,  8, 10, 13, 11,  7,  6,  3,  7, 11, 10,  5,  7,  7,  6,\n",
       "        7,  9,  5,  7,  2, 13, 10, 12,  9, 13,  9,  5, 13,  6,  8,  4,  5,\n",
       "        8,  7,  8, 10,  6, 14, 11, 13, 11,  6,  6,  7,  6,  9, 13,  5, 10,\n",
       "        8, 10,  8, 10,  7,  8, 15, 10,  7,  5,  7,  7, 13,  9, 11,  6,  7,\n",
       "       12, 11,  9,  7,  5,  8,  7, 11, 10,  8,  8,  7, 12,  6, 11,  7, 14,\n",
       "       11, 14, 10,  6, 13, 12, 11,  7, 11,  6, 13,  7,  7,  8,  5, 13,  8,\n",
       "        5,  5,  4, 12,  8,  8,  7,  7,  8,  8,  9,  7,  5,  9,  8,  3,  7,\n",
       "       10, 10,  9,  6, 10,  8, 14,  5, 12, 12,  9,  6, 10, 10, 13, 10, 14,\n",
       "       10, 10,  7,  6,  9,  7,  7,  7, 10,  7,  4,  4, 10,  9,  6, 14, 12,\n",
       "       11, 11,  3, 17, 11, 12,  3,  6,  8, 11,  9,  5,  7,  9, 13, 12,  6,\n",
       "       11,  6, 13, 10,  8,  6,  6, 12, 10, 11, 10, 12,  8,  5,  6,  4,  5,\n",
       "        8,  7,  6, 11, 13, 12, 10, 14, 10, 10, 15,  8,  9, 10, 10, 13,  6,\n",
       "        6, 10,  9, 13,  6,  3,  9, 10, 19,  9,  5,  9,  8,  7,  8,  5, 10,\n",
       "        6,  9,  0,  8,  7, 13,  8,  9,  7, 11, 13,  8, 10,  8,  5, 14, 10,\n",
       "        5,  7,  6,  5,  3, 13,  4, 11,  7,  6,  8,  5,  6,  8, 12, 16, 13,\n",
       "        5, 11,  9,  9, 13, 11,  8,  6,  7, 12,  5,  3, 13,  9,  6,  9, 10,\n",
       "       16, 12, 11, 10,  5, 12,  7,  2, 11,  9,  5,  9, 16,  9,  6, 10, 10,\n",
       "       16,  9,  7,  7, 14, 11,  7, 11, 12,  8,  6,  9, 18, 10, 11,  4,  8,\n",
       "       14, 12, 11,  7,  3, 10, 10,  4,  6, 12, 11,  5, 13,  8, 14,  9, 10,\n",
       "        9, 12, 10,  5,  6,  8, 13, 16,  9,  8,  3, 14, 15,  6,  6, 10,  8,\n",
       "       13,  5,  9,  8, 11,  8,  8, 12,  7,  8,  8,  5,  8, 12, 10,  9, 10,\n",
       "       11,  4, 12,  6,  6,  5, 10,  8,  9,  7, 10,  6,  5, 11, 14, 10, 11,\n",
       "       16,  9, 11,  8,  8,  7,  6,  9, 12, 11,  9, 12, 13,  9,  6,  8,  7,\n",
       "        9, 12, 12,  5, 19, 15,  7,  8, 11, 15, 14, 14, 11, 11, 12, 12,  8,\n",
       "       11,  8,  8,  7,  9, 10,  8,  8,  8,  5, 10,  8, 10, 12, 10,  3,  9,\n",
       "       14,  9,  6, 10,  7,  8,  7, 12,  6, 11, 12,  9,  4,  6, 14, 12,  3,\n",
       "       12,  8,  8, 12,  4,  5, 12,  6,  6, 10,  5, 13, 11,  4, 16, 10, 10,\n",
       "        4,  9, 14,  6, 10, 10, 14, 21,  9,  8, 11, 13, 10,  9,  5, 13,  8,\n",
       "        7,  8,  9,  7, 12, 13,  8,  7, 14, 14,  7,  7,  9, 13],\n",
       "      dtype=int64)"
      ]
     },
     "execution_count": 62,
     "metadata": {},
     "output_type": "execute_result"
    }
   ],
   "source": [
    "poisValues"
   ]
  },
  {
   "cell_type": "code",
   "execution_count": null,
   "id": "0993af6c",
   "metadata": {},
   "outputs": [],
   "source": []
  }
 ],
 "metadata": {
  "kernelspec": {
   "display_name": "Python 3 (ipykernel)",
   "language": "python",
   "name": "python3"
  },
  "language_info": {
   "codemirror_mode": {
    "name": "ipython",
    "version": 3
   },
   "file_extension": ".py",
   "mimetype": "text/x-python",
   "name": "python",
   "nbconvert_exporter": "python",
   "pygments_lexer": "ipython3",
   "version": "3.9.13"
  },
  "vscode": {
   "interpreter": {
    "hash": "31f2aee4e71d21fbe5cf8b01ff0e069b9275f58929596ceb00d14d90e3e16cd6"
   }
  }
 },
 "nbformat": 4,
 "nbformat_minor": 5
}
