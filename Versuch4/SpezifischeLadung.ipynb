{
 "cells": [
  {
   "cell_type": "code",
   "execution_count": null,
   "metadata": {},
   "outputs": [],
   "source": [
    "import pandas as pd\n",
    "import numpy as np\n",
    "import matplotlib.pyplot as plt\n",
    "import seaborn as sns\n",
    "from uncertainties import *\n",
    "from uncertainties.umath import *  # sin(), etc.\n",
    "import uncertainties.umath\n",
    "\n",
    "from uncertainties import ufloat\n",
    "from uncertainties import umath\n",
    "from scipy.optimize import curve_fit\n",
    "import scipy as sp\n",
    "sns.set_theme(style=\"darkgrid\")\n",
    "sns.set_context(\"paper\")"
   ]
  }
 ],
 "metadata": {
  "language_info": {
   "name": "python"
  },
  "orig_nbformat": 4
 },
 "nbformat": 4,
 "nbformat_minor": 2
}
