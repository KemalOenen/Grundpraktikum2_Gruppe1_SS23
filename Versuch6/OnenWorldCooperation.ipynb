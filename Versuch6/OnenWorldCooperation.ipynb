{
 "cells": [
  {
   "cell_type": "code",
   "execution_count": 1,
   "id": "4a9eadc1",
   "metadata": {},
   "outputs": [],
   "source": [
    "# I would recommend to get yourself the uncertainties package, otherwise you can comment all of this out\n",
    "# https://pythonhosted.org/uncertainties/\n",
    "from uncertainties import ufloat\n",
    "from uncertainties.umath import *  # sin(), etc.\n",
    "import uncertainties.umath"
   ]
  },
  {
   "cell_type": "code",
   "execution_count": 2,
   "id": "3ba91fb6",
   "metadata": {},
   "outputs": [],
   "source": [
    "import numpy as np\n",
    "import pandas as pd\n",
    "import matplotlib.pyplot as plt\n",
    "import seaborn as sns"
   ]
  },
  {
   "cell_type": "markdown",
   "id": "2e57bc68",
   "metadata": {},
   "source": [
    "## Carnot-Leistungszahlen"
   ]
  },
  {
   "cell_type": "code",
   "execution_count": 3,
   "id": "70517b65",
   "metadata": {},
   "outputs": [],
   "source": [
    "temp_hot = pd.read_csv(\"Measure_data.csv\")['CHANNEL1'] + 273.15 # in K\n",
    "temp_cold = pd.read_csv(\"Measure_data.csv\")['CHANNEL5'] + 273.15 # in K"
   ]
  },
  {
   "cell_type": "markdown",
   "id": "5fa2f613",
   "metadata": {},
   "source": [
    "uncertainty is set at 0.5 K\n",
    "\n",
    "we calculate for 5, 15 and 35 min"
   ]
  },
  {
   "cell_type": "markdown",
   "id": "c58a2c80",
   "metadata": {},
   "source": [
    "$\\varepsilon_C = \\dfrac{1}{1-\\frac{T_K}{T_H}}$"
   ]
  },
  {
   "cell_type": "code",
   "execution_count": 6,
   "id": "96686030",
   "metadata": {},
   "outputs": [
    {
     "name": "stdout",
     "output_type": "stream",
     "text": [
      "time (s): 300 T_K: 285.0395 T_H: 299.1078 epsilon_C: 21.3+/-1.0\n",
      "time (s): 900 T_K: 277.6472 T_H: 309.17089999999996 epsilon_C: 9.81+/-0.21\n",
      "time (s): 2100 T_K: 273.42679999999996 T_H: 320.5972 epsilon_C: 6.80+/-0.09\n"
     ]
    }
   ],
   "source": [
    "for time_step in range(0,40,5):\n",
    "    if time_step == 5 or time_step == 15 or time_step == 35:\n",
    "        print(\"time (s):\", time_step*60,\"T_K:\", temp_cold[time_step*60], \"T_H:\", temp_hot[time_step*60], \"epsilon_C:\", 1/(1-(ufloat(temp_cold[time_step*60], 0.5)/ufloat(temp_hot[time_step*60], 0.5))))"
   ]
  },
  {
   "cell_type": "markdown",
   "id": "fec921d1",
   "metadata": {},
   "source": [
    "$\\varepsilon'_C = \\dfrac{1}{\\frac{T_H}{T_K}-1}$"
   ]
  },
  {
   "cell_type": "code",
   "execution_count": 8,
   "id": "82e90f72",
   "metadata": {},
   "outputs": [
    {
     "name": "stdout",
     "output_type": "stream",
     "text": [
      "time (s): 300 T_K: 285.0395 T_H: 299.1078 epsilon'_C: 20.3+/-1.0\n",
      "time (s): 900 T_K: 277.6472 T_H: 309.17089999999996 epsilon'_C: 8.81+/-0.21\n",
      "time (s): 2100 T_K: 273.42679999999996 T_H: 320.5972 epsilon'_C: 5.80+/-0.09\n"
     ]
    }
   ],
   "source": [
    "for time_step in range(0,40,5):\n",
    "    if time_step == 5 or time_step == 15 or time_step == 35:\n",
    "        print(\"time (s):\", time_step*60,\"T_K:\", temp_cold[time_step*60], \"T_H:\", temp_hot[time_step*60], \"epsilon'_C:\", 1/((ufloat(temp_hot[time_step*60], 0.5)/ufloat(temp_cold[time_step*60], 0.5))-1))"
   ]
  },
  {
   "cell_type": "markdown",
   "id": "7463c6ae",
   "metadata": {},
   "source": []
  }
 ],
 "metadata": {
  "kernelspec": {
   "display_name": "Python 3 (ipykernel)",
   "language": "python",
   "name": "python3"
  },
  "language_info": {
   "codemirror_mode": {
    "name": "ipython",
    "version": 3
   },
   "file_extension": ".py",
   "mimetype": "text/x-python",
   "name": "python",
   "nbconvert_exporter": "python",
   "pygments_lexer": "ipython3",
   "version": "3.8.9"
  }
 },
 "nbformat": 4,
 "nbformat_minor": 5
}
